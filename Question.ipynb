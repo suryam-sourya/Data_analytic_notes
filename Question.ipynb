{
 "cells": [
  {
   "cell_type": "code",
   "execution_count": null,
   "metadata": {},
   "outputs": [],
   "source": [
    "# Name the keyboard which help in writing code involves condtions."
   ]
  },
  {
   "cell_type": "code",
   "execution_count": null,
   "metadata": {},
   "outputs": [],
   "source": [
    "# Write the syntax of simple if statement."
   ]
  },
  {
   "cell_type": "code",
   "execution_count": null,
   "metadata": {},
   "outputs": [],
   "source": [
    "# Is there any limit of statement that can appear under an if block."
   ]
  },
  {
   "cell_type": "code",
   "execution_count": null,
   "metadata": {},
   "outputs": [],
   "source": [
    "# Write a program to check whether a person is eligible for voting or not. (accept age from user)\n"
   ]
  },
  {
   "cell_type": "code",
   "execution_count": null,
   "metadata": {},
   "outputs": [],
   "source": [
    "# Write a program to check whether a number entered by user is even or odd.\n"
   ]
  },
  {
   "cell_type": "code",
   "execution_count": null,
   "metadata": {},
   "outputs": [],
   "source": [
    "#  Write a program to check whether a number is divisible by 7 or not."
   ]
  },
  {
   "cell_type": "code",
   "execution_count": null,
   "metadata": {},
   "outputs": [],
   "source": [
    "# Write a program to display \"Hello\" if a number entered by user is a multiple of five, otherwise print \"Bye\".\n"
   ]
  },
  {
   "cell_type": "code",
   "execution_count": null,
   "metadata": {},
   "outputs": [],
   "source": [
    "#  Write a program to calculate the electricity bill (accept the number of units from the user) according to the following criteria:\n",
    "\n",
    "# Unit\t                Price\n",
    "# First 100 units \t    no charge\n",
    "# Next 100 units\t    Rs 5 per unit\n",
    "# After 200 units\t    Rs 10 per \n",
    "# (For example, if the input unit is 350, then the total bill amount is Rs 2000)"
   ]
  },
  {
   "cell_type": "code",
   "execution_count": null,
   "metadata": {},
   "outputs": [],
   "source": [
    "#  Write a program to display the last digit of a number.\n",
    "\n",
    "# (Hint: any number % 10 will return the last digit)"
   ]
  },
  {
   "cell_type": "code",
   "execution_count": null,
   "metadata": {},
   "outputs": [],
   "source": [
    "# Write a program to check whether the last digit of a number (entered by user) is divisible by 3 or not.\n"
   ]
  },
  {
   "cell_type": "code",
   "execution_count": null,
   "metadata": {},
   "outputs": [],
   "source": [
    "# Write a program to accept the cost price of a bike and display the road tax to be paid according to the following criteria :\n",
    "# Cost price (in Rs)        Tax\n",
    "# > 100000                   15%\n",
    "# > 50000 and <= 100000      10%\n",
    "# < = 50000                  5%"
   ]
  },
  {
   "cell_type": "code",
   "execution_count": null,
   "metadata": {},
   "outputs": [],
   "source": [
    "# Write a program to check whether an years is leap year or not."
   ]
  },
  {
   "cell_type": "code",
   "execution_count": null,
   "metadata": {},
   "outputs": [],
   "source": [
    "# Write a program to accept a number from 1 to 7 and display the name of the day like 1 for Sunday, 2 for Monday and so on.\n"
   ]
  },
  {
   "cell_type": "code",
   "execution_count": null,
   "metadata": {},
   "outputs": [],
   "source": [
    "# Write a program to accept a number from 1 to 12 and display name of the month and days in that month like 1 for January and number of days 31 and so on"
   ]
  },
  {
   "cell_type": "code",
   "execution_count": null,
   "metadata": {},
   "outputs": [],
   "source": [
    "# Write the logical expression for the following:\n",
    "# A is greater than B and C is greater than D"
   ]
  },
  {
   "cell_type": "code",
   "execution_count": null,
   "metadata": {},
   "outputs": [],
   "source": [
    "# Accept any city from the user and display monument of that city.\n",
    "# City\tMonument\n",
    "# Delhi\tRed Fort\n",
    "# Agra\tTaj Mahal\n",
    "# Jaipur Jal Mahal1"
   ]
  },
  {
   "cell_type": "code",
   "execution_count": null,
   "metadata": {},
   "outputs": [],
   "source": [
    "# Q1. Write a program to check whether a number entered is three digit number or not."
   ]
  },
  {
   "cell_type": "code",
   "execution_count": null,
   "metadata": {},
   "outputs": [],
   "source": [
    "# q2. Write a program to find the lowest number out of two numbers excepted from user."
   ]
  },
  {
   "cell_type": "code",
   "execution_count": null,
   "metadata": {},
   "outputs": [],
   "source": [
    "# q3. Write a program to find the largest number out of two numbers excepted from user."
   ]
  },
  {
   "cell_type": "code",
   "execution_count": null,
   "metadata": {},
   "outputs": [],
   "source": [
    "# q4. Write a program to check whether a number (accepted from user) is positive or negative."
   ]
  },
  {
   "cell_type": "code",
   "execution_count": null,
   "metadata": {},
   "outputs": [],
   "source": [
    "# write a program to whether a number is divisible by 2 and 3 both \n"
   ]
  },
  {
   "cell_type": "code",
   "execution_count": null,
   "metadata": {},
   "outputs": [],
   "source": [
    "# write a program to find largest number out of three numbers "
   ]
  },
  {
   "cell_type": "code",
   "execution_count": null,
   "metadata": {},
   "outputs": [],
   "source": [
    "# 9. Develop a program that calculates the area of a triangle given its base and height.\n",
    "\n",
    "# 10. Implement a Python program that simulates a basic calculator. It should take two numbers and an operator (+, -, *, /) as input and perform the corresponding calculation.\n",
    "\n",
    "# 11. Write a program that takes a user's score as input and assigns a grade (A, B, C, D, or F) based on the following grading scale: A >= 90, B >= 80, C >= 70, D >= 60, F < 60.\n",
    "\n",
    "# 12. Create a program that determines if a given year is a \"century year\" (ends in 00) and whether it's a leap year.\n",
    "\n",
    "# 13. Write a Python function that finds the maximum of three numbers.# 1. Write a Python program to check if a number is positive, negative, or zero.\n",
    "\n",
    "# 2. Create a program that takes a user's age as input and determines if they are eligible to vote (18 or older).\n",
    "\n",
    "# 3. Write a Python function that checks if a given year is a leap year.\n",
    "\n",
    "# 4. Create a program that calculates the discount on a purchase based on the total amount. If the total is greater than $100, apply a 10% discount; otherwise, apply a 5% discount.\n",
    "\n",
    "# 5. Write a program that takes a temperature in Celsius as input and converts it to Fahrenheit using the formula: F = (C * 9/5) + 32.\n",
    "\n",
    "# 6. Build a Python program that calculates the BMI (Body Mass Index) of a person based on their weight (in kg) and height (in meters) and provides a classification (Underweight, Normal, Overweight, or Obese).\n",
    "\n",
    "# 7. Create a program that determines whether a given number is even or odd.\n",
    "\n",
    "# 8. Write a Python function that ch\n",
    "\n",
    "# 14. Build a program that checks if a given character is a vowel or a consonant.\n",
    "\n",
    "# 15. Create a program that determines if a given number is a prime number.\n",
    "\n",
    "# 16. Write a Python function that computes the factorial of a non-negative integer.\n",
    "\n",
    "# 17. Develop a program that calculates the sum of all even numbers in a given range.\n",
    "\n",
    "# 18. Implement a program that calculates the roots of a quadratic equation (ax^2 + bx + c = 0).\n",
    "\n",
    "# 19. Write a Python program that checks if a given year is a \"special year\" (a year that is divisible by 4 but not by 100 or divisible by 400).\n",
    "\n",
    "# 20. Create a program that takes two integers as input and finds their greatest common divisor (GCD) using the Euclidean algorithm."
   ]
  },
  {
   "cell_type": "code",
   "execution_count": null,
   "metadata": {},
   "outputs": [],
   "source": [
    "# Section A: Basic Concepts (10 Marks)\n",
    "# Write a Python program to determine whether a number is divisible by 5 and 7.\n",
    "# (2 Marks)\n",
    "\n",
    "# Create a program that takes the name of the day (e.g., \"Monday\") as input and outputs whether it is a weekday or weekend.\n",
    "# (2 Marks)\n",
    "\n",
    "# Write a Python program to check if a given number lies between 50 and 100 (inclusive).\n",
    "# (2 Marks)\n",
    "\n",
    "# Implement a program that takes a number as input and outputs whether it is a perfect square.\n",
    "# (2 Marks)\n",
    "\n",
    "# Write a Python function to reverse a string without using built-in methods.\n",
    "# (2 Marks)\n",
    "\n",
    "# Section B: Conditional Statements and Functions (20 Marks)\n",
    "# Create a program that calculates the total bill for a customer based on the following rules:\n",
    "\n",
    "# If the total amount exceeds $200, apply a 15% discount.\n",
    "# If the total amount is between $100 and $200, apply a 10% discount.\n",
    "# Otherwise, no discount.\n",
    "# (4 Marks)\n",
    "# Write a Python function that takes a month (1-12) as input and outputs the number of days in that month. Handle leap years for February.\n",
    "# (4 Marks)\n",
    "\n",
    "# Write a program that takes a person's age and determines the life stage:\n",
    "\n",
    "# 0-12 years: Child\n",
    "# 13-19 years: Teenager\n",
    "# 20-59 years: Adult\n",
    "# 60 years and above: Senior\n",
    "# (4 Marks)\n",
    "# Develop a program that accepts three angles of a triangle and determines if the triangle is valid (sum of angles = 180°).\n",
    "# (4 Marks)\n",
    "\n",
    "# Create a Python program that takes a 4-digit integer as input and checks whether it is an Armstrong number.\n",
    "# (4 Marks)\n",
    "\n",
    "# Section C: Problem Solving (20 Marks)\n",
    "# Write a Python program that determines if a given string is a valid password based on the following rules:\n",
    "\n",
    "# At least 8 characters long.\n",
    "# Contains at least one uppercase letter, one lowercase letter, one digit, and one special character.\n",
    "# (5 Marks)\n",
    "# Create a program that takes the coordinates of two points (x1, y1) and (x2, y2) and calculates the distance between them using the formula:\n",
    "# distance = √((x2 - x1)² + (y2 - y1)²)\n",
    "# (5 Marks)\n",
    "\n",
    "# Implement a program to find the sum of all odd numbers in a given range.\n",
    "# (5 Marks)\n",
    "\n",
    "# Write a Python function that takes a list of integers as input and returns the second largest number in the list.\n",
    "# (5 Marks)\n",
    "\n",
    "# Section D: Advanced Questions (Bonus) (10 Marks)\n",
    "# Develop a Python program to generate a Fibonacci sequence up to n terms.\n",
    "# (5 Marks)\n",
    "\n",
    "# Create a Python function to find the smallest number that is evenly divisible by all integers from 1 to 10.\n",
    "# (5 Marks)"
   ]
  }
 ],
 "metadata": {
  "language_info": {
   "name": "python"
  }
 },
 "nbformat": 4,
 "nbformat_minor": 2
}
