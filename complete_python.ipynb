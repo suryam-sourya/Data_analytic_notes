{
 "cells": [
  {
   "cell_type": "code",
   "execution_count": 1,
   "metadata": {},
   "outputs": [
    {
     "name": "stdout",
     "output_type": "stream",
     "text": [
      "conntent that you wana print on screen\n"
     ]
    }
   ],
   "source": [
    "# Basic\n",
    "\n",
    "# showing output to user\n",
    "\n",
    "print(\"conntent that you wana print on screen\")"
   ]
  },
  {
   "cell_type": "code",
   "execution_count": 2,
   "metadata": {},
   "outputs": [
    {
     "name": "stdout",
     "output_type": "stream",
     "text": [
      "Hi my name is :  shruti\n"
     ]
    }
   ],
   "source": [
    "var1 = \"shruti\"\n",
    "\n",
    "print(\"Hi my name is : \" , var1)"
   ]
  },
  {
   "cell_type": "code",
   "execution_count": null,
   "metadata": {},
   "outputs": [
    {
     "name": "stdout",
     "output_type": "stream",
     "text": [
      "ritu\n"
     ]
    }
   ],
   "source": [
    "#  taking input from user\n",
    "# The input function is used to take input as string or character from the user as follows\n",
    "\n",
    "char2= input(\"enter your name\")\n",
    "print(char2)"
   ]
  },
  {
   "cell_type": "code",
   "execution_count": null,
   "metadata": {},
   "outputs": [],
   "source": [
    "# To take input in form of other datatypes we need to typecaste them as follows:-\n",
    "\n",
    "# To take input as an integer:-\n",
    "\n",
    "var1=int(input(\"enter the integer value\"))\n",
    "print(var1)"
   ]
  },
  {
   "cell_type": "code",
   "execution_count": null,
   "metadata": {},
   "outputs": [],
   "source": [
    "# To take input as an float:-\n",
    "\n",
    "var1=float(input(\"enter the float value\"))\n",
    "print(var1)"
   ]
  },
  {
   "cell_type": "code",
   "execution_count": null,
   "metadata": {},
   "outputs": [],
   "source": [
    "#  Range function\n",
    "\n",
    "# range function returns a sequence of numbers, eg, numbers starting from 0 to n-1 for range(0, n)\n",
    "\n",
    "range(int_start_value,int_stop_value,int_step_value)\n",
    "\n",
    "# Here the start value and step value are by default 1 if not mentioned by the programmer. but int_stop_value is the compulsory parameter in range function"
   ]
  },
  {
   "cell_type": "code",
   "execution_count": null,
   "metadata": {},
   "outputs": [],
   "source": [
    "# Display all even numbers between 1 to 100\n",
    "\n",
    "for i in range(0,101,2):\n",
    "       print(i)"
   ]
  },
  {
   "cell_type": "code",
   "execution_count": null,
   "metadata": {},
   "outputs": [],
   "source": [
    "# Comments\n",
    "# Comments are used to make the code more understandable for programmers, and they are not executed by compiler or interpreter.\n",
    "\n",
    "# Single line comment\n",
    "\n",
    "# This is a single line comment"
   ]
  },
  {
   "cell_type": "code",
   "execution_count": null,
   "metadata": {},
   "outputs": [],
   "source": [
    "# Multi-line comment\n",
    "\n",
    "'''This is a\n",
    "multi-line\n",
    "comment'''"
   ]
  },
  {
   "cell_type": "code",
   "execution_count": null,
   "metadata": {},
   "outputs": [],
   "source": [
    "# Escape Sequence\n",
    "\n",
    "\n",
    "# An escape sequence is a sequence of characters; it doesn't represent itself (but is translated into another character) when used inside string literal or character. \n",
    "# Some of the escape sequence characters are as follows:"
   ]
  },
  {
   "cell_type": "code",
   "execution_count": null,
   "metadata": {},
   "outputs": [],
   "source": [
    "# Newline\n",
    "# Newline Character\n",
    "\n",
    "print(\"\\n\")"
   ]
  },
  {
   "cell_type": "code",
   "execution_count": null,
   "metadata": {},
   "outputs": [],
   "source": [
    "# Backslash\n",
    "# It adds a backslash\n",
    "\n",
    "print(\"\\\\\")"
   ]
  },
  {
   "cell_type": "code",
   "execution_count": null,
   "metadata": {},
   "outputs": [],
   "source": [
    "# Single Quote\n",
    "# It adds a single quotation mark\n",
    "\n",
    "print(\"\\'\")"
   ]
  },
  {
   "cell_type": "code",
   "execution_count": null,
   "metadata": {},
   "outputs": [],
   "source": [
    "# Tab\n",
    "# It gives a tab space\n",
    "\n",
    "print(\"\\t\")"
   ]
  },
  {
   "cell_type": "code",
   "execution_count": null,
   "metadata": {},
   "outputs": [],
   "source": [
    "# Backspace\n",
    "# It adds a backspace\n",
    "\n",
    "print(\"\\b\")"
   ]
  },
  {
   "cell_type": "code",
   "execution_count": null,
   "metadata": {},
   "outputs": [],
   "source": [
    "# Octal value\n",
    "# It represents the value of an octal number\n",
    "\n",
    "print(\"\\ooo\")"
   ]
  },
  {
   "cell_type": "code",
   "execution_count": null,
   "metadata": {},
   "outputs": [],
   "source": [
    "# Hex value\n",
    "# It represents the value of a hex number\n",
    "\n",
    "print(\"\\xhh\")"
   ]
  },
  {
   "cell_type": "code",
   "execution_count": null,
   "metadata": {},
   "outputs": [],
   "source": [
    "# Carriage Return\n",
    "# Carriage return or \\r will just work as you have shifted your cursor to the beginning of the string or line.\n",
    "\n",
    "print(\"\\r\")"
   ]
  },
  {
   "cell_type": "code",
   "execution_count": null,
   "metadata": {},
   "outputs": [],
   "source": [
    "# Strings\n",
    "# Python string is a sequence of characters, and each character can be individually accessed using its index.\n",
    "\n",
    "# String\n",
    "# You can create Strings by enclosing text in both forms of quotes - single quotes or double quotes.\n",
    "\n",
    "variable_name = \"String Data\""
   ]
  },
  {
   "cell_type": "code",
   "execution_count": null,
   "metadata": {},
   "outputs": [],
   "source": [
    "str=\"Shruti\"\n",
    "print(\"string is \",str)"
   ]
  },
  {
   "cell_type": "code",
   "execution_count": null,
   "metadata": {},
   "outputs": [],
   "source": [
    "# Indexing\n",
    "# The position of every character placed in the string starts from 0th position ans step by step it ends at length-1 position"
   ]
  },
  {
   "cell_type": "code",
   "execution_count": null,
   "metadata": {},
   "outputs": [],
   "source": [
    "# Slicing\n",
    "# Slicing refers to obtaining a sub-string from the given string. The following code will include index 1, 2, 3, and 4 for the variable named var_name\n",
    "\n",
    "# Slicing of the string can be obtained by the following syntax-\n",
    "\n",
    "# string_var[int_start_value:int_stop_value:int_step_value]\n",
    "\n",
    "var_name[1 : 5]"
   ]
  },
  {
   "cell_type": "code",
   "execution_count": null,
   "metadata": {},
   "outputs": [],
   "source": [
    "# isalnum() method\n",
    "# Returns True if all the characters in the string are alphanumeric, else False\n",
    "\n",
    "string_variable.isalnum()"
   ]
  },
  {
   "cell_type": "code",
   "execution_count": null,
   "metadata": {},
   "outputs": [],
   "source": [
    "# isalpha() method\n",
    "# Returns True if all the characters in the string are alphabets\n",
    "\n",
    "string_variable.isalpha()"
   ]
  },
  {
   "cell_type": "code",
   "execution_count": null,
   "metadata": {},
   "outputs": [],
   "source": [
    "# isdecimal() method\n",
    "# Returns True if all the characters in the string are decimals\n",
    "\n",
    "string_variable.isdecimal()"
   ]
  },
  {
   "cell_type": "code",
   "execution_count": null,
   "metadata": {},
   "outputs": [],
   "source": [
    "# upper() method\n",
    "# Converts a string into upper case equivalent\n",
    "\n",
    "string_variable.upper()\n",
    "\n",
    "# strip() method\n",
    "# It removes leading and trailing spaces in the string\n",
    "\n",
    "string_variable.strip()"
   ]
  },
  {
   "cell_type": "code",
   "execution_count": null,
   "metadata": {},
   "outputs": [],
   "source": [
    "# isspace() method\n",
    "# Returns True if all characters in the string are whitespaces\n",
    "\n",
    "string_variable.isspace()\n",
    "\n",
    "\n",
    "# isupper() method\n",
    "# Returns True if all characters in the string are upper case\n",
    "\n",
    "string_variable.isupper()\n",
    "\n",
    "\n",
    "# lower() method\n",
    "# Converts a string into lower case equivalent\n",
    "\n",
    "string_variable.lower()"
   ]
  },
  {
   "cell_type": "code",
   "execution_count": null,
   "metadata": {},
   "outputs": [],
   "source": [
    "# List\n",
    "# A List in Python represents a list of comma-separated values of any data type between square brackets.\n",
    "\n",
    "var_name = [element1, element2, ...]"
   ]
  },
  {
   "cell_type": "code",
   "execution_count": null,
   "metadata": {},
   "outputs": [],
   "source": [
    "# Indexing\n",
    "# The position of every elements placed in the string starts from 0th position ans step by step it ends at length-1 position\n",
    "\n",
    "# List is ordered,indexed,mutable and most flexible and dynamic collection of elements in python."
   ]
  },
  {
   "cell_type": "code",
   "execution_count": null,
   "metadata": {},
   "outputs": [],
   "source": [
    "# Empty List\n",
    "# This method allows you to create an empty list\n",
    "\n",
    "my_list = []"
   ]
  },
  {
   "cell_type": "code",
   "execution_count": null,
   "metadata": {},
   "outputs": [],
   "source": [
    "# index method\n",
    "# Returns the index of the first element with the specified value\n",
    "\n",
    "list.index(element)"
   ]
  },
  {
   "cell_type": "code",
   "execution_count": null,
   "metadata": {},
   "outputs": [],
   "source": [
    "# append method\n",
    "# Adds an element at the end of the list\n",
    "\n",
    "list.append(element)"
   ]
  },
  {
   "cell_type": "code",
   "execution_count": null,
   "metadata": {},
   "outputs": [],
   "source": [
    "# extend method\n",
    "# Add the elements of a given list (or any iterable) to the end of the current list\n",
    "\n",
    "list.extend(iterable)"
   ]
  },
  {
   "cell_type": "code",
   "execution_count": null,
   "metadata": {},
   "outputs": [],
   "source": [
    "# insert method\n",
    "# Adds an element at the specified position\n",
    "\n",
    "list.insert(position, element)"
   ]
  },
  {
   "cell_type": "code",
   "execution_count": null,
   "metadata": {},
   "outputs": [],
   "source": [
    "# reverse method\n",
    "# Reverses the order of the list\n",
    "\n",
    "list.reverse()\n",
    "\n",
    "# sort method\n",
    "# Sorts the list\n",
    "\n",
    "list.sort(reverse=True|False)"
   ]
  },
  {
   "cell_type": "code",
   "execution_count": null,
   "metadata": {},
   "outputs": [],
   "source": [
    "# pop method\n",
    "# Removes the element at the specified position and returns it\n",
    "\n",
    "list.pop(position)\n",
    "\n",
    "# remove method\n",
    "# The remove() method removes the first occurrence of a given item from the list\n",
    "\n",
    "list.remove(element)\n",
    "\n",
    "# clear method\n",
    "# Removes all the elements from the list\n",
    "\n",
    "list.clear()\n",
    "\n",
    "# count method\n",
    "# Returns the number of elements with the specified value\n",
    "\n",
    "list.count(value)"
   ]
  },
  {
   "cell_type": "code",
   "execution_count": null,
   "metadata": {},
   "outputs": [],
   "source": []
  }
 ],
 "metadata": {
  "kernelspec": {
   "display_name": "Python 3",
   "language": "python",
   "name": "python3"
  },
  "language_info": {
   "codemirror_mode": {
    "name": "ipython",
    "version": 3
   },
   "file_extension": ".py",
   "mimetype": "text/x-python",
   "name": "python",
   "nbconvert_exporter": "python",
   "pygments_lexer": "ipython3",
   "version": "3.13.0"
  }
 },
 "nbformat": 4,
 "nbformat_minor": 2
}
