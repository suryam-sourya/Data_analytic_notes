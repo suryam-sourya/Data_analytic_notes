{
 "cells": [
  {
   "cell_type": "markdown",
   "id": "4f920b5f",
   "metadata": {},
   "source": [
    "# dataframe"
   ]
  },
  {
   "cell_type": "code",
   "execution_count": null,
   "id": "a91720de",
   "metadata": {},
   "outputs": [],
   "source": [
    "# dataframe is a labeled 2-dimensional array\n",
    "# it contains multiple rows and columns"
   ]
  },
  {
   "cell_type": "code",
   "execution_count": 1,
   "id": "51964fe2",
   "metadata": {},
   "outputs": [],
   "source": [
    "# each column of dataframe act as series\n",
    "# hence , dataframe is nothing but collection of series objects"
   ]
  },
  {
   "cell_type": "code",
   "execution_count": null,
   "id": "8bc46b24",
   "metadata": {},
   "outputs": [],
   "source": []
  },
  {
   "cell_type": "code",
   "execution_count": 4,
   "id": "da1b3f06",
   "metadata": {},
   "outputs": [
    {
     "data": {
      "text/html": [
       "<div>\n",
       "<style scoped>\n",
       "    .dataframe tbody tr th:only-of-type {\n",
       "        vertical-align: middle;\n",
       "    }\n",
       "\n",
       "    .dataframe tbody tr th {\n",
       "        vertical-align: top;\n",
       "    }\n",
       "\n",
       "    .dataframe thead th {\n",
       "        text-align: right;\n",
       "    }\n",
       "</style>\n",
       "<table border=\"1\" class=\"dataframe\">\n",
       "  <thead>\n",
       "    <tr style=\"text-align: right;\">\n",
       "      <th></th>\n",
       "      <th>eno</th>\n",
       "      <th>ename</th>\n",
       "      <th>esal</th>\n",
       "      <th>eadrs</th>\n",
       "    </tr>\n",
       "  </thead>\n",
       "  <tbody>\n",
       "    <tr>\n",
       "      <th>0</th>\n",
       "      <td>10</td>\n",
       "      <td>nitin</td>\n",
       "      <td>1000</td>\n",
       "      <td>doon</td>\n",
       "    </tr>\n",
       "    <tr>\n",
       "      <th>1</th>\n",
       "      <td>20</td>\n",
       "      <td>tina</td>\n",
       "      <td>2000</td>\n",
       "      <td>delhi</td>\n",
       "    </tr>\n",
       "    <tr>\n",
       "      <th>2</th>\n",
       "      <td>30</td>\n",
       "      <td>arun</td>\n",
       "      <td>3000</td>\n",
       "      <td>rishikesh</td>\n",
       "    </tr>\n",
       "    <tr>\n",
       "      <th>3</th>\n",
       "      <td>40</td>\n",
       "      <td>riya</td>\n",
       "      <td>4000</td>\n",
       "      <td>shimla</td>\n",
       "    </tr>\n",
       "  </tbody>\n",
       "</table>\n",
       "</div>"
      ],
      "text/plain": [
       "   eno  ename  esal      eadrs\n",
       "0   10  nitin  1000       doon\n",
       "1   20   tina  2000      delhi\n",
       "2   30   arun  3000  rishikesh\n",
       "3   40   riya  4000     shimla"
      ]
     },
     "execution_count": 4,
     "metadata": {},
     "output_type": "execute_result"
    }
   ],
   "source": [
    "import pandas as pd\n",
    "\n",
    "eno = [10,20,30,40]\n",
    "ename = [\"nitin\" , \"tina\" , \"arun\" ,\"riya\"]\n",
    "esal = [1000,2000,3000,4000]\n",
    "eadrs = [\"doon\" , \"delhi\" , \"rishikesh\" , \"shimla\"]\n",
    "\n",
    "df = pd.DataFrame({\"eno\":eno , \"ename\":ename , \"esal\":esal , \"eadrs\":eadrs})\n",
    "\n",
    "df"
   ]
  },
  {
   "cell_type": "code",
   "execution_count": 7,
   "id": "f6e8ca79",
   "metadata": {},
   "outputs": [
    {
     "name": "stdout",
     "output_type": "stream",
     "text": [
      "2\n",
      "(4, 4)\n"
     ]
    }
   ],
   "source": [
    "print(df.ndim)\n",
    "print(df.shape)"
   ]
  },
  {
   "cell_type": "code",
   "execution_count": 8,
   "id": "3f035a71",
   "metadata": {},
   "outputs": [
    {
     "data": {
      "text/plain": [
       "pandas.core.frame.DataFrame"
      ]
     },
     "execution_count": 8,
     "metadata": {},
     "output_type": "execute_result"
    }
   ],
   "source": [
    "type(df)"
   ]
  },
  {
   "cell_type": "code",
   "execution_count": 11,
   "id": "56223aa2",
   "metadata": {},
   "outputs": [
    {
     "data": {
      "text/plain": [
       "pandas.core.series.Series"
      ]
     },
     "execution_count": 11,
     "metadata": {},
     "output_type": "execute_result"
    }
   ],
   "source": [
    "type(df.ename)"
   ]
  },
  {
   "cell_type": "code",
   "execution_count": 16,
   "id": "e28e5463",
   "metadata": {},
   "outputs": [
    {
     "data": {
      "text/plain": [
       "eno       int64\n",
       "ename    object\n",
       "esal      int64\n",
       "eadrs    object\n",
       "dtype: object"
      ]
     },
     "execution_count": 16,
     "metadata": {},
     "output_type": "execute_result"
    }
   ],
   "source": [
    "df.dtypes    # for 2-d we need to use dtypes"
   ]
  },
  {
   "cell_type": "code",
   "execution_count": null,
   "id": "e5fa95d2",
   "metadata": {},
   "outputs": [],
   "source": []
  },
  {
   "cell_type": "code",
   "execution_count": 22,
   "id": "c3832d0d",
   "metadata": {},
   "outputs": [
    {
     "data": {
      "text/plain": [
       "0      10\n",
       "1     ram\n",
       "2    30.5\n",
       "3       a\n",
       "dtype: object"
      ]
     },
     "execution_count": 22,
     "metadata": {},
     "output_type": "execute_result"
    }
   ],
   "source": [
    "import pandas as pd\n",
    "\n",
    "eno = [10,\"ram\",30.5,\"a\"]\n",
    "\n",
    "s = pd.Series(eno)\n",
    "s"
   ]
  },
  {
   "cell_type": "code",
   "execution_count": 2,
   "id": "c6a5b13a",
   "metadata": {},
   "outputs": [
    {
     "name": "stdout",
     "output_type": "stream",
     "text": [
      "raja nahar singh\n",
      "24\n"
     ]
    }
   ],
   "source": [
    "#oops program.1\n",
    "class person: #create class as person\n",
    "    def __init__(self,name,age): #inhertance default value self with other parameters\n",
    "        self.name=name #call with object.1\n",
    "        self.age=age #call with object.2\n",
    "p1=person(\"noida\",15) #create p1 object for paerson class\n",
    "p2=person(\"raja nahar singh\",24)\n",
    "print(p2.name) #function call.1\n",
    "print(p2.age) #function call.2"
   ]
  },
  {
   "cell_type": "code",
   "execution_count": null,
   "id": "96a52d5c",
   "metadata": {},
   "outputs": [
    {
     "ename": "TypeError",
     "evalue": "person() takes no arguments",
     "output_type": "error",
     "traceback": [
      "\u001b[1;31m---------------------------------------------------------------------------\u001b[0m",
      "\u001b[1;31mTypeError\u001b[0m                                 Traceback (most recent call last)",
      "Cell \u001b[1;32mIn[4], line 6\u001b[0m\n\u001b[0;32m      4\u001b[0m         \u001b[38;5;28mself\u001b[39m\u001b[38;5;241m.\u001b[39mname\u001b[38;5;241m=\u001b[39mname \u001b[38;5;66;03m#call with object.1\u001b[39;00m\n\u001b[0;32m      5\u001b[0m         \u001b[38;5;28mself\u001b[39m\u001b[38;5;241m.\u001b[39mage\u001b[38;5;241m=\u001b[39mage \u001b[38;5;66;03m#call with object.2\u001b[39;00m\n\u001b[1;32m----> 6\u001b[0m p1\u001b[38;5;241m=\u001b[39m\u001b[43mperson\u001b[49m\u001b[43m(\u001b[49m\u001b[38;5;124;43m\"\u001b[39;49m\u001b[38;5;124;43mnoida\u001b[39;49m\u001b[38;5;124;43m\"\u001b[39;49m\u001b[43m,\u001b[49m\u001b[38;5;241;43m15\u001b[39;49m\u001b[43m)\u001b[49m \u001b[38;5;66;03m#create p1 object for paerson class\u001b[39;00m\n\u001b[0;32m      7\u001b[0m p2\u001b[38;5;241m=\u001b[39mperson(\u001b[38;5;124m\"\u001b[39m\u001b[38;5;124mraja nahar singh\u001b[39m\u001b[38;5;124m\"\u001b[39m,\u001b[38;5;241m24\u001b[39m)\n\u001b[0;32m      8\u001b[0m \u001b[38;5;28mprint\u001b[39m(p2\u001b[38;5;241m.\u001b[39mname) \u001b[38;5;66;03m#function call.1\u001b[39;00m\n",
      "\u001b[1;31mTypeError\u001b[0m: person() takes no arguments"
     ]
    }
   ],
   "source": [
    "#oops program.1\n",
    "class person: #create class as person\n",
    "    def init (sname,age): #inhertance default value self with other parameters\n",
    "        self.name=name #call with object.1\n",
    "        #call with object.2\n",
    "p1=person(\"noida\",15) #create p1 object for paerson class\n",
    "p2=person(\"raja nahar singh\",24)\n",
    "print(p2.name) #function call.1\n",
    "print(p2.age) #function call.2"
   ]
  },
  {
   "cell_type": "code",
   "execution_count": 3,
   "id": "5ef2bea8",
   "metadata": {},
   "outputs": [
    {
     "ename": "AttributeError",
     "evalue": "'person' object has no attribute 'course'",
     "output_type": "error",
     "traceback": [
      "\u001b[1;31m---------------------------------------------------------------------------\u001b[0m",
      "\u001b[1;31mAttributeError\u001b[0m                            Traceback (most recent call last)",
      "Cell \u001b[1;32mIn[3], line 8\u001b[0m\n\u001b[0;32m      6\u001b[0m suryam\u001b[38;5;241m=\u001b[39mperson(\u001b[38;5;124m\"\u001b[39m\u001b[38;5;124msuryam sourya\u001b[39m\u001b[38;5;124m\"\u001b[39m,\u001b[38;5;124m\"\u001b[39m\u001b[38;5;124mData analyst\u001b[39m\u001b[38;5;124m\"\u001b[39m)\n\u001b[0;32m      7\u001b[0m muskan\u001b[38;5;241m=\u001b[39mperson(\u001b[38;5;124m\"\u001b[39m\u001b[38;5;124mMuskan Patyal\u001b[39m\u001b[38;5;124m\"\u001b[39m,\u001b[38;5;124m\"\u001b[39m\u001b[38;5;124mData analyst\u001b[39m\u001b[38;5;124m\"\u001b[39m)\n\u001b[1;32m----> 8\u001b[0m \u001b[38;5;28mprint\u001b[39m(ritika\u001b[38;5;241m.\u001b[39mname, \u001b[43mritika\u001b[49m\u001b[38;5;241;43m.\u001b[39;49m\u001b[43mcourse\u001b[49m) \u001b[38;5;66;03m#function call.1\u001b[39;00m\n\u001b[0;32m      9\u001b[0m \u001b[38;5;28mprint\u001b[39m(muskan\u001b[38;5;241m.\u001b[39mname, muskan\u001b[38;5;241m.\u001b[39mcourse) \u001b[38;5;66;03m#function call.2\u001b[39;00m\n\u001b[0;32m     10\u001b[0m \u001b[38;5;28mprint\u001b[39m(suryam\u001b[38;5;241m.\u001b[39mname, suryam\u001b[38;5;241m.\u001b[39mcourse)\n",
      "\u001b[1;31mAttributeError\u001b[0m: 'person' object has no attribute 'course'"
     ]
    }
   ],
   "source": [
    "\n",
    "class data_analyst: #create class as person\n",
    "    def __init__(self,name,course): #inhertance default value self with other parameters\n",
    "        self.name=name #call with object.1\n",
    "        self.course=course #call with object.2\n",
    "ritika=person(\"Rittika shukla\",\"Data analyst\") #create p1 object for paerson class\n",
    "suryam=person(\"suryam sourya\",\"Data analyst\")\n",
    "muskan=person(\"Muskan Patyal\",\"Data analyst\")\n",
    "print(ritika.name, ritika.course) #function call.1\n",
    "print(muskan.name, muskan.course) #function call.2\n",
    "print(suryam.name, suryam.course)"
   ]
  },
  {
   "cell_type": "markdown",
   "id": "579d98e3",
   "metadata": {},
   "source": [
    "# various ways to create dataframe object"
   ]
  },
  {
   "cell_type": "code",
   "execution_count": 23,
   "id": "b31a52f5",
   "metadata": {},
   "outputs": [],
   "source": [
    "# 1.  from dict of list objects "
   ]
  },
  {
   "cell_type": "code",
   "execution_count": 1,
   "id": "be846023",
   "metadata": {},
   "outputs": [],
   "source": [
    "# here each key acts as column name and values is list of values for that column"
   ]
  },
  {
   "cell_type": "code",
   "execution_count": 2,
   "id": "b3e2eb9b",
   "metadata": {},
   "outputs": [
    {
     "data": {
      "text/html": [
       "<div>\n",
       "<style scoped>\n",
       "    .dataframe tbody tr th:only-of-type {\n",
       "        vertical-align: middle;\n",
       "    }\n",
       "\n",
       "    .dataframe tbody tr th {\n",
       "        vertical-align: top;\n",
       "    }\n",
       "\n",
       "    .dataframe thead th {\n",
       "        text-align: right;\n",
       "    }\n",
       "</style>\n",
       "<table border=\"1\" class=\"dataframe\">\n",
       "  <thead>\n",
       "    <tr style=\"text-align: right;\">\n",
       "      <th></th>\n",
       "      <th>eno</th>\n",
       "      <th>ename</th>\n",
       "      <th>esal</th>\n",
       "      <th>eadrs</th>\n",
       "    </tr>\n",
       "  </thead>\n",
       "  <tbody>\n",
       "    <tr>\n",
       "      <th>0</th>\n",
       "      <td>10</td>\n",
       "      <td>nitin</td>\n",
       "      <td>1000</td>\n",
       "      <td>doon</td>\n",
       "    </tr>\n",
       "    <tr>\n",
       "      <th>1</th>\n",
       "      <td>20</td>\n",
       "      <td>tina</td>\n",
       "      <td>2000</td>\n",
       "      <td>delhi</td>\n",
       "    </tr>\n",
       "    <tr>\n",
       "      <th>2</th>\n",
       "      <td>30</td>\n",
       "      <td>arun</td>\n",
       "      <td>3000</td>\n",
       "      <td>rishikesh</td>\n",
       "    </tr>\n",
       "    <tr>\n",
       "      <th>3</th>\n",
       "      <td>40</td>\n",
       "      <td>riya</td>\n",
       "      <td>4000</td>\n",
       "      <td>shimla</td>\n",
       "    </tr>\n",
       "  </tbody>\n",
       "</table>\n",
       "</div>"
      ],
      "text/plain": [
       "   eno  ename  esal      eadrs\n",
       "0   10  nitin  1000       doon\n",
       "1   20   tina  2000      delhi\n",
       "2   30   arun  3000  rishikesh\n",
       "3   40   riya  4000     shimla"
      ]
     },
     "execution_count": 2,
     "metadata": {},
     "output_type": "execute_result"
    }
   ],
   "source": [
    "import pandas as pd\n",
    "\n",
    "eno = [10,20,30,40]\n",
    "ename = [\"nitin\" , \"tina\" , \"arun\" ,\"riya\"]\n",
    "esal = [1000,2000,3000,4000]\n",
    "eadrs = [\"doon\" , \"delhi\" , \"rishikesh\" , \"shimla\"]\n",
    "\n",
    "df = pd.DataFrame({\"eno\":eno , \"ename\":ename , \"esal\":esal , \"eadrs\":eadrs})\n",
    "\n",
    "df"
   ]
  },
  {
   "cell_type": "code",
   "execution_count": null,
   "id": "a58699af",
   "metadata": {},
   "outputs": [],
   "source": []
  },
  {
   "cell_type": "code",
   "execution_count": 28,
   "id": "b5fb1fd5",
   "metadata": {},
   "outputs": [],
   "source": [
    "# 2. from dict of tuple objects\n",
    "# instead of list objects we can use tuple objects also"
   ]
  },
  {
   "cell_type": "code",
   "execution_count": 29,
   "id": "43cb0726",
   "metadata": {},
   "outputs": [
    {
     "data": {
      "text/html": [
       "<div>\n",
       "<style scoped>\n",
       "    .dataframe tbody tr th:only-of-type {\n",
       "        vertical-align: middle;\n",
       "    }\n",
       "\n",
       "    .dataframe tbody tr th {\n",
       "        vertical-align: top;\n",
       "    }\n",
       "\n",
       "    .dataframe thead th {\n",
       "        text-align: right;\n",
       "    }\n",
       "</style>\n",
       "<table border=\"1\" class=\"dataframe\">\n",
       "  <thead>\n",
       "    <tr style=\"text-align: right;\">\n",
       "      <th></th>\n",
       "      <th>eno</th>\n",
       "      <th>ename</th>\n",
       "      <th>esal</th>\n",
       "      <th>eadrs</th>\n",
       "    </tr>\n",
       "  </thead>\n",
       "  <tbody>\n",
       "    <tr>\n",
       "      <th>0</th>\n",
       "      <td>10</td>\n",
       "      <td>nitin</td>\n",
       "      <td>1000</td>\n",
       "      <td>doon</td>\n",
       "    </tr>\n",
       "    <tr>\n",
       "      <th>1</th>\n",
       "      <td>20</td>\n",
       "      <td>tina</td>\n",
       "      <td>2000</td>\n",
       "      <td>delhi</td>\n",
       "    </tr>\n",
       "    <tr>\n",
       "      <th>2</th>\n",
       "      <td>30</td>\n",
       "      <td>arun</td>\n",
       "      <td>3000</td>\n",
       "      <td>rishikesh</td>\n",
       "    </tr>\n",
       "    <tr>\n",
       "      <th>3</th>\n",
       "      <td>40</td>\n",
       "      <td>riya</td>\n",
       "      <td>4000</td>\n",
       "      <td>shimla</td>\n",
       "    </tr>\n",
       "  </tbody>\n",
       "</table>\n",
       "</div>"
      ],
      "text/plain": [
       "   eno  ename  esal      eadrs\n",
       "0   10  nitin  1000       doon\n",
       "1   20   tina  2000      delhi\n",
       "2   30   arun  3000  rishikesh\n",
       "3   40   riya  4000     shimla"
      ]
     },
     "execution_count": 29,
     "metadata": {},
     "output_type": "execute_result"
    }
   ],
   "source": [
    "import pandas as pd\n",
    "\n",
    "eno = (10,20,30,40)\n",
    "ename = (\"nitin\" , \"tina\" , \"arun\" ,\"riya\")\n",
    "esal = (1000,2000,3000,4000)\n",
    "eadrs = (\"doon\" , \"delhi\" , \"rishikesh\" , \"shimla\")\n",
    "\n",
    "df = pd.DataFrame({\"eno\":eno , \"ename\":ename , \"esal\":esal , \"eadrs\":eadrs})\n",
    "\n",
    "df"
   ]
  },
  {
   "cell_type": "code",
   "execution_count": null,
   "id": "0d8e0f1a",
   "metadata": {},
   "outputs": [],
   "source": []
  },
  {
   "cell_type": "code",
   "execution_count": 31,
   "id": "524c5a6d",
   "metadata": {},
   "outputs": [],
   "source": [
    "# 3. from dict of series objects\n",
    "\n",
    "# dataframe is nothing bt collection of series objects"
   ]
  },
  {
   "cell_type": "code",
   "execution_count": 33,
   "id": "086fdb0e",
   "metadata": {},
   "outputs": [
    {
     "data": {
      "text/html": [
       "<div>\n",
       "<style scoped>\n",
       "    .dataframe tbody tr th:only-of-type {\n",
       "        vertical-align: middle;\n",
       "    }\n",
       "\n",
       "    .dataframe tbody tr th {\n",
       "        vertical-align: top;\n",
       "    }\n",
       "\n",
       "    .dataframe thead th {\n",
       "        text-align: right;\n",
       "    }\n",
       "</style>\n",
       "<table border=\"1\" class=\"dataframe\">\n",
       "  <thead>\n",
       "    <tr style=\"text-align: right;\">\n",
       "      <th></th>\n",
       "      <th>eno</th>\n",
       "      <th>ename</th>\n",
       "      <th>esal</th>\n",
       "      <th>eadrs</th>\n",
       "    </tr>\n",
       "  </thead>\n",
       "  <tbody>\n",
       "    <tr>\n",
       "      <th>0</th>\n",
       "      <td>10</td>\n",
       "      <td>nitin</td>\n",
       "      <td>1000</td>\n",
       "      <td>doon</td>\n",
       "    </tr>\n",
       "    <tr>\n",
       "      <th>1</th>\n",
       "      <td>20</td>\n",
       "      <td>tina</td>\n",
       "      <td>2000</td>\n",
       "      <td>delhi</td>\n",
       "    </tr>\n",
       "    <tr>\n",
       "      <th>2</th>\n",
       "      <td>30</td>\n",
       "      <td>arun</td>\n",
       "      <td>3000</td>\n",
       "      <td>rishikesh</td>\n",
       "    </tr>\n",
       "    <tr>\n",
       "      <th>3</th>\n",
       "      <td>40</td>\n",
       "      <td>riya</td>\n",
       "      <td>4000</td>\n",
       "      <td>shimla</td>\n",
       "    </tr>\n",
       "  </tbody>\n",
       "</table>\n",
       "</div>"
      ],
      "text/plain": [
       "   eno  ename  esal      eadrs\n",
       "0   10  nitin  1000       doon\n",
       "1   20   tina  2000      delhi\n",
       "2   30   arun  3000  rishikesh\n",
       "3   40   riya  4000     shimla"
      ]
     },
     "execution_count": 33,
     "metadata": {},
     "output_type": "execute_result"
    }
   ],
   "source": [
    "import pandas as pd\n",
    "\n",
    "eno = pd.Series([10,20,30,40])\n",
    "ename = pd.Series([\"nitin\" , \"tina\" , \"arun\" ,\"riya\"])\n",
    "esal = pd.Series([1000,2000,3000,4000])\n",
    "eadrs = pd.Series([\"doon\" , \"delhi\" , \"rishikesh\" , \"shimla\"])\n",
    "\n",
    "df = pd.DataFrame({\"eno\":eno , \"ename\":ename , \"esal\":esal , \"eadrs\":eadrs})\n",
    "\n",
    "df"
   ]
  },
  {
   "cell_type": "code",
   "execution_count": null,
   "id": "5b58d1bc",
   "metadata": {},
   "outputs": [],
   "source": []
  },
  {
   "cell_type": "code",
   "execution_count": 34,
   "id": "3b92ffb8",
   "metadata": {},
   "outputs": [],
   "source": [
    "# 4. from dict of dicts"
   ]
  },
  {
   "cell_type": "code",
   "execution_count": 4,
   "id": "7cbc7c48",
   "metadata": {},
   "outputs": [
    {
     "data": {
      "text/html": [
       "<div>\n",
       "<style scoped>\n",
       "    .dataframe tbody tr th:only-of-type {\n",
       "        vertical-align: middle;\n",
       "    }\n",
       "\n",
       "    .dataframe tbody tr th {\n",
       "        vertical-align: top;\n",
       "    }\n",
       "\n",
       "    .dataframe thead th {\n",
       "        text-align: right;\n",
       "    }\n",
       "</style>\n",
       "<table border=\"1\" class=\"dataframe\">\n",
       "  <thead>\n",
       "    <tr style=\"text-align: right;\">\n",
       "      <th></th>\n",
       "      <th>eno</th>\n",
       "      <th>ename</th>\n",
       "      <th>esal</th>\n",
       "      <th>eadrs</th>\n",
       "    </tr>\n",
       "  </thead>\n",
       "  <tbody>\n",
       "    <tr>\n",
       "      <th>0</th>\n",
       "      <td>10</td>\n",
       "      <td>nitin</td>\n",
       "      <td>1000</td>\n",
       "      <td>doon</td>\n",
       "    </tr>\n",
       "    <tr>\n",
       "      <th>1</th>\n",
       "      <td>20</td>\n",
       "      <td>tina</td>\n",
       "      <td>2000</td>\n",
       "      <td>delhi</td>\n",
       "    </tr>\n",
       "    <tr>\n",
       "      <th>2</th>\n",
       "      <td>30</td>\n",
       "      <td>arun</td>\n",
       "      <td>3000</td>\n",
       "      <td>rishikesh</td>\n",
       "    </tr>\n",
       "    <tr>\n",
       "      <th>3</th>\n",
       "      <td>40</td>\n",
       "      <td>riya</td>\n",
       "      <td>4000</td>\n",
       "      <td>shimla</td>\n",
       "    </tr>\n",
       "  </tbody>\n",
       "</table>\n",
       "</div>"
      ],
      "text/plain": [
       "   eno  ename  esal      eadrs\n",
       "0   10  nitin  1000       doon\n",
       "1   20   tina  2000      delhi\n",
       "2   30   arun  3000  rishikesh\n",
       "3   40   riya  4000     shimla"
      ]
     },
     "execution_count": 4,
     "metadata": {},
     "output_type": "execute_result"
    }
   ],
   "source": [
    "import pandas as pd\n",
    "\n",
    "eno = {0:10,1:20,2:30,3:40}\n",
    "\n",
    "ename = {0:\"nitin\" , 1:\"tina\" , 2:\"arun\" ,3:\"riya\"}\n",
    "\n",
    "esal = {0:1000,1:2000,2:3000,3:4000 }\n",
    "\n",
    "eadrs = {0:\"doon\" , 1:\"delhi\" , 2:\"rishikesh\" , 3:\"shimla\"}\n",
    "\n",
    "df = pd.DataFrame({\"eno\":eno , \"ename\":ename , \"esal\":esal , \"eadrs\":eadrs})\n",
    "\n",
    "df"
   ]
  },
  {
   "cell_type": "code",
   "execution_count": null,
   "id": "7acb34c8",
   "metadata": {},
   "outputs": [],
   "source": []
  },
  {
   "cell_type": "code",
   "execution_count": 37,
   "id": "36614299",
   "metadata": {},
   "outputs": [],
   "source": [
    "# 5. from list of dicts"
   ]
  },
  {
   "cell_type": "code",
   "execution_count": 6,
   "id": "eed1d272",
   "metadata": {},
   "outputs": [
    {
     "data": {
      "text/html": [
       "<div>\n",
       "<style scoped>\n",
       "    .dataframe tbody tr th:only-of-type {\n",
       "        vertical-align: middle;\n",
       "    }\n",
       "\n",
       "    .dataframe tbody tr th {\n",
       "        vertical-align: top;\n",
       "    }\n",
       "\n",
       "    .dataframe thead th {\n",
       "        text-align: right;\n",
       "    }\n",
       "</style>\n",
       "<table border=\"1\" class=\"dataframe\">\n",
       "  <thead>\n",
       "    <tr style=\"text-align: right;\">\n",
       "      <th></th>\n",
       "      <th>eno</th>\n",
       "      <th>ename</th>\n",
       "      <th>esal</th>\n",
       "      <th>eadrs</th>\n",
       "    </tr>\n",
       "  </thead>\n",
       "  <tbody>\n",
       "    <tr>\n",
       "      <th>0</th>\n",
       "      <td>10</td>\n",
       "      <td>tina</td>\n",
       "      <td>1000</td>\n",
       "      <td>rishikesh</td>\n",
       "    </tr>\n",
       "    <tr>\n",
       "      <th>1</th>\n",
       "      <td>20</td>\n",
       "      <td>nitin</td>\n",
       "      <td>2000</td>\n",
       "      <td>delhi</td>\n",
       "    </tr>\n",
       "    <tr>\n",
       "      <th>2</th>\n",
       "      <td>30</td>\n",
       "      <td>riya</td>\n",
       "      <td>3000</td>\n",
       "      <td>doon</td>\n",
       "    </tr>\n",
       "    <tr>\n",
       "      <th>3</th>\n",
       "      <td>40</td>\n",
       "      <td>sachin</td>\n",
       "      <td>4000</td>\n",
       "      <td>shimla</td>\n",
       "    </tr>\n",
       "  </tbody>\n",
       "</table>\n",
       "</div>"
      ],
      "text/plain": [
       "   eno   ename  esal      eadrs\n",
       "0   10    tina  1000  rishikesh\n",
       "1   20   nitin  2000      delhi\n",
       "2   30    riya  3000       doon\n",
       "3   40  sachin  4000     shimla"
      ]
     },
     "execution_count": 6,
     "metadata": {},
     "output_type": "execute_result"
    }
   ],
   "source": [
    "import pandas as pd\n",
    "\n",
    "d1 = {\"eno\":10, \"ename\":\"tina\" , \"esal\":1000 , \"eadrs\":\"rishikesh\"}\n",
    "\n",
    "d2 = {\"eno\":20, \"ename\":\"nitin\" , \"esal\":2000 , \"eadrs\":\"delhi\"}\n",
    "\n",
    "d3 = {\"eno\":30, \"ename\":\"riya\" , \"esal\":3000 , \"eadrs\":\"doon\"}\n",
    "\n",
    "d4 = {\"eno\":40, \"ename\":\"sachin\" , \"esal\":4000 , \"eadrs\":\"shimla\"}\n",
    "\n",
    "l = [d1,d2,d3,d4]\n",
    "\n",
    "df = pd.DataFrame(l)\n",
    "\n",
    "df"
   ]
  },
  {
   "cell_type": "code",
   "execution_count": 1,
   "id": "9271325b",
   "metadata": {},
   "outputs": [],
   "source": [
    "# list of list"
   ]
  },
  {
   "cell_type": "code",
   "execution_count": 2,
   "id": "830c3c5c",
   "metadata": {},
   "outputs": [
    {
     "data": {
      "text/html": [
       "<div>\n",
       "<style scoped>\n",
       "    .dataframe tbody tr th:only-of-type {\n",
       "        vertical-align: middle;\n",
       "    }\n",
       "\n",
       "    .dataframe tbody tr th {\n",
       "        vertical-align: top;\n",
       "    }\n",
       "\n",
       "    .dataframe thead th {\n",
       "        text-align: right;\n",
       "    }\n",
       "</style>\n",
       "<table border=\"1\" class=\"dataframe\">\n",
       "  <thead>\n",
       "    <tr style=\"text-align: right;\">\n",
       "      <th></th>\n",
       "      <th>a</th>\n",
       "      <th>b</th>\n",
       "      <th>c</th>\n",
       "      <th>d</th>\n",
       "    </tr>\n",
       "  </thead>\n",
       "  <tbody>\n",
       "    <tr>\n",
       "      <th>0</th>\n",
       "      <td>10</td>\n",
       "      <td>20</td>\n",
       "      <td>30</td>\n",
       "      <td>40</td>\n",
       "    </tr>\n",
       "    <tr>\n",
       "      <th>1</th>\n",
       "      <td>nitin</td>\n",
       "      <td>tina</td>\n",
       "      <td>arun</td>\n",
       "      <td>riya</td>\n",
       "    </tr>\n",
       "    <tr>\n",
       "      <th>2</th>\n",
       "      <td>1000</td>\n",
       "      <td>2000</td>\n",
       "      <td>3000</td>\n",
       "      <td>4000</td>\n",
       "    </tr>\n",
       "    <tr>\n",
       "      <th>3</th>\n",
       "      <td>doon</td>\n",
       "      <td>delhi</td>\n",
       "      <td>rishikesh</td>\n",
       "      <td>shimla</td>\n",
       "    </tr>\n",
       "  </tbody>\n",
       "</table>\n",
       "</div>"
      ],
      "text/plain": [
       "       a      b          c       d\n",
       "0     10     20         30      40\n",
       "1  nitin   tina       arun    riya\n",
       "2   1000   2000       3000    4000\n",
       "3   doon  delhi  rishikesh  shimla"
      ]
     },
     "execution_count": 2,
     "metadata": {},
     "output_type": "execute_result"
    }
   ],
   "source": [
    "import pandas as pd\n",
    "\n",
    "l1 = [10,20,30,40]\n",
    "l2 = [\"nitin\" , \"tina\" , \"arun\" ,\"riya\"]\n",
    "l3 = [1000,2000,3000,4000]\n",
    "l4 = [\"doon\" , \"delhi\" , \"rishikesh\" , \"shimla\"]\n",
    "\n",
    "df = pd.DataFrame([l1,l2,l3,l4] ,columns  = [\"a\"  , \"b\" , \"c\" , \"d\"] )\n",
    "\n",
    "df"
   ]
  },
  {
   "cell_type": "code",
   "execution_count": 3,
   "id": "7349969f",
   "metadata": {},
   "outputs": [
    {
     "data": {
      "text/html": [
       "<div>\n",
       "<style scoped>\n",
       "    .dataframe tbody tr th:only-of-type {\n",
       "        vertical-align: middle;\n",
       "    }\n",
       "\n",
       "    .dataframe tbody tr th {\n",
       "        vertical-align: top;\n",
       "    }\n",
       "\n",
       "    .dataframe thead th {\n",
       "        text-align: right;\n",
       "    }\n",
       "</style>\n",
       "<table border=\"1\" class=\"dataframe\">\n",
       "  <thead>\n",
       "    <tr style=\"text-align: right;\">\n",
       "      <th></th>\n",
       "      <th>0</th>\n",
       "      <th>1</th>\n",
       "      <th>2</th>\n",
       "      <th>3</th>\n",
       "    </tr>\n",
       "  </thead>\n",
       "  <tbody>\n",
       "    <tr>\n",
       "      <th>0</th>\n",
       "      <td>10</td>\n",
       "      <td>20</td>\n",
       "      <td>30</td>\n",
       "      <td>40</td>\n",
       "    </tr>\n",
       "    <tr>\n",
       "      <th>1</th>\n",
       "      <td>nitin</td>\n",
       "      <td>tina</td>\n",
       "      <td>arun</td>\n",
       "      <td>riya</td>\n",
       "    </tr>\n",
       "    <tr>\n",
       "      <th>2</th>\n",
       "      <td>1000</td>\n",
       "      <td>2000</td>\n",
       "      <td>3000</td>\n",
       "      <td>4000</td>\n",
       "    </tr>\n",
       "    <tr>\n",
       "      <th>3</th>\n",
       "      <td>doon</td>\n",
       "      <td>delhi</td>\n",
       "      <td>rishikesh</td>\n",
       "      <td>shimla</td>\n",
       "    </tr>\n",
       "  </tbody>\n",
       "</table>\n",
       "</div>"
      ],
      "text/plain": [
       "       0      1          2       3\n",
       "0     10     20         30      40\n",
       "1  nitin   tina       arun    riya\n",
       "2   1000   2000       3000    4000\n",
       "3   doon  delhi  rishikesh  shimla"
      ]
     },
     "execution_count": 3,
     "metadata": {},
     "output_type": "execute_result"
    }
   ],
   "source": [
    "x = [[10,20,30,40] , [\"nitin\" , \"tina\" , \"arun\" ,\"riya\"],[1000,2000,3000,4000],\n",
    "     [\"doon\" , \"delhi\" , \"rishikesh\" , \"shimla\"]]\n",
    "\n",
    "pd.DataFrame(x)"
   ]
  },
  {
   "cell_type": "code",
   "execution_count": null,
   "id": "ebdd6cf9",
   "metadata": {},
   "outputs": [],
   "source": []
  },
  {
   "cell_type": "code",
   "execution_count": null,
   "id": "3319630f",
   "metadata": {},
   "outputs": [],
   "source": []
  },
  {
   "cell_type": "code",
   "execution_count": null,
   "id": "547d450d",
   "metadata": {},
   "outputs": [],
   "source": []
  },
  {
   "cell_type": "code",
   "execution_count": null,
   "id": "2ec082eb-8c22-4e4f-978f-97ff4db86e02",
   "metadata": {},
   "outputs": [],
   "source": []
  },
  {
   "cell_type": "code",
   "execution_count": null,
   "id": "dab912d3-432d-4963-a657-977e6af345ee",
   "metadata": {},
   "outputs": [],
   "source": []
  },
  {
   "cell_type": "code",
   "execution_count": null,
   "id": "84a7b0c9-5e19-4e00-9d50-43ded39df94b",
   "metadata": {},
   "outputs": [],
   "source": []
  },
  {
   "cell_type": "code",
   "execution_count": null,
   "id": "2ab23b24-519e-4bc5-b64a-335a4e540d4d",
   "metadata": {},
   "outputs": [],
   "source": []
  }
 ],
 "metadata": {
  "kernelspec": {
   "display_name": "Python 3",
   "language": "python",
   "name": "python3"
  },
  "language_info": {
   "codemirror_mode": {
    "name": "ipython",
    "version": 3
   },
   "file_extension": ".py",
   "mimetype": "text/x-python",
   "name": "python",
   "nbconvert_exporter": "python",
   "pygments_lexer": "ipython3",
   "version": "3.13.0"
  }
 },
 "nbformat": 4,
 "nbformat_minor": 5
}
