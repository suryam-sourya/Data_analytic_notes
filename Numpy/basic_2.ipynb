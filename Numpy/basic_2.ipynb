{
 "cells": [
  {
   "cell_type": "code",
   "execution_count": null,
   "id": "1621cf43",
   "metadata": {},
   "outputs": [],
   "source": []
  },
  {
   "cell_type": "code",
   "execution_count": 1,
   "id": "c7060993",
   "metadata": {},
   "outputs": [],
   "source": [
    "# most of the methods and attributes of series are applicable of dataframe also"
   ]
  },
  {
   "cell_type": "code",
   "execution_count": 2,
   "id": "f1c28f5a",
   "metadata": {},
   "outputs": [],
   "source": [
    "import pandas as pd"
   ]
  },
  {
   "cell_type": "code",
   "execution_count": 6,
   "id": "33746eb6",
   "metadata": {},
   "outputs": [
    {
     "data": {
      "text/html": [
       "<div>\n",
       "<style scoped>\n",
       "    .dataframe tbody tr th:only-of-type {\n",
       "        vertical-align: middle;\n",
       "    }\n",
       "\n",
       "    .dataframe tbody tr th {\n",
       "        vertical-align: top;\n",
       "    }\n",
       "\n",
       "    .dataframe thead th {\n",
       "        text-align: right;\n",
       "    }\n",
       "</style>\n",
       "<table border=\"1\" class=\"dataframe\">\n",
       "  <thead>\n",
       "    <tr style=\"text-align: right;\">\n",
       "      <th></th>\n",
       "      <th>id</th>\n",
       "      <th>name of students</th>\n",
       "      <th>marks</th>\n",
       "    </tr>\n",
       "  </thead>\n",
       "  <tbody>\n",
       "    <tr>\n",
       "      <th>0</th>\n",
       "      <td>1</td>\n",
       "      <td>nitin</td>\n",
       "      <td>200</td>\n",
       "    </tr>\n",
       "    <tr>\n",
       "      <th>1</th>\n",
       "      <td>2</td>\n",
       "      <td>arun</td>\n",
       "      <td>300</td>\n",
       "    </tr>\n",
       "    <tr>\n",
       "      <th>2</th>\n",
       "      <td>3</td>\n",
       "      <td>pinky</td>\n",
       "      <td>400</td>\n",
       "    </tr>\n",
       "    <tr>\n",
       "      <th>3</th>\n",
       "      <td>4</td>\n",
       "      <td>simmi</td>\n",
       "      <td>500</td>\n",
       "    </tr>\n",
       "    <tr>\n",
       "      <th>4</th>\n",
       "      <td>5</td>\n",
       "      <td>tannu</td>\n",
       "      <td>400</td>\n",
       "    </tr>\n",
       "    <tr>\n",
       "      <th>5</th>\n",
       "      <td>6</td>\n",
       "      <td>kajal</td>\n",
       "      <td>800</td>\n",
       "    </tr>\n",
       "    <tr>\n",
       "      <th>6</th>\n",
       "      <td>7</td>\n",
       "      <td>himanshu</td>\n",
       "      <td>900</td>\n",
       "    </tr>\n",
       "    <tr>\n",
       "      <th>7</th>\n",
       "      <td>8</td>\n",
       "      <td>riya</td>\n",
       "      <td>1000</td>\n",
       "    </tr>\n",
       "    <tr>\n",
       "      <th>8</th>\n",
       "      <td>9</td>\n",
       "      <td>tina</td>\n",
       "      <td>400</td>\n",
       "    </tr>\n",
       "    <tr>\n",
       "      <th>9</th>\n",
       "      <td>10</td>\n",
       "      <td>sonu</td>\n",
       "      <td>500</td>\n",
       "    </tr>\n",
       "    <tr>\n",
       "      <th>10</th>\n",
       "      <td>11</td>\n",
       "      <td>anil</td>\n",
       "      <td>1000</td>\n",
       "    </tr>\n",
       "    <tr>\n",
       "      <th>11</th>\n",
       "      <td>12</td>\n",
       "      <td>ram</td>\n",
       "      <td>300</td>\n",
       "    </tr>\n",
       "    <tr>\n",
       "      <th>12</th>\n",
       "      <td>13</td>\n",
       "      <td>ritu</td>\n",
       "      <td>200</td>\n",
       "    </tr>\n",
       "    <tr>\n",
       "      <th>13</th>\n",
       "      <td>14</td>\n",
       "      <td>kaushal</td>\n",
       "      <td>800</td>\n",
       "    </tr>\n",
       "    <tr>\n",
       "      <th>14</th>\n",
       "      <td>15</td>\n",
       "      <td>padam</td>\n",
       "      <td>700</td>\n",
       "    </tr>\n",
       "    <tr>\n",
       "      <th>15</th>\n",
       "      <td>16</td>\n",
       "      <td>manish</td>\n",
       "      <td>200</td>\n",
       "    </tr>\n",
       "    <tr>\n",
       "      <th>16</th>\n",
       "      <td>17</td>\n",
       "      <td>renu</td>\n",
       "      <td>600</td>\n",
       "    </tr>\n",
       "    <tr>\n",
       "      <th>17</th>\n",
       "      <td>18</td>\n",
       "      <td>monu</td>\n",
       "      <td>300</td>\n",
       "    </tr>\n",
       "    <tr>\n",
       "      <th>18</th>\n",
       "      <td>19</td>\n",
       "      <td>ankit</td>\n",
       "      <td>200</td>\n",
       "    </tr>\n",
       "    <tr>\n",
       "      <th>19</th>\n",
       "      <td>20</td>\n",
       "      <td>pankaj</td>\n",
       "      <td>400</td>\n",
       "    </tr>\n",
       "  </tbody>\n",
       "</table>\n",
       "</div>"
      ],
      "text/plain": [
       "    id name of students  marks\n",
       "0    1            nitin    200\n",
       "1    2             arun    300\n",
       "2    3            pinky    400\n",
       "3    4            simmi    500\n",
       "4    5            tannu    400\n",
       "5    6            kajal    800\n",
       "6    7         himanshu    900\n",
       "7    8             riya   1000\n",
       "8    9             tina    400\n",
       "9   10             sonu    500\n",
       "10  11             anil   1000\n",
       "11  12              ram    300\n",
       "12  13             ritu    200\n",
       "13  14          kaushal    800\n",
       "14  15            padam    700\n",
       "15  16           manish    200\n",
       "16  17             renu    600\n",
       "17  18             monu    300\n",
       "18  19            ankit    200\n",
       "19  20           pankaj    400"
      ]
     },
     "execution_count": 6,
     "metadata": {},
     "output_type": "execute_result"
    }
   ],
   "source": [
    "df = pd.read_csv(\"students.csv\")\n",
    "df"
   ]
  },
  {
   "cell_type": "code",
   "execution_count": null,
   "id": "0fdfd0cc",
   "metadata": {},
   "outputs": [],
   "source": []
  },
  {
   "cell_type": "code",
   "execution_count": 20,
   "id": "e4e5792b",
   "metadata": {},
   "outputs": [
    {
     "name": "stdout",
     "output_type": "stream",
     "text": [
      "   name of students  marks\n",
      "id                        \n",
      "1             nitin    200\n",
      "2              arun    300\n",
      "3             pinky    400\n",
      "4             simmi    500\n",
      "   name of students  marks\n",
      "id                        \n",
      "18             monu    300\n",
      "19            ankit    200\n",
      "20           pankaj    400\n"
     ]
    }
   ],
   "source": [
    "df = pd.read_csv(\"students.csv\" , index_col = \"id\")\n",
    "\n",
    "print(df.head(n = 4))\n",
    "\n",
    "print(df.tail(n = 3))"
   ]
  },
  {
   "cell_type": "code",
   "execution_count": 28,
   "id": "a251a078",
   "metadata": {},
   "outputs": [
    {
     "name": "stdout",
     "output_type": "stream",
     "text": [
      "(20, 2)\n",
      "2\n",
      "40\n",
      "Int64Index([1, 2, 3, 4, 5, 6, 7, 8, 9, 10, 11, 12, 13, 14, 15, 16, 17, 18, 19,\n",
      "            20],\n",
      "           dtype='int64', name='id')\n",
      "[['nitin' 200]\n",
      " ['arun' 300]\n",
      " ['pinky' 400]\n",
      " ['simmi' 500]\n",
      " ['tannu' 400]\n",
      " ['kajal' 800]\n",
      " ['himanshu' 900]\n",
      " ['riya' 1000]\n",
      " ['tina' 400]\n",
      " ['sonu' 500]\n",
      " ['anil' 1000]\n",
      " ['ram' 300]\n",
      " ['ritu' 200]\n",
      " ['kaushal' 800]\n",
      " ['padam' 700]\n",
      " ['manish' 200]\n",
      " ['renu' 600]\n",
      " ['monu' 300]\n",
      " ['ankit' 200]\n",
      " ['pankaj' 400]]\n"
     ]
    }
   ],
   "source": [
    "print(df.shape)\n",
    "print(df.ndim)\n",
    "print(df.size)\n",
    "print(df.index)\n",
    "print(df.values)"
   ]
  },
  {
   "cell_type": "code",
   "execution_count": 29,
   "id": "03b5ac47",
   "metadata": {},
   "outputs": [],
   "source": [
    "# info() method"
   ]
  },
  {
   "cell_type": "code",
   "execution_count": 33,
   "id": "23c97115",
   "metadata": {},
   "outputs": [
    {
     "name": "stdout",
     "output_type": "stream",
     "text": [
      "<class 'pandas.core.frame.DataFrame'>\n",
      "RangeIndex: 20 entries, 0 to 19\n",
      "Data columns (total 3 columns):\n",
      " #   Column            Non-Null Count  Dtype \n",
      "---  ------            --------------  ----- \n",
      " 0   id                20 non-null     int64 \n",
      " 1   name of students  20 non-null     object\n",
      " 2   marks             20 non-null     int64 \n",
      "dtypes: int64(2), object(1)\n",
      "memory usage: 464.0+ bytes\n",
      "None\n"
     ]
    }
   ],
   "source": [
    "import pandas as pd\n",
    "\n",
    "df = pd.read_csv(\"students.csv\")\n",
    "\n",
    "print(df.info())    # only for dataframe"
   ]
  },
  {
   "cell_type": "code",
   "execution_count": null,
   "id": "a8b37920",
   "metadata": {},
   "outputs": [],
   "source": []
  },
  {
   "cell_type": "code",
   "execution_count": 39,
   "id": "5eec3546",
   "metadata": {},
   "outputs": [
    {
     "name": "stdout",
     "output_type": "stream",
     "text": [
      "<class 'pandas.core.frame.DataFrame'>\n",
      "RangeIndex: 20 entries, 0 to 19\n",
      "Columns: 3 entries, id to marks\n",
      "dtypes: int64(2), object(1)\n",
      "memory usage: 464.0+ bytes\n",
      "None\n"
     ]
    }
   ],
   "source": [
    "import pandas as pd\n",
    "\n",
    "df = pd.read_csv(\"students.csv\")\n",
    "\n",
    "print(df.info(verbose = False))   # for summary"
   ]
  },
  {
   "cell_type": "code",
   "execution_count": null,
   "id": "51622ca3",
   "metadata": {},
   "outputs": [],
   "source": []
  },
  {
   "cell_type": "code",
   "execution_count": 111,
   "id": "2fff36c3",
   "metadata": {},
   "outputs": [
    {
     "data": {
      "text/html": [
       "<div>\n",
       "<style scoped>\n",
       "    .dataframe tbody tr th:only-of-type {\n",
       "        vertical-align: middle;\n",
       "    }\n",
       "\n",
       "    .dataframe tbody tr th {\n",
       "        vertical-align: top;\n",
       "    }\n",
       "\n",
       "    .dataframe thead th {\n",
       "        text-align: right;\n",
       "    }\n",
       "</style>\n",
       "<table border=\"1\" class=\"dataframe\">\n",
       "  <thead>\n",
       "    <tr style=\"text-align: right;\">\n",
       "      <th></th>\n",
       "      <th>eno</th>\n",
       "      <th>ename</th>\n",
       "      <th>esal</th>\n",
       "      <th>eadrs</th>\n",
       "    </tr>\n",
       "  </thead>\n",
       "  <tbody>\n",
       "    <tr>\n",
       "      <th>0</th>\n",
       "      <td>10</td>\n",
       "      <td>nitin</td>\n",
       "      <td>1000</td>\n",
       "      <td>doon</td>\n",
       "    </tr>\n",
       "    <tr>\n",
       "      <th>1</th>\n",
       "      <td>20</td>\n",
       "      <td>tina</td>\n",
       "      <td>2000</td>\n",
       "      <td>delhi</td>\n",
       "    </tr>\n",
       "    <tr>\n",
       "      <th>2</th>\n",
       "      <td>30</td>\n",
       "      <td>arun</td>\n",
       "      <td>3000</td>\n",
       "      <td>rishikesh</td>\n",
       "    </tr>\n",
       "    <tr>\n",
       "      <th>3</th>\n",
       "      <td>40</td>\n",
       "      <td>riya</td>\n",
       "      <td>4000</td>\n",
       "      <td>shimla</td>\n",
       "    </tr>\n",
       "    <tr>\n",
       "      <th>4</th>\n",
       "      <td>50</td>\n",
       "      <td>None</td>\n",
       "      <td>5000</td>\n",
       "      <td>&lt;NA&gt;</td>\n",
       "    </tr>\n",
       "  </tbody>\n",
       "</table>\n",
       "</div>"
      ],
      "text/plain": [
       "   eno  ename  esal      eadrs\n",
       "0   10  nitin  1000       doon\n",
       "1   20   tina  2000      delhi\n",
       "2   30   arun  3000  rishikesh\n",
       "3   40   riya  4000     shimla\n",
       "4   50   None  5000       <NA>"
      ]
     },
     "execution_count": 111,
     "metadata": {},
     "output_type": "execute_result"
    }
   ],
   "source": [
    "import pandas as pd\n",
    "\n",
    "eno = [10,20,30,40 , 50]\n",
    "ename = [\"nitin\" , \"tina\" , \"arun\" ,\"riya\" ,None]\n",
    "esal = [1000,2000,3000,4000 , 5000]\n",
    "eadrs = [\"doon\" , \"delhi\" , \"rishikesh\" , \"shimla\" , pd.NA]\n",
    "\n",
    "df = pd.DataFrame({\"eno\":eno , \"ename\":ename , \"esal\":esal , \"eadrs\":eadrs})\n",
    "\n",
    "df"
   ]
  },
  {
   "cell_type": "code",
   "execution_count": 48,
   "id": "805ca844",
   "metadata": {},
   "outputs": [
    {
     "name": "stdout",
     "output_type": "stream",
     "text": [
      "<class 'pandas.core.frame.DataFrame'>\n",
      "RangeIndex: 5 entries, 0 to 4\n",
      "Data columns (total 4 columns):\n",
      " #   Column  Non-Null Count  Dtype \n",
      "---  ------  --------------  ----- \n",
      " 0   eno     5 non-null      int64 \n",
      " 1   ename   4 non-null      object\n",
      " 2   esal    5 non-null      int64 \n",
      " 3   eadrs   4 non-null      object\n",
      "dtypes: int64(2), object(2)\n",
      "memory usage: 184.0+ bytes\n"
     ]
    }
   ],
   "source": [
    "df.info(show_counts = True)"
   ]
  },
  {
   "cell_type": "code",
   "execution_count": 51,
   "id": "e1028b9b",
   "metadata": {},
   "outputs": [
    {
     "name": "stdout",
     "output_type": "stream",
     "text": [
      "<class 'pandas.core.frame.DataFrame'>\n",
      "RangeIndex: 5 entries, 0 to 4\n",
      "Data columns (total 4 columns):\n",
      " #   Column  Non-Null Count  Dtype \n",
      "---  ------  --------------  ----- \n",
      " 0   eno     5 non-null      int64 \n",
      " 1   ename   4 non-null      object\n",
      " 2   esal    5 non-null      int64 \n",
      " 3   eadrs   4 non-null      object\n",
      "dtypes: int64(2), object(2)\n",
      "memory usage: 184.0+ bytes\n"
     ]
    },
    {
     "name": "stderr",
     "output_type": "stream",
     "text": [
      "<ipython-input-51-a6d95acf2e87>:1: FutureWarning: null_counts is deprecated. Use show_counts instead\n",
      "  df.info(null_counts = True)\n"
     ]
    }
   ],
   "source": [
    "df.info(null_counts = True)"
   ]
  },
  {
   "cell_type": "code",
   "execution_count": 53,
   "id": "c64bef21",
   "metadata": {},
   "outputs": [
    {
     "name": "stdout",
     "output_type": "stream",
     "text": [
      "<class 'pandas.core.frame.DataFrame'>\n",
      "RangeIndex: 5 entries, 0 to 4\n",
      "Data columns (total 4 columns):\n",
      " #   Column  Dtype \n",
      "---  ------  ----- \n",
      " 0   eno     int64 \n",
      " 1   ename   object\n",
      " 2   esal    int64 \n",
      " 3   eadrs   object\n",
      "dtypes: int64(2), object(2)\n",
      "memory usage: 184.0+ bytes\n"
     ]
    },
    {
     "name": "stderr",
     "output_type": "stream",
     "text": [
      "<ipython-input-53-ce316d47521b>:1: FutureWarning: null_counts is deprecated. Use show_counts instead\n",
      "  df.info(null_counts = False)\n"
     ]
    }
   ],
   "source": [
    "df.info(null_counts = False)"
   ]
  },
  {
   "cell_type": "code",
   "execution_count": null,
   "id": "4a89df41",
   "metadata": {},
   "outputs": [],
   "source": []
  },
  {
   "cell_type": "code",
   "execution_count": 54,
   "id": "afaade76",
   "metadata": {},
   "outputs": [],
   "source": [
    "# sample() method\n",
    "# we can use sample method to get random records"
   ]
  },
  {
   "cell_type": "code",
   "execution_count": 6,
   "id": "4535f9f9",
   "metadata": {},
   "outputs": [
    {
     "name": "stdout",
     "output_type": "stream",
     "text": [
      "******************\n",
      "   name of students  marks\n",
      "id                        \n",
      "9              tina    400\n",
      "10             sonu    500\n",
      "4             simmi    500\n",
      "1             nitin    200\n",
      "16           manish    200\n",
      "3             pinky    400\n",
      "14          kaushal    800\n"
     ]
    }
   ],
   "source": [
    "import pandas as pd\n",
    "\n",
    "df = pd.read_csv(\"students.csv\" , index_col = \"id\")\n",
    "\n",
    "# print(df.sample())\n",
    "\n",
    "print(\"******************\")\n",
    "\n",
    "print(df.sample(n= 7))"
   ]
  },
  {
   "cell_type": "code",
   "execution_count": null,
   "id": "a4c57ae9",
   "metadata": {},
   "outputs": [],
   "source": []
  },
  {
   "cell_type": "code",
   "execution_count": 69,
   "id": "1ea18fa3",
   "metadata": {},
   "outputs": [],
   "source": [
    "# to get specified fraction of records from total\n",
    "# we have to use frac option"
   ]
  },
  {
   "cell_type": "code",
   "execution_count": 7,
   "id": "ee9d3aa4",
   "metadata": {},
   "outputs": [
    {
     "data": {
      "text/html": [
       "<div>\n",
       "<style scoped>\n",
       "    .dataframe tbody tr th:only-of-type {\n",
       "        vertical-align: middle;\n",
       "    }\n",
       "\n",
       "    .dataframe tbody tr th {\n",
       "        vertical-align: top;\n",
       "    }\n",
       "\n",
       "    .dataframe thead th {\n",
       "        text-align: right;\n",
       "    }\n",
       "</style>\n",
       "<table border=\"1\" class=\"dataframe\">\n",
       "  <thead>\n",
       "    <tr style=\"text-align: right;\">\n",
       "      <th></th>\n",
       "      <th>name of students</th>\n",
       "      <th>marks</th>\n",
       "    </tr>\n",
       "    <tr>\n",
       "      <th>id</th>\n",
       "      <th></th>\n",
       "      <th></th>\n",
       "    </tr>\n",
       "  </thead>\n",
       "  <tbody>\n",
       "    <tr>\n",
       "      <th>6</th>\n",
       "      <td>kajal</td>\n",
       "      <td>800</td>\n",
       "    </tr>\n",
       "    <tr>\n",
       "      <th>14</th>\n",
       "      <td>kaushal</td>\n",
       "      <td>800</td>\n",
       "    </tr>\n",
       "    <tr>\n",
       "      <th>7</th>\n",
       "      <td>himanshu</td>\n",
       "      <td>900</td>\n",
       "    </tr>\n",
       "    <tr>\n",
       "      <th>19</th>\n",
       "      <td>ankit</td>\n",
       "      <td>200</td>\n",
       "    </tr>\n",
       "    <tr>\n",
       "      <th>10</th>\n",
       "      <td>sonu</td>\n",
       "      <td>500</td>\n",
       "    </tr>\n",
       "  </tbody>\n",
       "</table>\n",
       "</div>"
      ],
      "text/plain": [
       "   name of students  marks\n",
       "id                        \n",
       "6             kajal    800\n",
       "14          kaushal    800\n",
       "7          himanshu    900\n",
       "19            ankit    200\n",
       "10             sonu    500"
      ]
     },
     "execution_count": 7,
     "metadata": {},
     "output_type": "execute_result"
    }
   ],
   "source": [
    "df = pd.read_csv(\"students.csv\" , index_col = \"id\")\n",
    "\n",
    "df.sample(frac = .25)  # to get 25% of total records"
   ]
  },
  {
   "cell_type": "code",
   "execution_count": null,
   "id": "327b47bd",
   "metadata": {},
   "outputs": [],
   "source": []
  },
  {
   "cell_type": "code",
   "execution_count": null,
   "id": "0943af39",
   "metadata": {},
   "outputs": [],
   "source": []
  },
  {
   "cell_type": "code",
   "execution_count": 95,
   "id": "d55cbca7",
   "metadata": {},
   "outputs": [
    {
     "data": {
      "text/plain": [
       "object    1\n",
       "int64     1\n",
       "dtype: int64"
      ]
     },
     "execution_count": 95,
     "metadata": {},
     "output_type": "execute_result"
    }
   ],
   "source": [
    "df = pd.read_csv(\"students.csv\" , index_col = \"id\")\n",
    "\n",
    "df.dtypes\n",
    "\n",
    "df.dtypes.value_counts() # return no of columns w.r.t to data types"
   ]
  },
  {
   "cell_type": "code",
   "execution_count": null,
   "id": "44328c9a",
   "metadata": {},
   "outputs": [],
   "source": []
  },
  {
   "cell_type": "code",
   "execution_count": 120,
   "id": "93096275",
   "metadata": {},
   "outputs": [
    {
     "data": {
      "text/plain": [
       "Index(['name of students', 'marks'], dtype='object')"
      ]
     },
     "execution_count": 120,
     "metadata": {},
     "output_type": "execute_result"
    }
   ],
   "source": [
    "df = pd.read_csv(\"students.csv\" , index_col = \"id\")\n",
    "\n",
    "df.columns"
   ]
  },
  {
   "cell_type": "code",
   "execution_count": 121,
   "id": "228394d4",
   "metadata": {},
   "outputs": [
    {
     "name": "stdout",
     "output_type": "stream",
     "text": [
      "[Int64Index([1, 2, 3, 4, 5, 6, 7, 8, 9, 10, 11, 12, 13, 14, 15, 16, 17, 18, 19,\n",
      "            20],\n",
      "           dtype='int64', name='id'), Index(['name of students', 'marks'], dtype='object')]\n"
     ]
    }
   ],
   "source": [
    "print(df.axes)"
   ]
  },
  {
   "cell_type": "code",
   "execution_count": null,
   "id": "58bb4e4d",
   "metadata": {},
   "outputs": [],
   "source": []
  },
  {
   "cell_type": "code",
   "execution_count": 123,
   "id": "457da2b6",
   "metadata": {},
   "outputs": [],
   "source": [
    "# how to select only one requird column from dataframe\n",
    "\n",
    "# df.column_name\n",
    "\n",
    "# df[\"column_name\"]"
   ]
  },
  {
   "cell_type": "code",
   "execution_count": 130,
   "id": "70256537",
   "metadata": {},
   "outputs": [
    {
     "data": {
      "text/html": [
       "<div>\n",
       "<style scoped>\n",
       "    .dataframe tbody tr th:only-of-type {\n",
       "        vertical-align: middle;\n",
       "    }\n",
       "\n",
       "    .dataframe tbody tr th {\n",
       "        vertical-align: top;\n",
       "    }\n",
       "\n",
       "    .dataframe thead th {\n",
       "        text-align: right;\n",
       "    }\n",
       "</style>\n",
       "<table border=\"1\" class=\"dataframe\">\n",
       "  <thead>\n",
       "    <tr style=\"text-align: right;\">\n",
       "      <th></th>\n",
       "      <th>eno</th>\n",
       "      <th>ename</th>\n",
       "      <th>esal</th>\n",
       "      <th>eadrs</th>\n",
       "    </tr>\n",
       "  </thead>\n",
       "  <tbody>\n",
       "    <tr>\n",
       "      <th>0</th>\n",
       "      <td>10</td>\n",
       "      <td>nitin</td>\n",
       "      <td>1000</td>\n",
       "      <td>doon</td>\n",
       "    </tr>\n",
       "    <tr>\n",
       "      <th>1</th>\n",
       "      <td>20</td>\n",
       "      <td>tina</td>\n",
       "      <td>2000</td>\n",
       "      <td>delhi</td>\n",
       "    </tr>\n",
       "    <tr>\n",
       "      <th>2</th>\n",
       "      <td>30</td>\n",
       "      <td>arun</td>\n",
       "      <td>3000</td>\n",
       "      <td>rishikesh</td>\n",
       "    </tr>\n",
       "    <tr>\n",
       "      <th>3</th>\n",
       "      <td>40</td>\n",
       "      <td>riya</td>\n",
       "      <td>4000</td>\n",
       "      <td>shimla</td>\n",
       "    </tr>\n",
       "    <tr>\n",
       "      <th>4</th>\n",
       "      <td>50</td>\n",
       "      <td>None</td>\n",
       "      <td>5000</td>\n",
       "      <td>&lt;NA&gt;</td>\n",
       "    </tr>\n",
       "  </tbody>\n",
       "</table>\n",
       "</div>"
      ],
      "text/plain": [
       "   eno  ename  esal      eadrs\n",
       "0   10  nitin  1000       doon\n",
       "1   20   tina  2000      delhi\n",
       "2   30   arun  3000  rishikesh\n",
       "3   40   riya  4000     shimla\n",
       "4   50   None  5000       <NA>"
      ]
     },
     "execution_count": 130,
     "metadata": {},
     "output_type": "execute_result"
    }
   ],
   "source": [
    "import pandas as pd\n",
    "\n",
    "eno = [10,20,30,40 , 50]\n",
    "ename = [\"nitin\" , \"tina\" , \"arun\" ,\"riya\" ,None]\n",
    "esal = [1000,2000,3000,4000 , 5000]\n",
    "eadrs = [\"doon\" , \"delhi\" , \"rishikesh\" , \"shimla\" , pd.NA]\n",
    "\n",
    "df = pd.DataFrame({\"eno\":eno , \"ename\":ename , \"esal\":esal , \"eadrs\":eadrs})\n",
    "\n",
    "df"
   ]
  },
  {
   "cell_type": "code",
   "execution_count": 131,
   "id": "92014790",
   "metadata": {},
   "outputs": [
    {
     "name": "stdout",
     "output_type": "stream",
     "text": [
      "0    1000\n",
      "1    2000\n",
      "2    3000\n",
      "3    4000\n",
      "4    5000\n",
      "Name: esal, dtype: int64\n"
     ]
    }
   ],
   "source": [
    "df[\"esal\"]\n",
    "print(df.esal)"
   ]
  },
  {
   "cell_type": "code",
   "execution_count": 132,
   "id": "3abd76f7",
   "metadata": {},
   "outputs": [],
   "source": [
    "# if col name contain space\n",
    "\n",
    "# df[\"column name\"]  -- recommended"
   ]
  },
  {
   "cell_type": "code",
   "execution_count": 134,
   "id": "46af9483",
   "metadata": {},
   "outputs": [
    {
     "data": {
      "text/html": [
       "<div>\n",
       "<style scoped>\n",
       "    .dataframe tbody tr th:only-of-type {\n",
       "        vertical-align: middle;\n",
       "    }\n",
       "\n",
       "    .dataframe tbody tr th {\n",
       "        vertical-align: top;\n",
       "    }\n",
       "\n",
       "    .dataframe thead th {\n",
       "        text-align: right;\n",
       "    }\n",
       "</style>\n",
       "<table border=\"1\" class=\"dataframe\">\n",
       "  <thead>\n",
       "    <tr style=\"text-align: right;\">\n",
       "      <th></th>\n",
       "      <th>eno</th>\n",
       "      <th>e name</th>\n",
       "      <th>esal</th>\n",
       "      <th>eadrs</th>\n",
       "    </tr>\n",
       "  </thead>\n",
       "  <tbody>\n",
       "    <tr>\n",
       "      <th>0</th>\n",
       "      <td>10</td>\n",
       "      <td>nitin</td>\n",
       "      <td>1000</td>\n",
       "      <td>doon</td>\n",
       "    </tr>\n",
       "    <tr>\n",
       "      <th>1</th>\n",
       "      <td>20</td>\n",
       "      <td>tina</td>\n",
       "      <td>2000</td>\n",
       "      <td>delhi</td>\n",
       "    </tr>\n",
       "    <tr>\n",
       "      <th>2</th>\n",
       "      <td>30</td>\n",
       "      <td>arun</td>\n",
       "      <td>3000</td>\n",
       "      <td>rishikesh</td>\n",
       "    </tr>\n",
       "    <tr>\n",
       "      <th>3</th>\n",
       "      <td>40</td>\n",
       "      <td>riya</td>\n",
       "      <td>4000</td>\n",
       "      <td>shimla</td>\n",
       "    </tr>\n",
       "    <tr>\n",
       "      <th>4</th>\n",
       "      <td>50</td>\n",
       "      <td>None</td>\n",
       "      <td>5000</td>\n",
       "      <td>&lt;NA&gt;</td>\n",
       "    </tr>\n",
       "  </tbody>\n",
       "</table>\n",
       "</div>"
      ],
      "text/plain": [
       "   eno e name  esal      eadrs\n",
       "0   10  nitin  1000       doon\n",
       "1   20   tina  2000      delhi\n",
       "2   30   arun  3000  rishikesh\n",
       "3   40   riya  4000     shimla\n",
       "4   50   None  5000       <NA>"
      ]
     },
     "execution_count": 134,
     "metadata": {},
     "output_type": "execute_result"
    }
   ],
   "source": [
    "import pandas as pd\n",
    "\n",
    "eno = [10,20,30,40 , 50]\n",
    "ename = [\"nitin\" , \"tina\" , \"arun\" ,\"riya\" ,None]\n",
    "esal = [1000,2000,3000,4000 , 5000]\n",
    "eadrs = [\"doon\" , \"delhi\" , \"rishikesh\" , \"shimla\" , pd.NA]\n",
    "\n",
    "df = pd.DataFrame({\"eno\":eno , \"e name\":ename , \"esal\":esal , \"eadrs\":eadrs})\n",
    "\n",
    "df"
   ]
  },
  {
   "cell_type": "code",
   "execution_count": 138,
   "id": "a2a39895",
   "metadata": {},
   "outputs": [
    {
     "ename": "SyntaxError",
     "evalue": "invalid syntax (<ipython-input-138-f300ae8b271b>, line 3)",
     "output_type": "error",
     "traceback": [
      "\u001b[1;36m  File \u001b[1;32m\"<ipython-input-138-f300ae8b271b>\"\u001b[1;36m, line \u001b[1;32m3\u001b[0m\n\u001b[1;33m    df.e name    #  --> invalid\u001b[0m\n\u001b[1;37m         ^\u001b[0m\n\u001b[1;31mSyntaxError\u001b[0m\u001b[1;31m:\u001b[0m invalid syntax\n"
     ]
    }
   ],
   "source": [
    "df[\"e name\"]\n",
    "\n",
    "df.e name    #  --> invalid"
   ]
  },
  {
   "cell_type": "code",
   "execution_count": 140,
   "id": "81c56934",
   "metadata": {},
   "outputs": [],
   "source": [
    "# how to select multiple column from dataframe\n",
    "\n",
    "# df[[list of required columns]]"
   ]
  },
  {
   "cell_type": "code",
   "execution_count": 141,
   "id": "7a130b42",
   "metadata": {},
   "outputs": [],
   "source": [
    "import pandas as pd\n",
    "\n",
    "eno = [10,20,30,40 , 50]\n",
    "ename = [\"nitin\" , \"tina\" , \"arun\" ,\"riya\" ,None]\n",
    "esal = [1000,2000,3000,4000 , 5000]\n",
    "eadrs = [\"doon\" , \"delhi\" , \"rishikesh\" , \"shimla\" , pd.NA]\n",
    "\n",
    "df = pd.DataFrame({\"eno\":eno , \"ename\":ename , \"esal\":esal , \"eadrs\":eadrs})\n",
    "\n"
   ]
  },
  {
   "cell_type": "code",
   "execution_count": 145,
   "id": "455c6b61",
   "metadata": {},
   "outputs": [
    {
     "data": {
      "text/html": [
       "<div>\n",
       "<style scoped>\n",
       "    .dataframe tbody tr th:only-of-type {\n",
       "        vertical-align: middle;\n",
       "    }\n",
       "\n",
       "    .dataframe tbody tr th {\n",
       "        vertical-align: top;\n",
       "    }\n",
       "\n",
       "    .dataframe thead th {\n",
       "        text-align: right;\n",
       "    }\n",
       "</style>\n",
       "<table border=\"1\" class=\"dataframe\">\n",
       "  <thead>\n",
       "    <tr style=\"text-align: right;\">\n",
       "      <th></th>\n",
       "      <th>eno</th>\n",
       "      <th>ename</th>\n",
       "    </tr>\n",
       "  </thead>\n",
       "  <tbody>\n",
       "    <tr>\n",
       "      <th>0</th>\n",
       "      <td>10</td>\n",
       "      <td>nitin</td>\n",
       "    </tr>\n",
       "    <tr>\n",
       "      <th>1</th>\n",
       "      <td>20</td>\n",
       "      <td>tina</td>\n",
       "    </tr>\n",
       "    <tr>\n",
       "      <th>2</th>\n",
       "      <td>30</td>\n",
       "      <td>arun</td>\n",
       "    </tr>\n",
       "    <tr>\n",
       "      <th>3</th>\n",
       "      <td>40</td>\n",
       "      <td>riya</td>\n",
       "    </tr>\n",
       "    <tr>\n",
       "      <th>4</th>\n",
       "      <td>50</td>\n",
       "      <td>None</td>\n",
       "    </tr>\n",
       "  </tbody>\n",
       "</table>\n",
       "</div>"
      ],
      "text/plain": [
       "   eno  ename\n",
       "0   10  nitin\n",
       "1   20   tina\n",
       "2   30   arun\n",
       "3   40   riya\n",
       "4   50   None"
      ]
     },
     "execution_count": 145,
     "metadata": {},
     "output_type": "execute_result"
    }
   ],
   "source": [
    "df[[\"eno\" , \"esal\"]]\n",
    "\n",
    "# or \n",
    "\n",
    "x = [\"eno\" , \"ename\"]\n",
    "\n",
    "df[x]"
   ]
  },
  {
   "cell_type": "code",
   "execution_count": null,
   "id": "267a412d",
   "metadata": {},
   "outputs": [],
   "source": []
  },
  {
   "cell_type": "code",
   "execution_count": 155,
   "id": "345e8ed5",
   "metadata": {},
   "outputs": [
    {
     "data": {
      "text/html": [
       "<div>\n",
       "<style scoped>\n",
       "    .dataframe tbody tr th:only-of-type {\n",
       "        vertical-align: middle;\n",
       "    }\n",
       "\n",
       "    .dataframe tbody tr th {\n",
       "        vertical-align: top;\n",
       "    }\n",
       "\n",
       "    .dataframe thead th {\n",
       "        text-align: right;\n",
       "    }\n",
       "</style>\n",
       "<table border=\"1\" class=\"dataframe\">\n",
       "  <thead>\n",
       "    <tr style=\"text-align: right;\">\n",
       "      <th></th>\n",
       "      <th>c1</th>\n",
       "      <th>c2</th>\n",
       "      <th>c3</th>\n",
       "      <th>c4</th>\n",
       "      <th>c5</th>\n",
       "    </tr>\n",
       "  </thead>\n",
       "  <tbody>\n",
       "    <tr>\n",
       "      <th>0</th>\n",
       "      <td>10</td>\n",
       "      <td>nitin</td>\n",
       "      <td>1000</td>\n",
       "      <td>doon</td>\n",
       "      <td>30</td>\n",
       "    </tr>\n",
       "    <tr>\n",
       "      <th>1</th>\n",
       "      <td>20</td>\n",
       "      <td>tina</td>\n",
       "      <td>2000</td>\n",
       "      <td>delhi</td>\n",
       "      <td>40</td>\n",
       "    </tr>\n",
       "    <tr>\n",
       "      <th>2</th>\n",
       "      <td>30</td>\n",
       "      <td>arun</td>\n",
       "      <td>3000</td>\n",
       "      <td>rishikesh</td>\n",
       "      <td>50</td>\n",
       "    </tr>\n",
       "    <tr>\n",
       "      <th>3</th>\n",
       "      <td>40</td>\n",
       "      <td>riya</td>\n",
       "      <td>4000</td>\n",
       "      <td>shimla</td>\n",
       "      <td>60</td>\n",
       "    </tr>\n",
       "    <tr>\n",
       "      <th>4</th>\n",
       "      <td>50</td>\n",
       "      <td>padam</td>\n",
       "      <td>5000</td>\n",
       "      <td>agra</td>\n",
       "      <td>70</td>\n",
       "    </tr>\n",
       "  </tbody>\n",
       "</table>\n",
       "</div>"
      ],
      "text/plain": [
       "   c1     c2    c3         c4  c5\n",
       "0  10  nitin  1000       doon  30\n",
       "1  20   tina  2000      delhi  40\n",
       "2  30   arun  3000  rishikesh  50\n",
       "3  40   riya  4000     shimla  60\n",
       "4  50  padam  5000       agra  70"
      ]
     },
     "execution_count": 155,
     "metadata": {},
     "output_type": "execute_result"
    }
   ],
   "source": [
    "import pandas as pd\n",
    "\n",
    "eno = [10,20,30,40 , 50]\n",
    "ename = [\"nitin\" , \"tina\" , \"arun\" ,\"riya\" ,\"padam\"]\n",
    "esal = [1000,2000,3000,4000 , 5000]\n",
    "eadrs = [\"doon\" , \"delhi\" , \"rishikesh\" , \"shimla\" , \"agra\"]\n",
    "marks = [30,40,50,60,70]\n",
    "\n",
    "df = pd.DataFrame({\"c1\":eno , \"c2\":ename , \"c3\":esal , \"c4\":eadrs , \"c5\":marks})\n",
    "\n",
    "df"
   ]
  },
  {
   "cell_type": "code",
   "execution_count": 157,
   "id": "3b5f6493",
   "metadata": {},
   "outputs": [
    {
     "data": {
      "text/html": [
       "<div>\n",
       "<style scoped>\n",
       "    .dataframe tbody tr th:only-of-type {\n",
       "        vertical-align: middle;\n",
       "    }\n",
       "\n",
       "    .dataframe tbody tr th {\n",
       "        vertical-align: top;\n",
       "    }\n",
       "\n",
       "    .dataframe thead th {\n",
       "        text-align: right;\n",
       "    }\n",
       "</style>\n",
       "<table border=\"1\" class=\"dataframe\">\n",
       "  <thead>\n",
       "    <tr style=\"text-align: right;\">\n",
       "      <th></th>\n",
       "      <th>c2</th>\n",
       "      <th>c4</th>\n",
       "    </tr>\n",
       "  </thead>\n",
       "  <tbody>\n",
       "    <tr>\n",
       "      <th>0</th>\n",
       "      <td>nitin</td>\n",
       "      <td>doon</td>\n",
       "    </tr>\n",
       "    <tr>\n",
       "      <th>1</th>\n",
       "      <td>tina</td>\n",
       "      <td>delhi</td>\n",
       "    </tr>\n",
       "    <tr>\n",
       "      <th>2</th>\n",
       "      <td>arun</td>\n",
       "      <td>rishikesh</td>\n",
       "    </tr>\n",
       "    <tr>\n",
       "      <th>3</th>\n",
       "      <td>riya</td>\n",
       "      <td>shimla</td>\n",
       "    </tr>\n",
       "    <tr>\n",
       "      <th>4</th>\n",
       "      <td>padam</td>\n",
       "      <td>agra</td>\n",
       "    </tr>\n",
       "  </tbody>\n",
       "</table>\n",
       "</div>"
      ],
      "text/plain": [
       "      c2         c4\n",
       "0  nitin       doon\n",
       "1   tina      delhi\n",
       "2   arun  rishikesh\n",
       "3   riya     shimla\n",
       "4  padam       agra"
      ]
     },
     "execution_count": 157,
     "metadata": {},
     "output_type": "execute_result"
    }
   ],
   "source": [
    "# to select c2 and c4 col\n",
    "\n",
    "df[[\"c2\" , \"c4\"]]"
   ]
  },
  {
   "cell_type": "code",
   "execution_count": 158,
   "id": "0268c41c",
   "metadata": {},
   "outputs": [
    {
     "data": {
      "text/html": [
       "<div>\n",
       "<style scoped>\n",
       "    .dataframe tbody tr th:only-of-type {\n",
       "        vertical-align: middle;\n",
       "    }\n",
       "\n",
       "    .dataframe tbody tr th {\n",
       "        vertical-align: top;\n",
       "    }\n",
       "\n",
       "    .dataframe thead th {\n",
       "        text-align: right;\n",
       "    }\n",
       "</style>\n",
       "<table border=\"1\" class=\"dataframe\">\n",
       "  <thead>\n",
       "    <tr style=\"text-align: right;\">\n",
       "      <th></th>\n",
       "      <th>c5</th>\n",
       "      <th>c4</th>\n",
       "      <th>c3</th>\n",
       "      <th>c2</th>\n",
       "    </tr>\n",
       "  </thead>\n",
       "  <tbody>\n",
       "    <tr>\n",
       "      <th>0</th>\n",
       "      <td>30</td>\n",
       "      <td>doon</td>\n",
       "      <td>1000</td>\n",
       "      <td>nitin</td>\n",
       "    </tr>\n",
       "    <tr>\n",
       "      <th>1</th>\n",
       "      <td>40</td>\n",
       "      <td>delhi</td>\n",
       "      <td>2000</td>\n",
       "      <td>tina</td>\n",
       "    </tr>\n",
       "    <tr>\n",
       "      <th>2</th>\n",
       "      <td>50</td>\n",
       "      <td>rishikesh</td>\n",
       "      <td>3000</td>\n",
       "      <td>arun</td>\n",
       "    </tr>\n",
       "    <tr>\n",
       "      <th>3</th>\n",
       "      <td>60</td>\n",
       "      <td>shimla</td>\n",
       "      <td>4000</td>\n",
       "      <td>riya</td>\n",
       "    </tr>\n",
       "    <tr>\n",
       "      <th>4</th>\n",
       "      <td>70</td>\n",
       "      <td>agra</td>\n",
       "      <td>5000</td>\n",
       "      <td>padam</td>\n",
       "    </tr>\n",
       "  </tbody>\n",
       "</table>\n",
       "</div>"
      ],
      "text/plain": [
       "   c5         c4    c3     c2\n",
       "0  30       doon  1000  nitin\n",
       "1  40      delhi  2000   tina\n",
       "2  50  rishikesh  3000   arun\n",
       "3  60     shimla  4000   riya\n",
       "4  70       agra  5000  padam"
      ]
     },
     "execution_count": 158,
     "metadata": {},
     "output_type": "execute_result"
    }
   ],
   "source": [
    "# to get c2 to c5 in reverse order\n",
    "\n",
    "df[[\"c5\",\"c4\" , \"c3\" , \"c2\"]]"
   ]
  },
  {
   "cell_type": "code",
   "execution_count": null,
   "id": "1f11a208",
   "metadata": {},
   "outputs": [],
   "source": []
  },
  {
   "cell_type": "code",
   "execution_count": 161,
   "id": "ce38ff52",
   "metadata": {},
   "outputs": [],
   "source": [
    "import pandas as pd\n",
    "\n",
    "eno = [10,20,30,40 , 50]\n",
    "ename = [\"nitin\" , \"tina\" , \"arun\" ,\"riya\" ,\"tannu\"]\n",
    "esal = [1000,2000,3000,4000 , 5000]\n",
    "eadrs = [\"doon\" , \"delhi\" , \"rishikesh\" , \"shimla\" , \"agra\"]\n",
    "\n",
    "df = pd.DataFrame({\"eno\":eno , \"ename\":ename , \"esal\":esal , \"eadrs\":eadrs})\n",
    "\n",
    "df.to_csv(\"emp.csv\" , index = False)"
   ]
  },
  {
   "cell_type": "code",
   "execution_count": null,
   "id": "61958d7e",
   "metadata": {},
   "outputs": [],
   "source": []
  },
  {
   "cell_type": "code",
   "execution_count": null,
   "id": "461d09bc",
   "metadata": {},
   "outputs": [],
   "source": []
  },
  {
   "cell_type": "code",
   "execution_count": null,
   "id": "294b37cf",
   "metadata": {},
   "outputs": [],
   "source": []
  },
  {
   "cell_type": "code",
   "execution_count": null,
   "id": "3c212156",
   "metadata": {},
   "outputs": [],
   "source": []
  },
  {
   "cell_type": "code",
   "execution_count": null,
   "id": "5155f940",
   "metadata": {},
   "outputs": [],
   "source": []
  }
 ],
 "metadata": {
  "kernelspec": {
   "display_name": "Python 3 (ipykernel)",
   "language": "python",
   "name": "python3"
  },
  "language_info": {
   "codemirror_mode": {
    "name": "ipython",
    "version": 3
   },
   "file_extension": ".py",
   "mimetype": "text/x-python",
   "name": "python",
   "nbconvert_exporter": "python",
   "pygments_lexer": "ipython3",
   "version": "3.12.4"
  }
 },
 "nbformat": 4,
 "nbformat_minor": 5
}
