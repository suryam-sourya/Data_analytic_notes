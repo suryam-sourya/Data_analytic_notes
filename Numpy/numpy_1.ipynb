{
 "cells": [
  {
   "cell_type": "code",
   "execution_count": null,
   "id": "e6b7e310-8308-42aa-b976-3f835a97846d",
   "metadata": {},
   "outputs": [],
   "source": []
  },
  {
   "cell_type": "code",
   "execution_count": 1,
   "id": "ad8a8092-b829-428a-99a5-321d3f9b57af",
   "metadata": {},
   "outputs": [],
   "source": [
    "# array"
   ]
  },
  {
   "cell_type": "code",
   "execution_count": 2,
   "id": "72a13032-7ff3-4754-a9ac-b4d77d6fcf60",
   "metadata": {},
   "outputs": [],
   "source": [
    "import numpy as np"
   ]
  },
  {
   "cell_type": "code",
   "execution_count": null,
   "id": "6cb7767f-c084-403c-b682-f97e0c601c7e",
   "metadata": {},
   "outputs": [],
   "source": []
  },
  {
   "cell_type": "code",
   "execution_count": 3,
   "id": "d93a2cd6-01a1-4a43-8aa2-536d31583d8b",
   "metadata": {},
   "outputs": [
    {
     "data": {
      "text/plain": [
       "[2, 3, 4, 5]"
      ]
     },
     "execution_count": 3,
     "metadata": {},
     "output_type": "execute_result"
    }
   ],
   "source": [
    "l = [2,3,4,5]\n",
    "l"
   ]
  },
  {
   "cell_type": "code",
   "execution_count": 4,
   "id": "91bdc458-c567-4de1-af5d-bee7d37f49cb",
   "metadata": {},
   "outputs": [
    {
     "data": {
      "text/plain": [
       "[2, 3, 4, 5, 2, 3, 4, 5, 2, 3, 4, 5]"
      ]
     },
     "execution_count": 4,
     "metadata": {},
     "output_type": "execute_result"
    }
   ],
   "source": [
    "l*3"
   ]
  },
  {
   "cell_type": "code",
   "execution_count": null,
   "id": "e2c4d823-79dd-469b-88cb-0eb1fc52d61c",
   "metadata": {},
   "outputs": [],
   "source": []
  },
  {
   "cell_type": "code",
   "execution_count": 5,
   "id": "8f294136-4dfb-40de-b79c-e5240c96a500",
   "metadata": {},
   "outputs": [
    {
     "data": {
      "text/plain": [
       "array([2, 3, 4, 5])"
      ]
     },
     "execution_count": 5,
     "metadata": {},
     "output_type": "execute_result"
    }
   ],
   "source": [
    "x = np.array(l)\n",
    "x"
   ]
  },
  {
   "cell_type": "code",
   "execution_count": 6,
   "id": "9ae5a77a-6939-463d-9bf2-fd4cf6a5cb7b",
   "metadata": {},
   "outputs": [
    {
     "data": {
      "text/plain": [
       "array([ 6,  9, 12, 15])"
      ]
     },
     "execution_count": 6,
     "metadata": {},
     "output_type": "execute_result"
    }
   ],
   "source": [
    "x*3"
   ]
  },
  {
   "cell_type": "code",
   "execution_count": null,
   "id": "6c2d318b-60aa-4058-8a6c-68a2ac6ec874",
   "metadata": {},
   "outputs": [],
   "source": []
  },
  {
   "cell_type": "code",
   "execution_count": null,
   "id": "8cc633d5-c659-43e0-97dd-5823773c7f8d",
   "metadata": {},
   "outputs": [],
   "source": []
  },
  {
   "cell_type": "code",
   "execution_count": 189,
   "id": "d004d302-d3cd-4a04-a784-c289978a4655",
   "metadata": {},
   "outputs": [],
   "source": [
    "# array()\n",
    "# arange()\n",
    "# linspace()\n",
    "# ones()\n",
    "# zeroes()\n",
    "# eye()\n",
    "# identity()"
   ]
  },
  {
   "cell_type": "code",
   "execution_count": null,
   "id": "95362a98-f825-4c8c-81c0-d2ec07115db7",
   "metadata": {},
   "outputs": [],
   "source": []
  },
  {
   "cell_type": "code",
   "execution_count": 8,
   "id": "d2b0152c-ad72-490e-becf-576507d94fa1",
   "metadata": {},
   "outputs": [],
   "source": [
    "# array()"
   ]
  },
  {
   "cell_type": "code",
   "execution_count": 9,
   "id": "a53a1d25-9e94-4a00-9837-9df95da9332e",
   "metadata": {},
   "outputs": [
    {
     "data": {
      "text/plain": [
       "[2, 3, 4, 5, 6]"
      ]
     },
     "execution_count": 9,
     "metadata": {},
     "output_type": "execute_result"
    }
   ],
   "source": [
    "l = [2,3,4,5,6]\n",
    "l"
   ]
  },
  {
   "cell_type": "code",
   "execution_count": 10,
   "id": "08f540c0-630c-456d-a9ca-82d3a67a58f5",
   "metadata": {},
   "outputs": [
    {
     "data": {
      "text/plain": [
       "array([2, 3, 4, 5, 6])"
      ]
     },
     "execution_count": 10,
     "metadata": {},
     "output_type": "execute_result"
    }
   ],
   "source": [
    "x = np.array(l)\n",
    "x"
   ]
  },
  {
   "cell_type": "code",
   "execution_count": 13,
   "id": "c604d3ce-2889-406a-9336-87f8822445fb",
   "metadata": {},
   "outputs": [
    {
     "data": {
      "text/plain": [
       "(5,)"
      ]
     },
     "execution_count": 13,
     "metadata": {},
     "output_type": "execute_result"
    }
   ],
   "source": [
    "# shape of an array\n",
    "x.shape"
   ]
  },
  {
   "cell_type": "code",
   "execution_count": 16,
   "id": "cc590e61-ec77-4f28-8930-18f535b11295",
   "metadata": {},
   "outputs": [
    {
     "data": {
      "text/plain": [
       "5"
      ]
     },
     "execution_count": 16,
     "metadata": {},
     "output_type": "execute_result"
    }
   ],
   "source": [
    "# size of array - (total no of elemnts in array)\n",
    "x.size"
   ]
  },
  {
   "cell_type": "code",
   "execution_count": 17,
   "id": "5bc97c94-b10b-44a0-87e2-b904539243bf",
   "metadata": {},
   "outputs": [
    {
     "data": {
      "text/plain": [
       "1"
      ]
     },
     "execution_count": 17,
     "metadata": {},
     "output_type": "execute_result"
    }
   ],
   "source": [
    "# dimension of array\n",
    "x.ndim"
   ]
  },
  {
   "cell_type": "code",
   "execution_count": 18,
   "id": "4ac3b810-99e8-4de3-ba20-529cdc5ad055",
   "metadata": {},
   "outputs": [
    {
     "data": {
      "text/plain": [
       "numpy.ndarray"
      ]
     },
     "execution_count": 18,
     "metadata": {},
     "output_type": "execute_result"
    }
   ],
   "source": [
    "type(x)"
   ]
  },
  {
   "cell_type": "code",
   "execution_count": null,
   "id": "a001df10-6efb-4e88-b9c6-3af38328a5af",
   "metadata": {},
   "outputs": [],
   "source": []
  },
  {
   "cell_type": "code",
   "execution_count": 19,
   "id": "a69fa7a5-d0d9-4119-93c8-a0e311050d4a",
   "metadata": {},
   "outputs": [],
   "source": [
    "# create 2 d matrix"
   ]
  },
  {
   "cell_type": "code",
   "execution_count": null,
   "id": "010db589-32d2-40ab-bfc5-835427531913",
   "metadata": {},
   "outputs": [],
   "source": []
  },
  {
   "cell_type": "code",
   "execution_count": 20,
   "id": "e605962f-402a-46bc-b530-1e3b76c8b764",
   "metadata": {},
   "outputs": [
    {
     "data": {
      "text/plain": [
       "array([[1, 2, 3],\n",
       "       [4, 5, 6],\n",
       "       [7, 8, 9]])"
      ]
     },
     "execution_count": 20,
     "metadata": {},
     "output_type": "execute_result"
    }
   ],
   "source": [
    "l = [[1,2,3],[4,5,6],[7,8,9]]\n",
    "\n",
    "x = np.array(l)\n",
    "\n",
    "x"
   ]
  },
  {
   "cell_type": "code",
   "execution_count": 22,
   "id": "a5466155-a2d3-4586-9ed8-78f216e346f9",
   "metadata": {},
   "outputs": [
    {
     "name": "stdout",
     "output_type": "stream",
     "text": [
      "dimension -- 2\n",
      "size-- 9\n",
      "shape -- (3, 3)\n"
     ]
    }
   ],
   "source": [
    "print(\"dimension --\" , x.ndim)\n",
    "print(\"size--\"   , x.size)\n",
    "print(\"shape --\" , x.shape)"
   ]
  },
  {
   "cell_type": "code",
   "execution_count": 23,
   "id": "06cff205-6d38-4d6e-a4ca-a122d416d8ac",
   "metadata": {},
   "outputs": [],
   "source": [
    "# shape -> rows x columns"
   ]
  },
  {
   "cell_type": "code",
   "execution_count": null,
   "id": "36a9847e-a781-4129-8e7c-426dc1471a99",
   "metadata": {},
   "outputs": [],
   "source": []
  },
  {
   "cell_type": "code",
   "execution_count": 25,
   "id": "9bbbe412-5c74-4195-989d-e7571dbf86fe",
   "metadata": {},
   "outputs": [
    {
     "data": {
      "text/plain": [
       "array([[1, 2, 3],\n",
       "       [4, 5, 6]])"
      ]
     },
     "execution_count": 25,
     "metadata": {},
     "output_type": "execute_result"
    }
   ],
   "source": [
    "l = [[1,2,3],[4,5,6]]\n",
    "\n",
    "x = np.array(l)\n",
    "\n",
    "x"
   ]
  },
  {
   "cell_type": "code",
   "execution_count": 26,
   "id": "e67fcade-dfcd-41fe-b215-10ccd0432cf1",
   "metadata": {},
   "outputs": [
    {
     "name": "stdout",
     "output_type": "stream",
     "text": [
      "dimension -- 2\n",
      "size-- 6\n",
      "shape -- (2, 3)\n"
     ]
    }
   ],
   "source": [
    "print(\"dimension --\" , x.ndim)\n",
    "print(\"size--\"   , x.size)\n",
    "print(\"shape --\" , x.shape)"
   ]
  },
  {
   "cell_type": "code",
   "execution_count": null,
   "id": "060b4a78-2841-47d8-9bf0-9af97b7e4a20",
   "metadata": {},
   "outputs": [],
   "source": []
  },
  {
   "cell_type": "code",
   "execution_count": 27,
   "id": "4527793f-3146-4383-8e88-53acc8f7c88a",
   "metadata": {},
   "outputs": [
    {
     "data": {
      "text/plain": [
       "array([[1, 2],\n",
       "       [4, 6],\n",
       "       [7, 8]])"
      ]
     },
     "execution_count": 27,
     "metadata": {},
     "output_type": "execute_result"
    }
   ],
   "source": [
    "l = [[1,2],[4,6],[7,8]]\n",
    "\n",
    "x = np.array(l)\n",
    "\n",
    "x"
   ]
  },
  {
   "cell_type": "code",
   "execution_count": 28,
   "id": "927ac905-954a-4ff7-82b7-88a5a6652b9b",
   "metadata": {},
   "outputs": [
    {
     "name": "stdout",
     "output_type": "stream",
     "text": [
      "dimension -- 2\n",
      "size-- 6\n",
      "shape -- (3, 2)\n"
     ]
    }
   ],
   "source": [
    "print(\"dimension --\" , x.ndim)\n",
    "print(\"size--\"   , x.size)\n",
    "print(\"shape --\" , x.shape)"
   ]
  },
  {
   "cell_type": "code",
   "execution_count": null,
   "id": "e1af49a5-8bde-4bd6-b40d-3b107251d28b",
   "metadata": {},
   "outputs": [],
   "source": []
  },
  {
   "cell_type": "code",
   "execution_count": null,
   "id": "32e9a631-173c-4435-9e3a-830d29a97fa8",
   "metadata": {},
   "outputs": [],
   "source": []
  },
  {
   "cell_type": "code",
   "execution_count": 29,
   "id": "659beabb-ac30-4b41-bdab-c9340b2da586",
   "metadata": {},
   "outputs": [
    {
     "data": {
      "text/plain": [
       "array([[[1, 2, 3],\n",
       "        [4, 5, 6]],\n",
       "\n",
       "       [[8, 7, 6],\n",
       "        [5, 4, 9]]])"
      ]
     },
     "execution_count": 29,
     "metadata": {},
     "output_type": "execute_result"
    }
   ],
   "source": [
    "l = [[[1,2,3],[4,5,6]] , [[8,7,6],[5,4,9]]]\n",
    "\n",
    "x = np.array(l)\n",
    "\n",
    "x"
   ]
  },
  {
   "cell_type": "code",
   "execution_count": 30,
   "id": "c4fa8006-a476-4350-bfcc-ac11dd046a51",
   "metadata": {},
   "outputs": [
    {
     "name": "stdout",
     "output_type": "stream",
     "text": [
      "dimension -- 3\n",
      "size-- 12\n",
      "shape -- (2, 2, 3)\n"
     ]
    }
   ],
   "source": [
    "print(\"dimension --\" , x.ndim)\n",
    "print(\"size--\"   , x.size)\n",
    "print(\"shape --\" , x.shape)"
   ]
  },
  {
   "cell_type": "code",
   "execution_count": null,
   "id": "844bb01f-48c0-4e16-b7c7-5cd5eab665fa",
   "metadata": {},
   "outputs": [],
   "source": []
  },
  {
   "cell_type": "code",
   "execution_count": 31,
   "id": "10a9e52e-7016-4c7b-b88c-41ae8c3c3828",
   "metadata": {},
   "outputs": [],
   "source": [
    "# arange()"
   ]
  },
  {
   "cell_type": "code",
   "execution_count": 32,
   "id": "70cdaa87-44f0-43ad-9c47-37b7da141855",
   "metadata": {},
   "outputs": [
    {
     "data": {
      "text/plain": [
       "array([1, 2, 3, 4, 5, 6, 7, 8])"
      ]
     },
     "execution_count": 32,
     "metadata": {},
     "output_type": "execute_result"
    }
   ],
   "source": [
    "x = np.arange(1,9)\n",
    "x"
   ]
  },
  {
   "cell_type": "code",
   "execution_count": null,
   "id": "fd28d03c-c13a-4849-9a01-7ff953e41eca",
   "metadata": {},
   "outputs": [],
   "source": []
  },
  {
   "cell_type": "code",
   "execution_count": 33,
   "id": "8a2205e8-5df8-4f4c-afb6-5f5817a27a7a",
   "metadata": {},
   "outputs": [
    {
     "data": {
      "text/plain": [
       "array([1, 3, 5, 7])"
      ]
     },
     "execution_count": 33,
     "metadata": {},
     "output_type": "execute_result"
    }
   ],
   "source": [
    "x = np.arange(1,9,2)\n",
    "x"
   ]
  },
  {
   "cell_type": "code",
   "execution_count": null,
   "id": "e056f3be-0d03-4292-ae18-81fbb673d04e",
   "metadata": {},
   "outputs": [],
   "source": []
  },
  {
   "cell_type": "code",
   "execution_count": 37,
   "id": "8fadef9e-981e-42cc-bae9-9594e9a631a2",
   "metadata": {},
   "outputs": [
    {
     "data": {
      "text/plain": [
       "array([[1, 2, 3],\n",
       "       [4, 5, 6],\n",
       "       [7, 8, 9]])"
      ]
     },
     "execution_count": 37,
     "metadata": {},
     "output_type": "execute_result"
    }
   ],
   "source": [
    "x = np.arange(1,10).reshape(3,3)\n",
    "x"
   ]
  },
  {
   "cell_type": "code",
   "execution_count": null,
   "id": "9b05e3d2-8b85-4feb-bc16-0576a16e443a",
   "metadata": {},
   "outputs": [],
   "source": []
  },
  {
   "cell_type": "code",
   "execution_count": 39,
   "id": "32f9cfc0-3982-442b-ba23-8cec5354b1cf",
   "metadata": {},
   "outputs": [
    {
     "data": {
      "text/plain": [
       "array([[1, 2, 3],\n",
       "       [4, 5, 6]])"
      ]
     },
     "execution_count": 39,
     "metadata": {},
     "output_type": "execute_result"
    }
   ],
   "source": [
    "x = np.arange(1,7).reshape(2,3)\n",
    "x"
   ]
  },
  {
   "cell_type": "code",
   "execution_count": null,
   "id": "ff6fd962-f992-4db8-b7a5-3864f85d946e",
   "metadata": {},
   "outputs": [],
   "source": []
  },
  {
   "cell_type": "code",
   "execution_count": 62,
   "id": "04c1cbda-843c-457e-88b9-17a555e08ee5",
   "metadata": {},
   "outputs": [],
   "source": [
    "# linspace()\n",
    "# ones()\n",
    "# zeroes()\n",
    "# eye()\n",
    "# identity()\n"
   ]
  },
  {
   "cell_type": "code",
   "execution_count": null,
   "id": "cbd3ff8f-7964-40f0-bb03-8ffab8f7f209",
   "metadata": {},
   "outputs": [],
   "source": []
  },
  {
   "cell_type": "code",
   "execution_count": 44,
   "id": "44d40bfc-f9b4-4203-b438-6815c92288e6",
   "metadata": {},
   "outputs": [
    {
     "data": {
      "text/plain": [
       "array([1.        , 1.08163265, 1.16326531, 1.24489796, 1.32653061,\n",
       "       1.40816327, 1.48979592, 1.57142857, 1.65306122, 1.73469388,\n",
       "       1.81632653, 1.89795918, 1.97959184, 2.06122449, 2.14285714,\n",
       "       2.2244898 , 2.30612245, 2.3877551 , 2.46938776, 2.55102041,\n",
       "       2.63265306, 2.71428571, 2.79591837, 2.87755102, 2.95918367,\n",
       "       3.04081633, 3.12244898, 3.20408163, 3.28571429, 3.36734694,\n",
       "       3.44897959, 3.53061224, 3.6122449 , 3.69387755, 3.7755102 ,\n",
       "       3.85714286, 3.93877551, 4.02040816, 4.10204082, 4.18367347,\n",
       "       4.26530612, 4.34693878, 4.42857143, 4.51020408, 4.59183673,\n",
       "       4.67346939, 4.75510204, 4.83673469, 4.91836735, 5.        ])"
      ]
     },
     "execution_count": 44,
     "metadata": {},
     "output_type": "execute_result"
    }
   ],
   "source": [
    "# 50 equal parts\n",
    "\n",
    "x = np.linspace(1,5)\n",
    "x"
   ]
  },
  {
   "cell_type": "code",
   "execution_count": null,
   "id": "eb9b3d81-28a4-4b77-91f7-11ae8ec8fbd2",
   "metadata": {},
   "outputs": [],
   "source": []
  },
  {
   "cell_type": "code",
   "execution_count": 54,
   "id": "1d50e1f9-c338-43e5-9dc2-31d879e7aaf1",
   "metadata": {},
   "outputs": [
    {
     "data": {
      "text/plain": [
       "array([  0.        ,  11.11111111,  22.22222222,  33.33333333,\n",
       "        44.44444444,  55.55555556,  66.66666667,  77.77777778,\n",
       "        88.88888889, 100.        ])"
      ]
     },
     "execution_count": 54,
     "metadata": {},
     "output_type": "execute_result"
    }
   ],
   "source": [
    "x = np.linspace(0,100,10)\n",
    "x"
   ]
  },
  {
   "cell_type": "code",
   "execution_count": null,
   "id": "bfbbc243-50d5-426f-b24c-1f521e93db20",
   "metadata": {},
   "outputs": [],
   "source": []
  },
  {
   "cell_type": "code",
   "execution_count": null,
   "id": "9a447cfd-7a53-4324-bd8d-a66726ca50a3",
   "metadata": {},
   "outputs": [],
   "source": []
  },
  {
   "cell_type": "code",
   "execution_count": 55,
   "id": "5e2667b1-f459-4280-9e09-7209dc6d0838",
   "metadata": {},
   "outputs": [],
   "source": [
    "# ones()"
   ]
  },
  {
   "cell_type": "code",
   "execution_count": 60,
   "id": "0483a881-33c0-40b8-844b-8cf5c8c9573e",
   "metadata": {},
   "outputs": [
    {
     "data": {
      "text/plain": [
       "array([[1, 1, 1, 1],\n",
       "       [1, 1, 1, 1],\n",
       "       [1, 1, 1, 1]])"
      ]
     },
     "execution_count": 60,
     "metadata": {},
     "output_type": "execute_result"
    }
   ],
   "source": [
    "x = np.ones((3,4) , dtype = int)\n",
    "x"
   ]
  },
  {
   "cell_type": "code",
   "execution_count": null,
   "id": "ef17eeb6-6454-4e92-96d1-b6dd3421d2c5",
   "metadata": {},
   "outputs": [],
   "source": []
  },
  {
   "cell_type": "code",
   "execution_count": 61,
   "id": "5d35cbd7-8dfd-4904-a321-3f447fd4d4b4",
   "metadata": {},
   "outputs": [
    {
     "data": {
      "text/plain": [
       "array([[0, 0, 0, 0],\n",
       "       [0, 0, 0, 0],\n",
       "       [0, 0, 0, 0]])"
      ]
     },
     "execution_count": 61,
     "metadata": {},
     "output_type": "execute_result"
    }
   ],
   "source": [
    "x = np.zeros((3,4) , dtype = int)\n",
    "x"
   ]
  },
  {
   "cell_type": "code",
   "execution_count": null,
   "id": "07da7f68-0e16-466b-88a8-959c4d82ab74",
   "metadata": {},
   "outputs": [],
   "source": []
  },
  {
   "cell_type": "code",
   "execution_count": 86,
   "id": "5bff79f9-3c38-4094-81e4-14f29813c64f",
   "metadata": {},
   "outputs": [],
   "source": [
    "# eye() - any shape\n",
    "# identity() - square matrix"
   ]
  },
  {
   "cell_type": "code",
   "execution_count": null,
   "id": "10c03355-3956-48bb-bb19-0ba9b369b276",
   "metadata": {},
   "outputs": [],
   "source": []
  },
  {
   "cell_type": "code",
   "execution_count": 82,
   "id": "7181dd26-9e7e-45d6-9320-18b208be4d78",
   "metadata": {},
   "outputs": [
    {
     "data": {
      "text/plain": [
       "array([[1, 0, 0, 0],\n",
       "       [0, 1, 0, 0],\n",
       "       [0, 0, 1, 0]])"
      ]
     },
     "execution_count": 82,
     "metadata": {},
     "output_type": "execute_result"
    }
   ],
   "source": [
    "x = np.eye(3,4, dtype = int)\n",
    "x"
   ]
  },
  {
   "cell_type": "code",
   "execution_count": null,
   "id": "7ffa4286-b320-4c5d-a9a0-b46a3a24c638",
   "metadata": {},
   "outputs": [],
   "source": []
  },
  {
   "cell_type": "code",
   "execution_count": 84,
   "id": "69b2006b-4741-472b-86ab-94c5a2f1f61d",
   "metadata": {},
   "outputs": [
    {
     "data": {
      "text/plain": [
       "array([[1, 0, 0],\n",
       "       [0, 1, 0],\n",
       "       [0, 0, 1]])"
      ]
     },
     "execution_count": 84,
     "metadata": {},
     "output_type": "execute_result"
    }
   ],
   "source": [
    "x = np.identity(3, dtype = int)\n",
    "x"
   ]
  },
  {
   "cell_type": "code",
   "execution_count": null,
   "id": "f08d28df-b2b5-43cf-abd2-56b6f52e3208",
   "metadata": {},
   "outputs": [],
   "source": []
  },
  {
   "cell_type": "code",
   "execution_count": 98,
   "id": "9935ce2a-eae8-417f-a940-5ce25d3d4074",
   "metadata": {},
   "outputs": [],
   "source": [
    "# random module\n",
    "\n",
    "# rand() - between (0 - 1)\n",
    "# randint()"
   ]
  },
  {
   "cell_type": "code",
   "execution_count": 99,
   "id": "c60ea5f9-c821-4b5b-90bf-5fb05c5526b2",
   "metadata": {},
   "outputs": [
    {
     "data": {
      "text/plain": [
       "array([0.3816576 , 0.30668692, 0.85147808, 0.04181106])"
      ]
     },
     "execution_count": 99,
     "metadata": {},
     "output_type": "execute_result"
    }
   ],
   "source": [
    "x = np.random.rand(4)\n",
    "x"
   ]
  },
  {
   "cell_type": "code",
   "execution_count": 100,
   "id": "082bf30d-e0b8-45f1-bc3e-885230428cd4",
   "metadata": {},
   "outputs": [
    {
     "data": {
      "text/plain": [
       "array([[0.85527507, 0.44397457, 0.47910218, 0.51198143],\n",
       "       [0.16881277, 0.41270331, 0.95010964, 0.71848247],\n",
       "       [0.79821839, 0.59018615, 0.02505733, 0.29558993]])"
      ]
     },
     "execution_count": 100,
     "metadata": {},
     "output_type": "execute_result"
    }
   ],
   "source": [
    "x = np.random.rand(3,4)\n",
    "x"
   ]
  },
  {
   "cell_type": "code",
   "execution_count": null,
   "id": "c4179550-fab1-4f80-959c-ee1467df2382",
   "metadata": {},
   "outputs": [],
   "source": []
  },
  {
   "cell_type": "code",
   "execution_count": 106,
   "id": "ccf0cd7c-f07f-4332-932f-0cd30e367352",
   "metadata": {},
   "outputs": [
    {
     "data": {
      "text/plain": [
       "10"
      ]
     },
     "execution_count": 106,
     "metadata": {},
     "output_type": "execute_result"
    }
   ],
   "source": [
    "x = np.random.randint(10,17)\n",
    "x"
   ]
  },
  {
   "cell_type": "code",
   "execution_count": null,
   "id": "30ef8550-994d-4a6e-b723-8205613d09a7",
   "metadata": {},
   "outputs": [],
   "source": []
  },
  {
   "cell_type": "code",
   "execution_count": 108,
   "id": "eb7be3e0-3e37-4d54-b5fd-dc927d5837c4",
   "metadata": {},
   "outputs": [
    {
     "data": {
      "text/plain": [
       "array([11, 15, 10, 12, 15])"
      ]
     },
     "execution_count": 108,
     "metadata": {},
     "output_type": "execute_result"
    }
   ],
   "source": [
    "x = np.random.randint(10,17,5)\n",
    "x"
   ]
  },
  {
   "cell_type": "code",
   "execution_count": null,
   "id": "15c66b48-544d-4c31-a624-f70ef85bb317",
   "metadata": {},
   "outputs": [],
   "source": []
  },
  {
   "cell_type": "code",
   "execution_count": 112,
   "id": "9b69da90-1b93-47fb-9971-c0e21ed46b45",
   "metadata": {},
   "outputs": [
    {
     "data": {
      "text/plain": [
       "array([[78, 63, 50],\n",
       "       [18, 79, 18],\n",
       "       [61, 63, 34],\n",
       "       [64, 73, 37]])"
      ]
     },
     "execution_count": 112,
     "metadata": {},
     "output_type": "execute_result"
    }
   ],
   "source": [
    "x = np.random.randint(10,80,(4,3))\n",
    "x"
   ]
  },
  {
   "cell_type": "code",
   "execution_count": null,
   "id": "0581daac-0044-4965-871b-80f221ff35d2",
   "metadata": {},
   "outputs": [],
   "source": []
  },
  {
   "cell_type": "code",
   "execution_count": 115,
   "id": "6f8ef47d-43bf-4d3d-b9e0-35b0735da05f",
   "metadata": {},
   "outputs": [],
   "source": [
    "# array()\n",
    "# arange()\n",
    "# linspace()\n",
    "# ones()\n",
    "# zeroes()\n",
    "# eye()\n",
    "# identity()\n",
    "# empty()\n",
    "\n",
    "# np random module\n",
    "# randint()\n",
    "# rand()\n"
   ]
  },
  {
   "cell_type": "code",
   "execution_count": null,
   "id": "453ca183-f0a5-48eb-a3a4-ad47ee729a87",
   "metadata": {},
   "outputs": [],
   "source": []
  },
  {
   "cell_type": "code",
   "execution_count": 126,
   "id": "14d945cd-5179-4be7-804e-715b718efc49",
   "metadata": {},
   "outputs": [
    {
     "data": {
      "text/plain": [
       "array([[12.86029542,  8.13325959,  3.92659727,  8.31890177],\n",
       "       [ 3.16332128, -5.47373184,  3.91866347,  5.67270986],\n",
       "       [ 5.16653493,  7.06544947,  1.60676151, 11.10507619]])"
      ]
     },
     "execution_count": 126,
     "metadata": {},
     "output_type": "execute_result"
    }
   ],
   "source": [
    "np.random.normal(5,4,(3,4)) "
   ]
  },
  {
   "cell_type": "code",
   "execution_count": null,
   "id": "18bd8cfc-04d6-4137-b24a-d9f0a2556bb0",
   "metadata": {},
   "outputs": [],
   "source": []
  },
  {
   "cell_type": "code",
   "execution_count": 127,
   "id": "e8e1dc8f-25e6-4f40-bef3-ed02bd8d4c37",
   "metadata": {},
   "outputs": [],
   "source": [
    "# manipulation"
   ]
  },
  {
   "cell_type": "code",
   "execution_count": 128,
   "id": "9363fd16-f939-4874-b867-addeaea01bd7",
   "metadata": {},
   "outputs": [],
   "source": [
    "# sum , max , min , addition\n",
    "# indexing , slicing\n",
    "# advance indexing"
   ]
  },
  {
   "cell_type": "code",
   "execution_count": null,
   "id": "c3a5e727-940c-4aa2-94f1-dadaf04ce658",
   "metadata": {},
   "outputs": [],
   "source": []
  },
  {
   "cell_type": "code",
   "execution_count": null,
   "id": "7f76e417-74aa-4b9e-8dcf-c2934659cb2e",
   "metadata": {},
   "outputs": [],
   "source": []
  },
  {
   "cell_type": "code",
   "execution_count": 129,
   "id": "610de42e-5696-4bbc-8bff-5abae8dac01e",
   "metadata": {},
   "outputs": [
    {
     "data": {
      "text/plain": [
       "[3, 4, 5]"
      ]
     },
     "execution_count": 129,
     "metadata": {},
     "output_type": "execute_result"
    }
   ],
   "source": [
    "l = [3,4,5]\n",
    "l"
   ]
  },
  {
   "cell_type": "code",
   "execution_count": 130,
   "id": "bc4ac76e-9e5b-45f4-beac-98b8aedd369f",
   "metadata": {},
   "outputs": [
    {
     "ename": "TypeError",
     "evalue": "can only concatenate list (not \"int\") to list",
     "output_type": "error",
     "traceback": [
      "\u001b[1;31m---------------------------------------------------------------------------\u001b[0m",
      "\u001b[1;31mTypeError\u001b[0m                                 Traceback (most recent call last)",
      "Cell \u001b[1;32mIn[130], line 1\u001b[0m\n\u001b[1;32m----> 1\u001b[0m l\u001b[38;5;241m+\u001b[39m\u001b[38;5;241m3\u001b[39m\n",
      "\u001b[1;31mTypeError\u001b[0m: can only concatenate list (not \"int\") to list"
     ]
    }
   ],
   "source": [
    "l+3"
   ]
  },
  {
   "cell_type": "code",
   "execution_count": null,
   "id": "48d02c14-6b10-4eb6-872e-230bd5c295d4",
   "metadata": {},
   "outputs": [],
   "source": []
  },
  {
   "cell_type": "code",
   "execution_count": 131,
   "id": "cc390697-5aff-4cc9-9b5e-8f994892deed",
   "metadata": {},
   "outputs": [
    {
     "data": {
      "text/plain": [
       "array([3, 4, 5])"
      ]
     },
     "execution_count": 131,
     "metadata": {},
     "output_type": "execute_result"
    }
   ],
   "source": [
    "x = np.array(l)\n",
    "x"
   ]
  },
  {
   "cell_type": "code",
   "execution_count": 132,
   "id": "89d973db-3b3c-4a86-8b79-a03b038cc73d",
   "metadata": {},
   "outputs": [
    {
     "data": {
      "text/plain": [
       "array([6, 7, 8])"
      ]
     },
     "execution_count": 132,
     "metadata": {},
     "output_type": "execute_result"
    }
   ],
   "source": [
    "x+3"
   ]
  },
  {
   "cell_type": "code",
   "execution_count": 133,
   "id": "34abf2b0-8364-4331-b3f2-229ddc624c99",
   "metadata": {},
   "outputs": [
    {
     "data": {
      "text/plain": [
       "array([3, 4, 5])"
      ]
     },
     "execution_count": 133,
     "metadata": {},
     "output_type": "execute_result"
    }
   ],
   "source": [
    "x"
   ]
  },
  {
   "cell_type": "code",
   "execution_count": null,
   "id": "67ecd759-150c-461e-b5e4-9054eefe488f",
   "metadata": {},
   "outputs": [],
   "source": []
  },
  {
   "cell_type": "code",
   "execution_count": 134,
   "id": "d6b25ae1-d11c-4750-8b04-fa73827a03dc",
   "metadata": {},
   "outputs": [],
   "source": [
    "# how to create array"
   ]
  },
  {
   "cell_type": "code",
   "execution_count": 174,
   "id": "bedbc39e-ffab-4cf6-9e52-23ee64327b1b",
   "metadata": {},
   "outputs": [],
   "source": [
    "# array()\n",
    "# arange()\n",
    "# linspace()\n",
    "# ones()\n",
    "# zeroes()\n",
    "# eye()\n",
    "# identity()"
   ]
  },
  {
   "cell_type": "code",
   "execution_count": null,
   "id": "096b984b-0efd-4d08-bb13-195ef601b27c",
   "metadata": {},
   "outputs": [],
   "source": []
  },
  {
   "cell_type": "code",
   "execution_count": 136,
   "id": "7bab3904-f402-4189-9f0a-638bbd018a39",
   "metadata": {},
   "outputs": [
    {
     "data": {
      "text/plain": [
       "array([3, 4, 5, 6, 7, 8])"
      ]
     },
     "execution_count": 136,
     "metadata": {},
     "output_type": "execute_result"
    }
   ],
   "source": [
    "x = np.array([3,4,5,6,7,8])\n",
    "x"
   ]
  },
  {
   "cell_type": "code",
   "execution_count": 137,
   "id": "caf6dd7d-e214-444b-bc8f-17032aa290de",
   "metadata": {},
   "outputs": [
    {
     "data": {
      "text/plain": [
       "(6,)"
      ]
     },
     "execution_count": 137,
     "metadata": {},
     "output_type": "execute_result"
    }
   ],
   "source": [
    "x.shape"
   ]
  },
  {
   "cell_type": "code",
   "execution_count": 138,
   "id": "e741f56c-2159-493e-9bab-bfa328656f1e",
   "metadata": {},
   "outputs": [
    {
     "data": {
      "text/plain": [
       "1"
      ]
     },
     "execution_count": 138,
     "metadata": {},
     "output_type": "execute_result"
    }
   ],
   "source": [
    "x.ndim"
   ]
  },
  {
   "cell_type": "code",
   "execution_count": null,
   "id": "c42bb3d5-6fe6-419a-8f5d-5821c0313440",
   "metadata": {},
   "outputs": [],
   "source": []
  },
  {
   "cell_type": "code",
   "execution_count": 139,
   "id": "5affe451-a5fb-4558-a1fb-f63809768dfd",
   "metadata": {},
   "outputs": [
    {
     "data": {
      "text/plain": [
       "array([[3, 4, 5],\n",
       "       [6, 7, 8]])"
      ]
     },
     "execution_count": 139,
     "metadata": {},
     "output_type": "execute_result"
    }
   ],
   "source": [
    "x = np.array([[3,4,5],[6,7,8]])\n",
    "x"
   ]
  },
  {
   "cell_type": "code",
   "execution_count": 140,
   "id": "170b552d-f8dc-4a75-b37d-d63dbbb34508",
   "metadata": {},
   "outputs": [
    {
     "data": {
      "text/plain": [
       "2"
      ]
     },
     "execution_count": 140,
     "metadata": {},
     "output_type": "execute_result"
    }
   ],
   "source": [
    "x.ndim"
   ]
  },
  {
   "cell_type": "code",
   "execution_count": 141,
   "id": "6adb73c1-7db6-4c04-bbbe-512f8006d07b",
   "metadata": {},
   "outputs": [
    {
     "data": {
      "text/plain": [
       "(2, 3)"
      ]
     },
     "execution_count": 141,
     "metadata": {},
     "output_type": "execute_result"
    }
   ],
   "source": [
    "x.shape"
   ]
  },
  {
   "cell_type": "code",
   "execution_count": 142,
   "id": "9b664806-3572-4ecd-ba1f-a8d9cd148afb",
   "metadata": {},
   "outputs": [],
   "source": [
    "# rows x columns"
   ]
  },
  {
   "cell_type": "code",
   "execution_count": null,
   "id": "1b8ca3b8-b839-4740-af71-ddc9ac2be5eb",
   "metadata": {},
   "outputs": [],
   "source": []
  },
  {
   "cell_type": "code",
   "execution_count": 144,
   "id": "7717ad3f-b8ed-463d-b81d-ba20f36f8bdb",
   "metadata": {},
   "outputs": [
    {
     "data": {
      "text/plain": [
       "array([1, 3, 5, 7])"
      ]
     },
     "execution_count": 144,
     "metadata": {},
     "output_type": "execute_result"
    }
   ],
   "source": [
    "x = np.arange(1,9,2)\n",
    "x"
   ]
  },
  {
   "cell_type": "code",
   "execution_count": null,
   "id": "03375b88-6a26-4b8d-9e85-8e12b093550b",
   "metadata": {},
   "outputs": [],
   "source": []
  },
  {
   "cell_type": "code",
   "execution_count": 149,
   "id": "2bb649cf-9c94-4e3a-83ec-ce10c473ecc4",
   "metadata": {},
   "outputs": [
    {
     "data": {
      "text/plain": [
       "array([[1, 2, 3],\n",
       "       [4, 5, 6],\n",
       "       [7, 8, 9]])"
      ]
     },
     "execution_count": 149,
     "metadata": {},
     "output_type": "execute_result"
    }
   ],
   "source": [
    "x = np.arange(1,10).reshape(3,3)\n",
    "x"
   ]
  },
  {
   "cell_type": "code",
   "execution_count": null,
   "id": "b7f8b86c-b799-4fe6-9508-ecb72765e952",
   "metadata": {},
   "outputs": [],
   "source": []
  },
  {
   "cell_type": "code",
   "execution_count": 150,
   "id": "7b48aaf3-771e-412b-b924-b5349a20c464",
   "metadata": {},
   "outputs": [
    {
     "data": {
      "text/plain": [
       "array([[1, 2],\n",
       "       [3, 4]])"
      ]
     },
     "execution_count": 150,
     "metadata": {},
     "output_type": "execute_result"
    }
   ],
   "source": [
    "x = np.arange(1,5).reshape(2,2)\n",
    "x"
   ]
  },
  {
   "cell_type": "code",
   "execution_count": null,
   "id": "4091820d-9234-4aa8-8e2f-9433aedc39cd",
   "metadata": {},
   "outputs": [],
   "source": []
  },
  {
   "cell_type": "code",
   "execution_count": 167,
   "id": "809a998b-9092-4da3-9cd6-86a23f2aa665",
   "metadata": {},
   "outputs": [
    {
     "data": {
      "text/plain": [
       "array([10.        , 17.14285714, 24.28571429, 31.42857143, 38.57142857,\n",
       "       45.71428571, 52.85714286, 60.        ])"
      ]
     },
     "execution_count": 167,
     "metadata": {},
     "output_type": "execute_result"
    }
   ],
   "source": [
    "# by default 50 equal partition\n",
    "\n",
    "x = np.linspace(10,60,8)\n",
    "x"
   ]
  },
  {
   "cell_type": "code",
   "execution_count": null,
   "id": "f64a04bb-0d8e-4a18-8d0e-ec630565e37b",
   "metadata": {},
   "outputs": [],
   "source": []
  },
  {
   "cell_type": "code",
   "execution_count": 172,
   "id": "72bca2a9-8b7d-4201-9c4e-1a504a55d7b8",
   "metadata": {},
   "outputs": [
    {
     "data": {
      "text/plain": [
       "array([[1, 1, 1, 1],\n",
       "       [1, 1, 1, 1],\n",
       "       [1, 1, 1, 1]])"
      ]
     },
     "execution_count": 172,
     "metadata": {},
     "output_type": "execute_result"
    }
   ],
   "source": [
    "x = np.ones((3,4) , dtype = int)\n",
    "x"
   ]
  },
  {
   "cell_type": "code",
   "execution_count": null,
   "id": "c102f7cc-9cbc-4b96-81df-d1044cdf776d",
   "metadata": {},
   "outputs": [],
   "source": []
  },
  {
   "cell_type": "code",
   "execution_count": 173,
   "id": "ba3ace55-58d9-48a9-b6b7-659f6a7e26d1",
   "metadata": {},
   "outputs": [
    {
     "data": {
      "text/plain": [
       "array([[0, 0, 0, 0],\n",
       "       [0, 0, 0, 0],\n",
       "       [0, 0, 0, 0]])"
      ]
     },
     "execution_count": 173,
     "metadata": {},
     "output_type": "execute_result"
    }
   ],
   "source": [
    "x = np.zeros((3,4) , dtype = int)\n",
    "x"
   ]
  },
  {
   "cell_type": "code",
   "execution_count": null,
   "id": "7bad40ed-6bd7-4db1-8d97-8b3796908aee",
   "metadata": {},
   "outputs": [],
   "source": []
  },
  {
   "cell_type": "code",
   "execution_count": null,
   "id": "4560aed6-3ce3-4f49-b15b-1765d53e701e",
   "metadata": {},
   "outputs": [],
   "source": []
  },
  {
   "cell_type": "code",
   "execution_count": 178,
   "id": "4ac218fa-7127-4c86-b44a-9e9e1ac5b430",
   "metadata": {},
   "outputs": [],
   "source": [
    "# intervw qns"
   ]
  },
  {
   "cell_type": "code",
   "execution_count": null,
   "id": "267dbe67-5a34-40ad-ab7f-264d943c6945",
   "metadata": {},
   "outputs": [],
   "source": []
  },
  {
   "cell_type": "code",
   "execution_count": 183,
   "id": "b235b102-8977-4238-ae10-f32bf006744c",
   "metadata": {},
   "outputs": [
    {
     "data": {
      "text/plain": [
       "array([[1, 0, 0, 0],\n",
       "       [0, 1, 0, 0],\n",
       "       [0, 0, 1, 0]])"
      ]
     },
     "execution_count": 183,
     "metadata": {},
     "output_type": "execute_result"
    }
   ],
   "source": [
    "x = np.eye(3,4, dtype = int)\n",
    "x"
   ]
  },
  {
   "cell_type": "code",
   "execution_count": null,
   "id": "3abff013-cf9c-413d-a006-5f1688078ef4",
   "metadata": {},
   "outputs": [],
   "source": []
  },
  {
   "cell_type": "code",
   "execution_count": 186,
   "id": "402f0662-f64e-45f6-85c7-24fd95edd145",
   "metadata": {},
   "outputs": [
    {
     "data": {
      "text/plain": [
       "array([[1, 0, 0],\n",
       "       [0, 1, 0],\n",
       "       [0, 0, 1]])"
      ]
     },
     "execution_count": 186,
     "metadata": {},
     "output_type": "execute_result"
    }
   ],
   "source": [
    "# only square matrix\n",
    "\n",
    "x = np.identity(3, dtype = int)\n",
    "x"
   ]
  },
  {
   "cell_type": "code",
   "execution_count": null,
   "id": "1e1ab457-d4b2-4168-bcdc-f2a256cd07f9",
   "metadata": {},
   "outputs": [],
   "source": []
  },
  {
   "cell_type": "code",
   "execution_count": 187,
   "id": "b690745d-cd93-4441-b3f3-b0099791cdc3",
   "metadata": {},
   "outputs": [],
   "source": [
    "# random"
   ]
  },
  {
   "cell_type": "code",
   "execution_count": 188,
   "id": "4924ad86-60b9-4cc2-a585-4c77e440e845",
   "metadata": {},
   "outputs": [],
   "source": [
    "import numpy as np"
   ]
  },
  {
   "cell_type": "code",
   "execution_count": 198,
   "id": "7c858089-258f-4f6d-a408-c42156e313df",
   "metadata": {},
   "outputs": [],
   "source": [
    "# 2d + 2d +2d --> 3 d matrix"
   ]
  },
  {
   "cell_type": "code",
   "execution_count": null,
   "id": "1ce9a433-a10d-422a-bd47-6f9c74e0ff7f",
   "metadata": {},
   "outputs": [],
   "source": []
  },
  {
   "cell_type": "code",
   "execution_count": 190,
   "id": "2840572c-2af4-4af2-bc4d-83718f871371",
   "metadata": {},
   "outputs": [],
   "source": [
    "# indexing \n",
    "# slicing"
   ]
  },
  {
   "cell_type": "code",
   "execution_count": 191,
   "id": "1608272b-8b97-4645-9336-e770c518ba30",
   "metadata": {},
   "outputs": [
    {
     "data": {
      "text/plain": [
       "array([1, 2, 3, 4, 5, 6, 7, 8])"
      ]
     },
     "execution_count": 191,
     "metadata": {},
     "output_type": "execute_result"
    }
   ],
   "source": [
    "x = np.array([1,2,3,4,5,6,7,8])\n",
    "x"
   ]
  },
  {
   "cell_type": "code",
   "execution_count": 192,
   "id": "365c19e3-3565-4fcd-875b-353794c139b3",
   "metadata": {},
   "outputs": [
    {
     "data": {
      "text/plain": [
       "1"
      ]
     },
     "execution_count": 192,
     "metadata": {},
     "output_type": "execute_result"
    }
   ],
   "source": [
    "x[0]"
   ]
  },
  {
   "cell_type": "code",
   "execution_count": 193,
   "id": "26b3be13-39ed-4f06-88c2-761d5c1f3990",
   "metadata": {},
   "outputs": [
    {
     "data": {
      "text/plain": [
       "3"
      ]
     },
     "execution_count": 193,
     "metadata": {},
     "output_type": "execute_result"
    }
   ],
   "source": [
    "x[2]"
   ]
  },
  {
   "cell_type": "code",
   "execution_count": 194,
   "id": "b7919e53-f0fd-44fe-8f9b-c65444ae3326",
   "metadata": {},
   "outputs": [
    {
     "data": {
      "text/plain": [
       "8"
      ]
     },
     "execution_count": 194,
     "metadata": {},
     "output_type": "execute_result"
    }
   ],
   "source": [
    "x[-1]"
   ]
  },
  {
   "cell_type": "code",
   "execution_count": 195,
   "id": "79a90ff7-0a0d-498f-8b2f-c3c9414433c3",
   "metadata": {},
   "outputs": [],
   "source": [
    "# slicing"
   ]
  },
  {
   "cell_type": "code",
   "execution_count": 196,
   "id": "c76efd74-b47c-4a97-86b3-56967d2fdc5e",
   "metadata": {},
   "outputs": [
    {
     "data": {
      "text/plain": [
       "array([3, 4, 5, 6, 7])"
      ]
     },
     "execution_count": 196,
     "metadata": {},
     "output_type": "execute_result"
    }
   ],
   "source": [
    "x[2:7]"
   ]
  },
  {
   "cell_type": "code",
   "execution_count": null,
   "id": "38c02670-7ddc-4f5c-92c8-8213dfad433a",
   "metadata": {},
   "outputs": [],
   "source": []
  },
  {
   "cell_type": "code",
   "execution_count": 197,
   "id": "a0211b81-ab8f-413d-9043-b0f07c7051f6",
   "metadata": {},
   "outputs": [],
   "source": [
    "# slicing "
   ]
  },
  {
   "cell_type": "code",
   "execution_count": 199,
   "id": "418a8749-7f08-4227-83d7-5551325b15b5",
   "metadata": {},
   "outputs": [],
   "source": [
    "#          row              column\n",
    "# s[start:stop:step , start :stop :step]"
   ]
  },
  {
   "cell_type": "code",
   "execution_count": null,
   "id": "70ca87b9-9d93-492f-8edc-78ca4dca651c",
   "metadata": {},
   "outputs": [],
   "source": []
  },
  {
   "cell_type": "code",
   "execution_count": 201,
   "id": "688ad083-ea0e-4297-a3c1-edd1e1c7376f",
   "metadata": {},
   "outputs": [
    {
     "data": {
      "text/plain": [
       "array([[ 0,  1,  2,  3,  4,  5,  6,  7,  8,  9],\n",
       "       [10, 11, 12, 13, 14, 15, 16, 17, 18, 19],\n",
       "       [20, 21, 22, 23, 24, 25, 26, 27, 28, 29],\n",
       "       [30, 31, 32, 33, 34, 35, 36, 37, 38, 39],\n",
       "       [40, 41, 42, 43, 44, 45, 46, 47, 48, 49],\n",
       "       [50, 51, 52, 53, 54, 55, 56, 57, 58, 59],\n",
       "       [60, 61, 62, 63, 64, 65, 66, 67, 68, 69],\n",
       "       [70, 71, 72, 73, 74, 75, 76, 77, 78, 79],\n",
       "       [80, 81, 82, 83, 84, 85, 86, 87, 88, 89],\n",
       "       [90, 91, 92, 93, 94, 95, 96, 97, 98, 99]])"
      ]
     },
     "execution_count": 201,
     "metadata": {},
     "output_type": "execute_result"
    }
   ],
   "source": [
    "x = np.arange(0,100).reshape(10,10)\n",
    "x"
   ]
  },
  {
   "cell_type": "code",
   "execution_count": null,
   "id": "4e2cb717-3d05-4e37-a312-d6ac8161a747",
   "metadata": {},
   "outputs": [],
   "source": [
    "10 12 14\n",
    "30 22 34\n",
    "50 52 54"
   ]
  },
  {
   "cell_type": "code",
   "execution_count": 206,
   "id": "fe5433e0-56cb-4608-91e4-0945e21b0ff7",
   "metadata": {},
   "outputs": [
    {
     "data": {
      "text/plain": [
       "array([[10, 12, 14],\n",
       "       [30, 32, 34],\n",
       "       [50, 52, 54]])"
      ]
     },
     "execution_count": 206,
     "metadata": {},
     "output_type": "execute_result"
    }
   ],
   "source": [
    "x[1:6:2, 0:5:2]"
   ]
  },
  {
   "cell_type": "code",
   "execution_count": null,
   "id": "51257290-a037-4a6d-8f50-df24531d4bed",
   "metadata": {},
   "outputs": [],
   "source": []
  },
  {
   "cell_type": "code",
   "execution_count": 205,
   "id": "ce9f3f5f-3f4f-44b9-acc9-96ae1e035994",
   "metadata": {},
   "outputs": [
    {
     "data": {
      "text/plain": [
       "array([[22, 23, 24, 25],\n",
       "       [32, 33, 34, 35],\n",
       "       [42, 43, 44, 45],\n",
       "       [52, 53, 54, 55]])"
      ]
     },
     "execution_count": 205,
     "metadata": {},
     "output_type": "execute_result"
    }
   ],
   "source": [
    "x[2:6,2:6]"
   ]
  },
  {
   "cell_type": "code",
   "execution_count": null,
   "id": "a9236bbe-a6c9-4256-962e-21fa8f9c3e88",
   "metadata": {},
   "outputs": [],
   "source": []
  },
  {
   "cell_type": "code",
   "execution_count": 203,
   "id": "49065664-bf86-47ed-aee0-3eb2822dfb06",
   "metadata": {},
   "outputs": [
    {
     "data": {
      "text/plain": [
       "array([[ 0,  1,  2,  3,  4,  5,  6,  7,  8,  9],\n",
       "       [10, 11, 12, 13, 14, 15, 16, 17, 18, 19],\n",
       "       [20, 21, 22, 23, 24, 25, 26, 27, 28, 29],\n",
       "       [30, 31, 32, 33, 34, 35, 36, 37, 38, 39],\n",
       "       [40, 41, 42, 43, 44, 45, 46, 47, 48, 49]])"
      ]
     },
     "execution_count": 203,
     "metadata": {},
     "output_type": "execute_result"
    }
   ],
   "source": [
    "x[0:5,::]"
   ]
  },
  {
   "cell_type": "code",
   "execution_count": 204,
   "id": "331c1238-8d3c-450b-8df3-233a20e080aa",
   "metadata": {},
   "outputs": [
    {
     "data": {
      "text/plain": [
       "array([[ 4,  5,  6,  7],\n",
       "       [14, 15, 16, 17],\n",
       "       [24, 25, 26, 27],\n",
       "       [34, 35, 36, 37],\n",
       "       [44, 45, 46, 47],\n",
       "       [54, 55, 56, 57],\n",
       "       [64, 65, 66, 67],\n",
       "       [74, 75, 76, 77],\n",
       "       [84, 85, 86, 87],\n",
       "       [94, 95, 96, 97]])"
      ]
     },
     "execution_count": 204,
     "metadata": {},
     "output_type": "execute_result"
    }
   ],
   "source": [
    "x[:,4:8]"
   ]
  },
  {
   "cell_type": "code",
   "execution_count": null,
   "id": "93477492-f16b-4b3a-970e-652a9acd167e",
   "metadata": {},
   "outputs": [],
   "source": []
  },
  {
   "cell_type": "code",
   "execution_count": 218,
   "id": "b0c057a6-9dc9-4dc1-b6de-6ebc1ff08bda",
   "metadata": {},
   "outputs": [],
   "source": [
    "# advance indexing\n",
    "# in array we can pass multiple indexing"
   ]
  },
  {
   "cell_type": "code",
   "execution_count": null,
   "id": "29c8823e-f59c-4163-8c4e-b39837e2bcb8",
   "metadata": {},
   "outputs": [],
   "source": []
  },
  {
   "cell_type": "code",
   "execution_count": 208,
   "id": "f114441a-7900-4753-ab93-eee2613a2f1f",
   "metadata": {},
   "outputs": [
    {
     "data": {
      "text/plain": [
       "array([1, 2, 3, 4, 5, 6, 7, 8])"
      ]
     },
     "execution_count": 208,
     "metadata": {},
     "output_type": "execute_result"
    }
   ],
   "source": [
    "x = np.array([1,2,3,4,5,6,7,8])\n",
    "x"
   ]
  },
  {
   "cell_type": "code",
   "execution_count": 211,
   "id": "8feea992-20c9-4469-b041-1d9d00f71a45",
   "metadata": {},
   "outputs": [
    {
     "data": {
      "text/plain": [
       "array([1, 3, 5])"
      ]
     },
     "execution_count": 211,
     "metadata": {},
     "output_type": "execute_result"
    }
   ],
   "source": [
    "x[0:5:2]"
   ]
  },
  {
   "cell_type": "code",
   "execution_count": 213,
   "id": "f798d78b-90ea-4dc2-8033-9834c255a14f",
   "metadata": {},
   "outputs": [
    {
     "data": {
      "text/plain": [
       "array([1, 3, 4, 7, 8])"
      ]
     },
     "execution_count": 213,
     "metadata": {},
     "output_type": "execute_result"
    }
   ],
   "source": [
    "x[[0,2,3,6,7]]"
   ]
  },
  {
   "cell_type": "code",
   "execution_count": null,
   "id": "1385ad03-1101-455c-a194-643a281f4810",
   "metadata": {},
   "outputs": [],
   "source": []
  },
  {
   "cell_type": "code",
   "execution_count": 215,
   "id": "729eb5b8-66e0-4954-a86f-e2ebeb174871",
   "metadata": {},
   "outputs": [],
   "source": [
    "l = [1,2,3,4,5,6]"
   ]
  },
  {
   "cell_type": "code",
   "execution_count": null,
   "id": "91f1a86d-f449-4e0e-ab26-c3940f064d60",
   "metadata": {},
   "outputs": [],
   "source": []
  },
  {
   "cell_type": "code",
   "execution_count": 219,
   "id": "c4a0b7f6-20aa-4f0d-a7d3-ea0d0452a502",
   "metadata": {},
   "outputs": [],
   "source": [
    "# 2-d array"
   ]
  },
  {
   "cell_type": "code",
   "execution_count": 220,
   "id": "0fb4dfed-66a8-4529-a981-4e881d6dcaa7",
   "metadata": {},
   "outputs": [
    {
     "data": {
      "text/plain": [
       "array([[ 1,  2,  3,  4],\n",
       "       [ 5,  6,  7,  8],\n",
       "       [ 9, 10, 11, 12],\n",
       "       [13, 14, 15, 16]])"
      ]
     },
     "execution_count": 220,
     "metadata": {},
     "output_type": "execute_result"
    }
   ],
   "source": [
    "x = np.arange(1,17).reshape(4,4)\n",
    "x"
   ]
  },
  {
   "cell_type": "code",
   "execution_count": 224,
   "id": "9355f4a2-cedc-41ee-9f9f-fb1c7ebf1522",
   "metadata": {},
   "outputs": [
    {
     "data": {
      "text/plain": [
       "array([2, 5, 7])"
      ]
     },
     "execution_count": 224,
     "metadata": {},
     "output_type": "execute_result"
    }
   ],
   "source": [
    "x[[0,1,1],[1,0,2]]"
   ]
  },
  {
   "cell_type": "code",
   "execution_count": 225,
   "id": "30e89e56-f894-402a-a7d5-a8bb7289091e",
   "metadata": {},
   "outputs": [],
   "source": [
    "# 1 5 9 13 14 15 16"
   ]
  },
  {
   "cell_type": "code",
   "execution_count": 231,
   "id": "8abdb93d-244b-4ec5-a11d-06ff8b656bd9",
   "metadata": {},
   "outputs": [
    {
     "data": {
      "text/plain": [
       "array([ 1,  5,  9, 13, 14, 15, 16])"
      ]
     },
     "execution_count": 231,
     "metadata": {},
     "output_type": "execute_result"
    }
   ],
   "source": [
    "x[[0,1,2,3,3,3,3],[0,0,0,0,1,2,3]]"
   ]
  },
  {
   "cell_type": "code",
   "execution_count": null,
   "id": "94aa2d29-19ed-480c-9476-93eec5d8f40c",
   "metadata": {},
   "outputs": [],
   "source": []
  },
  {
   "cell_type": "code",
   "execution_count": null,
   "id": "6a3601c1-6255-4c8a-b121-064cb9c1ebb7",
   "metadata": {},
   "outputs": [],
   "source": []
  },
  {
   "cell_type": "code",
   "execution_count": 232,
   "id": "e738f9f2-233c-490c-9a47-d57d7f923e1d",
   "metadata": {},
   "outputs": [],
   "source": [
    "# add , sub ,mul , div"
   ]
  },
  {
   "cell_type": "code",
   "execution_count": null,
   "id": "4354d2b4-3ce9-4352-b0ab-c76e42c7ca3a",
   "metadata": {},
   "outputs": [],
   "source": []
  },
  {
   "cell_type": "code",
   "execution_count": 233,
   "id": "240ef1aa-b57c-4b2c-8c8c-8118853590dd",
   "metadata": {},
   "outputs": [
    {
     "data": {
      "text/plain": [
       "array([1, 2, 3, 4, 5, 6, 7, 8])"
      ]
     },
     "execution_count": 233,
     "metadata": {},
     "output_type": "execute_result"
    }
   ],
   "source": [
    "x = np.array([1,2,3,4,5,6,7,8])\n",
    "x"
   ]
  },
  {
   "cell_type": "code",
   "execution_count": 234,
   "id": "c832ef6b-36f0-4f7d-9676-df7e6e5cf4ed",
   "metadata": {},
   "outputs": [
    {
     "data": {
      "text/plain": [
       "array([ 3,  4,  5,  6,  7,  8,  9, 10])"
      ]
     },
     "execution_count": 234,
     "metadata": {},
     "output_type": "execute_result"
    }
   ],
   "source": [
    "x+2"
   ]
  },
  {
   "cell_type": "code",
   "execution_count": 235,
   "id": "8b730e41-47ce-48a6-bb7c-cfa872fa5f37",
   "metadata": {},
   "outputs": [
    {
     "data": {
      "text/plain": [
       "array([-1,  0,  1,  2,  3,  4,  5,  6])"
      ]
     },
     "execution_count": 235,
     "metadata": {},
     "output_type": "execute_result"
    }
   ],
   "source": [
    "x-2"
   ]
  },
  {
   "cell_type": "code",
   "execution_count": 236,
   "id": "35ede5ea-aa0e-43cc-8162-cff2938c37d8",
   "metadata": {},
   "outputs": [
    {
     "data": {
      "text/plain": [
       "array([ 3,  6,  9, 12, 15, 18, 21, 24])"
      ]
     },
     "execution_count": 236,
     "metadata": {},
     "output_type": "execute_result"
    }
   ],
   "source": [
    "x*3"
   ]
  },
  {
   "cell_type": "code",
   "execution_count": 237,
   "id": "b15d1db9-4d25-4675-acd2-7207f4c8f93a",
   "metadata": {},
   "outputs": [
    {
     "data": {
      "text/plain": [
       "array([0.5, 1. , 1.5, 2. , 2.5, 3. , 3.5, 4. ])"
      ]
     },
     "execution_count": 237,
     "metadata": {},
     "output_type": "execute_result"
    }
   ],
   "source": [
    "x/2"
   ]
  },
  {
   "cell_type": "code",
   "execution_count": 238,
   "id": "8739ecc5-4b1b-4111-98e5-9cdda0d07ca9",
   "metadata": {},
   "outputs": [
    {
     "data": {
      "text/plain": [
       "array([0, 1, 1, 2, 2, 3, 3, 4], dtype=int32)"
      ]
     },
     "execution_count": 238,
     "metadata": {},
     "output_type": "execute_result"
    }
   ],
   "source": [
    "x//2"
   ]
  },
  {
   "cell_type": "code",
   "execution_count": 239,
   "id": "128acd37-3177-4daa-93f4-ff1fcb059054",
   "metadata": {},
   "outputs": [
    {
     "data": {
      "text/plain": [
       "array([1, 0, 1, 0, 1, 0, 1, 0], dtype=int32)"
      ]
     },
     "execution_count": 239,
     "metadata": {},
     "output_type": "execute_result"
    }
   ],
   "source": [
    "x%2"
   ]
  },
  {
   "cell_type": "code",
   "execution_count": null,
   "id": "e1b1c906-5e6f-4dd6-8900-5c7a9f051b9e",
   "metadata": {},
   "outputs": [],
   "source": []
  },
  {
   "cell_type": "code",
   "execution_count": 240,
   "id": "3a3eee48-5404-49d7-b772-728306838576",
   "metadata": {},
   "outputs": [
    {
     "data": {
      "text/plain": [
       "array([[1, 2, 3],\n",
       "       [4, 5, 6],\n",
       "       [7, 8, 9]])"
      ]
     },
     "execution_count": 240,
     "metadata": {},
     "output_type": "execute_result"
    }
   ],
   "source": [
    "x = np.arange(1,10).reshape(3,3)\n",
    "x"
   ]
  },
  {
   "cell_type": "code",
   "execution_count": 241,
   "id": "481bca85-2441-43a4-9dff-bc98849f40a2",
   "metadata": {},
   "outputs": [
    {
     "data": {
      "text/plain": [
       "array([[ 3,  4,  5],\n",
       "       [ 6,  7,  8],\n",
       "       [ 9, 10, 11]])"
      ]
     },
     "execution_count": 241,
     "metadata": {},
     "output_type": "execute_result"
    }
   ],
   "source": [
    "x+2"
   ]
  },
  {
   "cell_type": "code",
   "execution_count": 242,
   "id": "4a19ac1d-753a-4043-8832-15387fc651c5",
   "metadata": {},
   "outputs": [
    {
     "data": {
      "text/plain": [
       "array([[ 3,  6,  9],\n",
       "       [12, 15, 18],\n",
       "       [21, 24, 27]])"
      ]
     },
     "execution_count": 242,
     "metadata": {},
     "output_type": "execute_result"
    }
   ],
   "source": [
    "x*3"
   ]
  },
  {
   "cell_type": "code",
   "execution_count": 243,
   "id": "4822ebe5-3556-4b68-a48a-35424f9ade17",
   "metadata": {},
   "outputs": [
    {
     "data": {
      "text/plain": [
       "array([[ 1,  4,  9],\n",
       "       [16, 25, 36],\n",
       "       [49, 64, 81]])"
      ]
     },
     "execution_count": 243,
     "metadata": {},
     "output_type": "execute_result"
    }
   ],
   "source": [
    "x**2"
   ]
  },
  {
   "cell_type": "code",
   "execution_count": 244,
   "id": "53479fdb-af17-4b2b-911d-e211a888b9a7",
   "metadata": {},
   "outputs": [
    {
     "data": {
      "text/plain": [
       "array([[1.        , 1.41421356, 1.73205081],\n",
       "       [2.        , 2.23606798, 2.44948974],\n",
       "       [2.64575131, 2.82842712, 3.        ]])"
      ]
     },
     "execution_count": 244,
     "metadata": {},
     "output_type": "execute_result"
    }
   ],
   "source": [
    "x**.5"
   ]
  },
  {
   "cell_type": "code",
   "execution_count": 245,
   "id": "471ab95f-ae91-435e-b47f-98a1abb6c156",
   "metadata": {},
   "outputs": [
    {
     "data": {
      "text/plain": [
       "array([[1.        , 1.41421356, 1.73205081],\n",
       "       [2.        , 2.23606798, 2.44948974],\n",
       "       [2.64575131, 2.82842712, 3.        ]])"
      ]
     },
     "execution_count": 245,
     "metadata": {},
     "output_type": "execute_result"
    }
   ],
   "source": [
    "np.sqrt(x)"
   ]
  },
  {
   "cell_type": "code",
   "execution_count": null,
   "id": "50ea4eeb-fb68-4808-a33a-1478e83b1f1a",
   "metadata": {},
   "outputs": [],
   "source": []
  },
  {
   "cell_type": "code",
   "execution_count": 246,
   "id": "ac243acb-5d33-4951-acdf-4244b3512ae1",
   "metadata": {},
   "outputs": [
    {
     "data": {
      "text/plain": [
       "array([[ 4,  5,  6],\n",
       "       [ 7,  8,  9],\n",
       "       [10, 11, 12]])"
      ]
     },
     "execution_count": 246,
     "metadata": {},
     "output_type": "execute_result"
    }
   ],
   "source": [
    "np.add(x,3)"
   ]
  },
  {
   "cell_type": "code",
   "execution_count": 247,
   "id": "9a21840f-c2af-424d-9cd6-f1d002462069",
   "metadata": {},
   "outputs": [
    {
     "data": {
      "text/plain": [
       "array([[ 4,  5,  6],\n",
       "       [ 7,  8,  9],\n",
       "       [10, 11, 12]])"
      ]
     },
     "execution_count": 247,
     "metadata": {},
     "output_type": "execute_result"
    }
   ],
   "source": [
    "x+3"
   ]
  },
  {
   "cell_type": "code",
   "execution_count": null,
   "id": "8aa50b10-b255-4e1b-b112-ea873422334e",
   "metadata": {},
   "outputs": [],
   "source": []
  },
  {
   "cell_type": "code",
   "execution_count": 248,
   "id": "179343af-4741-4251-9bc2-c526dfdaaf2b",
   "metadata": {},
   "outputs": [
    {
     "data": {
      "text/plain": [
       "array([[2.71828183e+00, 7.38905610e+00, 2.00855369e+01],\n",
       "       [5.45981500e+01, 1.48413159e+02, 4.03428793e+02],\n",
       "       [1.09663316e+03, 2.98095799e+03, 8.10308393e+03]])"
      ]
     },
     "execution_count": 248,
     "metadata": {},
     "output_type": "execute_result"
    }
   ],
   "source": [
    "np.exp(x)"
   ]
  },
  {
   "cell_type": "code",
   "execution_count": 249,
   "id": "48ab1724-28aa-4f30-8f8a-505814db5e19",
   "metadata": {},
   "outputs": [
    {
     "data": {
      "text/plain": [
       "array([[0.        , 0.69314718, 1.09861229],\n",
       "       [1.38629436, 1.60943791, 1.79175947],\n",
       "       [1.94591015, 2.07944154, 2.19722458]])"
      ]
     },
     "execution_count": 249,
     "metadata": {},
     "output_type": "execute_result"
    }
   ],
   "source": [
    "np.log(x)"
   ]
  },
  {
   "cell_type": "code",
   "execution_count": 250,
   "id": "14a06808-7d0b-4d11-b2be-b1da435ed11a",
   "metadata": {},
   "outputs": [
    {
     "data": {
      "text/plain": [
       "array([[0.        , 0.30103   , 0.47712125],\n",
       "       [0.60205999, 0.69897   , 0.77815125],\n",
       "       [0.84509804, 0.90308999, 0.95424251]])"
      ]
     },
     "execution_count": 250,
     "metadata": {},
     "output_type": "execute_result"
    }
   ],
   "source": [
    "np.log10(x)"
   ]
  },
  {
   "cell_type": "code",
   "execution_count": null,
   "id": "435b324a-564a-4e94-8487-f3fb405131f8",
   "metadata": {},
   "outputs": [],
   "source": []
  },
  {
   "cell_type": "code",
   "execution_count": 255,
   "id": "77aa9ec8-2ba5-4c00-b7b7-ea59bd6cd5a2",
   "metadata": {},
   "outputs": [],
   "source": [
    "import numpy as np"
   ]
  },
  {
   "cell_type": "code",
   "execution_count": 258,
   "id": "1619affb-7555-4880-a8b2-35091def7f4a",
   "metadata": {},
   "outputs": [
    {
     "data": {
      "text/plain": [
       "array([[1, 2, 3],\n",
       "       [4, 5, 6],\n",
       "       [7, 8, 9]])"
      ]
     },
     "execution_count": 258,
     "metadata": {},
     "output_type": "execute_result"
    }
   ],
   "source": [
    "x = np.arange(1,10).reshape(3,3)\n",
    "x"
   ]
  },
  {
   "cell_type": "code",
   "execution_count": null,
   "id": "762482d9-27a3-4493-bce2-d931ff4f6e92",
   "metadata": {},
   "outputs": [],
   "source": []
  },
  {
   "cell_type": "code",
   "execution_count": 259,
   "id": "f2edca5a-00a5-451d-96bc-c0ebffb6974e",
   "metadata": {},
   "outputs": [
    {
     "data": {
      "text/plain": [
       "45"
      ]
     },
     "execution_count": 259,
     "metadata": {},
     "output_type": "execute_result"
    }
   ],
   "source": [
    "x.sum()"
   ]
  },
  {
   "cell_type": "code",
   "execution_count": 260,
   "id": "7feee9e7-e6d1-4d8b-ab26-5c326ddf04f6",
   "metadata": {},
   "outputs": [
    {
     "data": {
      "text/plain": [
       "9"
      ]
     },
     "execution_count": 260,
     "metadata": {},
     "output_type": "execute_result"
    }
   ],
   "source": [
    "x.max()"
   ]
  },
  {
   "cell_type": "code",
   "execution_count": 261,
   "id": "17ebcea9-a83f-4887-9e5e-56ff3b100bbe",
   "metadata": {},
   "outputs": [
    {
     "data": {
      "text/plain": [
       "45"
      ]
     },
     "execution_count": 261,
     "metadata": {},
     "output_type": "execute_result"
    }
   ],
   "source": [
    "x.sum()"
   ]
  },
  {
   "cell_type": "code",
   "execution_count": null,
   "id": "da502ce5-0bb2-4a9b-8703-cfdb618eb198",
   "metadata": {},
   "outputs": [],
   "source": []
  },
  {
   "cell_type": "code",
   "execution_count": 266,
   "id": "31925a8e-adbc-49ac-a3a9-6c985500d4c1",
   "metadata": {},
   "outputs": [
    {
     "data": {
      "text/plain": [
       "array([[25, 36, 11, 14],\n",
       "       [16, 32,  9, 12],\n",
       "       [18, 30,  6, 15]])"
      ]
     },
     "execution_count": 266,
     "metadata": {},
     "output_type": "execute_result"
    }
   ],
   "source": [
    "x = np.random.randint(3,40,(3,4))\n",
    "x"
   ]
  },
  {
   "cell_type": "code",
   "execution_count": 267,
   "id": "cd5e34e0-5c84-4ba9-91fb-ce3290a31c69",
   "metadata": {},
   "outputs": [
    {
     "data": {
      "text/plain": [
       "array([[25, 36, 11, 14],\n",
       "       [16, 32,  9, 12],\n",
       "       [18, 30,  6, 15]])"
      ]
     },
     "execution_count": 267,
     "metadata": {},
     "output_type": "execute_result"
    }
   ],
   "source": [
    "x"
   ]
  },
  {
   "cell_type": "code",
   "execution_count": null,
   "id": "d915c2f0-4443-400e-b092-e6cc60539a94",
   "metadata": {},
   "outputs": [],
   "source": []
  },
  {
   "cell_type": "code",
   "execution_count": 270,
   "id": "16602298-c1d0-4246-8c8f-ef2d951c5ecb",
   "metadata": {},
   "outputs": [
    {
     "data": {
      "text/plain": [
       "array([86, 69, 69])"
      ]
     },
     "execution_count": 270,
     "metadata": {},
     "output_type": "execute_result"
    }
   ],
   "source": [
    "x.sum(axis = 1)   # for rows"
   ]
  },
  {
   "cell_type": "code",
   "execution_count": 272,
   "id": "9b83be89-0020-43b5-baa3-095f9fe02ec2",
   "metadata": {},
   "outputs": [
    {
     "data": {
      "text/plain": [
       "array([59, 98, 26, 41])"
      ]
     },
     "execution_count": 272,
     "metadata": {},
     "output_type": "execute_result"
    }
   ],
   "source": [
    "x.sum(axis = 0)  # for columns"
   ]
  },
  {
   "cell_type": "code",
   "execution_count": 274,
   "id": "b7cfdb89-1df5-4eeb-a4c6-ba8713961d34",
   "metadata": {},
   "outputs": [
    {
     "data": {
      "text/plain": [
       "array([[25, 36, 11, 14],\n",
       "       [16, 32,  9, 12],\n",
       "       [18, 30,  6, 15]])"
      ]
     },
     "execution_count": 274,
     "metadata": {},
     "output_type": "execute_result"
    }
   ],
   "source": [
    "x"
   ]
  },
  {
   "cell_type": "code",
   "execution_count": 273,
   "id": "57fe11ac-6575-4de4-97ba-55813df9cc3c",
   "metadata": {},
   "outputs": [
    {
     "data": {
      "text/plain": [
       "36"
      ]
     },
     "execution_count": 273,
     "metadata": {},
     "output_type": "execute_result"
    }
   ],
   "source": [
    "x.max()"
   ]
  },
  {
   "cell_type": "code",
   "execution_count": 275,
   "id": "11672fa8-d904-4e96-8059-3d72901c6604",
   "metadata": {},
   "outputs": [
    {
     "data": {
      "text/plain": [
       "array([36, 32, 30])"
      ]
     },
     "execution_count": 275,
     "metadata": {},
     "output_type": "execute_result"
    }
   ],
   "source": [
    "x.max(axis = 1)"
   ]
  },
  {
   "cell_type": "code",
   "execution_count": 276,
   "id": "de83d415-7a4c-4a04-9bf4-6efac06aa7f6",
   "metadata": {},
   "outputs": [
    {
     "data": {
      "text/plain": [
       "array([25, 36, 11, 15])"
      ]
     },
     "execution_count": 276,
     "metadata": {},
     "output_type": "execute_result"
    }
   ],
   "source": [
    "x.max(axis = 0)"
   ]
  },
  {
   "cell_type": "code",
   "execution_count": 278,
   "id": "44fd7c0f-ec33-4501-bcaa-59a078c63a98",
   "metadata": {},
   "outputs": [
    {
     "data": {
      "text/plain": [
       "array([[25, 36, 11, 14],\n",
       "       [16, 32,  9, 12],\n",
       "       [18, 30,  6, 15]])"
      ]
     },
     "execution_count": 278,
     "metadata": {},
     "output_type": "execute_result"
    }
   ],
   "source": [
    "x"
   ]
  },
  {
   "cell_type": "code",
   "execution_count": 277,
   "id": "8241e0b0-5bad-41c8-8553-b77f4f855450",
   "metadata": {},
   "outputs": [
    {
     "data": {
      "text/plain": [
       "6"
      ]
     },
     "execution_count": 277,
     "metadata": {},
     "output_type": "execute_result"
    }
   ],
   "source": [
    "x.min()"
   ]
  },
  {
   "cell_type": "code",
   "execution_count": 279,
   "id": "36c12328-3fbb-4289-9124-930c669c3141",
   "metadata": {},
   "outputs": [
    {
     "data": {
      "text/plain": [
       "array([11,  9,  6])"
      ]
     },
     "execution_count": 279,
     "metadata": {},
     "output_type": "execute_result"
    }
   ],
   "source": [
    "x.min(axis = 1)"
   ]
  },
  {
   "cell_type": "code",
   "execution_count": 280,
   "id": "99264978-60d2-40f9-94e0-981770a42dfa",
   "metadata": {},
   "outputs": [
    {
     "data": {
      "text/plain": [
       "array([16, 30,  6, 12])"
      ]
     },
     "execution_count": 280,
     "metadata": {},
     "output_type": "execute_result"
    }
   ],
   "source": [
    "x.min(axis = 0)"
   ]
  },
  {
   "cell_type": "code",
   "execution_count": null,
   "id": "960d2931-c9e3-4452-a05b-1b90dea64333",
   "metadata": {},
   "outputs": [],
   "source": []
  },
  {
   "cell_type": "code",
   "execution_count": 282,
   "id": "054b7b87-6dd9-499b-8940-6a2e799b4187",
   "metadata": {},
   "outputs": [
    {
     "data": {
      "text/plain": [
       "array([25, 36, 11, 15])"
      ]
     },
     "execution_count": 282,
     "metadata": {},
     "output_type": "execute_result"
    }
   ],
   "source": [
    "np.max(x , axis = 0)"
   ]
  },
  {
   "cell_type": "code",
   "execution_count": null,
   "id": "5a32bfa9-2d22-41ba-a353-0b63578048d6",
   "metadata": {},
   "outputs": [],
   "source": []
  },
  {
   "cell_type": "code",
   "execution_count": 283,
   "id": "570a0dfd-2715-4a4e-9fec-88a7625e5544",
   "metadata": {},
   "outputs": [
    {
     "data": {
      "text/plain": [
       "array([[25, 36, 11, 14],\n",
       "       [16, 32,  9, 12],\n",
       "       [18, 30,  6, 15]])"
      ]
     },
     "execution_count": 283,
     "metadata": {},
     "output_type": "execute_result"
    }
   ],
   "source": [
    "x"
   ]
  },
  {
   "cell_type": "code",
   "execution_count": null,
   "id": "0abbff63-9162-4ef3-9c09-dd5eb8e976d1",
   "metadata": {},
   "outputs": [],
   "source": []
  },
  {
   "cell_type": "code",
   "execution_count": 284,
   "id": "173d97b4-3f56-4934-8cf6-ded5a201a719",
   "metadata": {},
   "outputs": [
    {
     "data": {
      "text/plain": [
       "array([[27, 38, 13, 16],\n",
       "       [18, 34, 11, 14],\n",
       "       [20, 32,  8, 17]])"
      ]
     },
     "execution_count": 284,
     "metadata": {},
     "output_type": "execute_result"
    }
   ],
   "source": [
    "x+2"
   ]
  },
  {
   "cell_type": "code",
   "execution_count": 285,
   "id": "2b9a240c-5bba-4413-ad43-b9d431f74c02",
   "metadata": {},
   "outputs": [
    {
     "data": {
      "text/plain": [
       "array([[ 75, 108,  33,  42],\n",
       "       [ 48,  96,  27,  36],\n",
       "       [ 54,  90,  18,  45]])"
      ]
     },
     "execution_count": 285,
     "metadata": {},
     "output_type": "execute_result"
    }
   ],
   "source": [
    "x*3"
   ]
  },
  {
   "cell_type": "code",
   "execution_count": 286,
   "id": "8a40f179-d798-4b97-b03b-7e24c205ff06",
   "metadata": {},
   "outputs": [
    {
     "data": {
      "text/plain": [
       "array([[ 8.33333333, 12.        ,  3.66666667,  4.66666667],\n",
       "       [ 5.33333333, 10.66666667,  3.        ,  4.        ],\n",
       "       [ 6.        , 10.        ,  2.        ,  5.        ]])"
      ]
     },
     "execution_count": 286,
     "metadata": {},
     "output_type": "execute_result"
    }
   ],
   "source": [
    "x/3"
   ]
  },
  {
   "cell_type": "code",
   "execution_count": null,
   "id": "c06a7734-877a-4418-a731-3d35513518a7",
   "metadata": {},
   "outputs": [],
   "source": []
  },
  {
   "cell_type": "code",
   "execution_count": 287,
   "id": "f92b46ad-f221-4e2d-a069-262ed60d0d78",
   "metadata": {},
   "outputs": [
    {
     "data": {
      "text/plain": [
       "array([[25, 36, 11, 14],\n",
       "       [16, 32,  9, 12],\n",
       "       [18, 30,  6, 15]])"
      ]
     },
     "execution_count": 287,
     "metadata": {},
     "output_type": "execute_result"
    }
   ],
   "source": [
    "x"
   ]
  },
  {
   "cell_type": "code",
   "execution_count": null,
   "id": "7d05a175-a28c-44f5-92ae-c57a36cff983",
   "metadata": {},
   "outputs": [],
   "source": []
  },
  {
   "cell_type": "code",
   "execution_count": 288,
   "id": "ac76fe7b-fe5d-4033-9b84-cf04d3a87e61",
   "metadata": {},
   "outputs": [],
   "source": [
    "# how to iterate over array"
   ]
  },
  {
   "cell_type": "code",
   "execution_count": 289,
   "id": "6935eb1c-c0c3-4bf2-8f68-4a701ec35c92",
   "metadata": {},
   "outputs": [],
   "source": [
    "# python loop\n",
    "# nditer\n",
    "# ndenumerate"
   ]
  },
  {
   "cell_type": "code",
   "execution_count": null,
   "id": "51477a93-06bf-4e71-9a77-c3d8737bb0b4",
   "metadata": {},
   "outputs": [],
   "source": []
  },
  {
   "cell_type": "code",
   "execution_count": 290,
   "id": "7cec7048-e96c-4fc4-a81a-c8b05a7ec03c",
   "metadata": {},
   "outputs": [
    {
     "data": {
      "text/plain": [
       "array([2, 3, 4, 5, 6, 7])"
      ]
     },
     "execution_count": 290,
     "metadata": {},
     "output_type": "execute_result"
    }
   ],
   "source": [
    "x = np.array([2,3,4,5,6,7])\n",
    "x"
   ]
  },
  {
   "cell_type": "code",
   "execution_count": 291,
   "id": "cc8e193e-90b9-4cc2-8eac-784e917dde40",
   "metadata": {},
   "outputs": [
    {
     "name": "stdout",
     "output_type": "stream",
     "text": [
      "2\n",
      "3\n",
      "4\n",
      "5\n",
      "6\n",
      "7\n"
     ]
    }
   ],
   "source": [
    "for i in x:\n",
    "    print(i)"
   ]
  },
  {
   "cell_type": "code",
   "execution_count": null,
   "id": "ba86c3b7-aa27-4d6a-8a0f-d602a5fb0327",
   "metadata": {},
   "outputs": [],
   "source": []
  },
  {
   "cell_type": "code",
   "execution_count": 293,
   "id": "44cf43ee-9565-4c0d-bbc1-3bcc67a04758",
   "metadata": {},
   "outputs": [
    {
     "data": {
      "text/plain": [
       "array([[1, 2, 3],\n",
       "       [4, 5, 6],\n",
       "       [7, 8, 9]])"
      ]
     },
     "execution_count": 293,
     "metadata": {},
     "output_type": "execute_result"
    }
   ],
   "source": [
    "x= np.arange(1,10).reshape(3,3)\n",
    "x"
   ]
  },
  {
   "cell_type": "code",
   "execution_count": 298,
   "id": "6a5de295-30d2-48ee-ab9f-7449e66f27bf",
   "metadata": {},
   "outputs": [
    {
     "data": {
      "text/plain": [
       "4"
      ]
     },
     "execution_count": 298,
     "metadata": {},
     "output_type": "execute_result"
    }
   ],
   "source": [
    "x[1][0]"
   ]
  },
  {
   "cell_type": "code",
   "execution_count": 296,
   "id": "3c06c7b5-e5da-4882-857f-9fad6c2f9d82",
   "metadata": {},
   "outputs": [
    {
     "data": {
      "text/plain": [
       "2"
      ]
     },
     "execution_count": 296,
     "metadata": {},
     "output_type": "execute_result"
    }
   ],
   "source": [
    "x[0][1]"
   ]
  },
  {
   "cell_type": "code",
   "execution_count": 297,
   "id": "afdabe24-14e7-466e-ba26-c451c1499df5",
   "metadata": {},
   "outputs": [
    {
     "data": {
      "text/plain": [
       "6"
      ]
     },
     "execution_count": 297,
     "metadata": {},
     "output_type": "execute_result"
    }
   ],
   "source": [
    "x[1][2]"
   ]
  },
  {
   "cell_type": "code",
   "execution_count": null,
   "id": "3c595d32-4391-4294-9a6e-47461680c205",
   "metadata": {},
   "outputs": [],
   "source": []
  },
  {
   "cell_type": "code",
   "execution_count": 299,
   "id": "e74724de-2514-4229-aec9-14b29db589d8",
   "metadata": {},
   "outputs": [
    {
     "data": {
      "text/plain": [
       "array([[1, 2, 3],\n",
       "       [4, 5, 6],\n",
       "       [7, 8, 9]])"
      ]
     },
     "execution_count": 299,
     "metadata": {},
     "output_type": "execute_result"
    }
   ],
   "source": [
    "x"
   ]
  },
  {
   "cell_type": "code",
   "execution_count": 301,
   "id": "44b4cec2-d30f-4289-b150-14153b7fa541",
   "metadata": {},
   "outputs": [
    {
     "name": "stdout",
     "output_type": "stream",
     "text": [
      "1\n",
      "2\n",
      "3\n",
      "4\n",
      "5\n",
      "6\n",
      "7\n",
      "8\n",
      "9\n"
     ]
    }
   ],
   "source": [
    "for i in x:\n",
    "    for j in i:\n",
    "        print(j)"
   ]
  },
  {
   "cell_type": "code",
   "execution_count": null,
   "id": "9db4c1e8-2814-4d84-8bfb-c9229177bcdf",
   "metadata": {},
   "outputs": [],
   "source": []
  },
  {
   "cell_type": "code",
   "execution_count": 302,
   "id": "f385b212-87db-442a-9923-38d801ad3b1c",
   "metadata": {},
   "outputs": [
    {
     "data": {
      "text/plain": [
       "array([[[ 1,  2,  3],\n",
       "        [ 4,  5,  6],\n",
       "        [ 7,  8,  9]],\n",
       "\n",
       "       [[10, 11, 12],\n",
       "        [13, 14, 15],\n",
       "        [16, 17, 18]]])"
      ]
     },
     "execution_count": 302,
     "metadata": {},
     "output_type": "execute_result"
    }
   ],
   "source": [
    "x= np.arange(1,19).reshape(2,3,3)\n",
    "x"
   ]
  },
  {
   "cell_type": "code",
   "execution_count": 305,
   "id": "c3c8fddf-43d0-497a-8702-d056626cac32",
   "metadata": {},
   "outputs": [
    {
     "name": "stdout",
     "output_type": "stream",
     "text": [
      "1\n",
      "2\n",
      "3\n",
      "4\n",
      "5\n",
      "6\n",
      "7\n",
      "8\n",
      "9\n",
      "10\n",
      "11\n",
      "12\n",
      "13\n",
      "14\n",
      "15\n",
      "16\n",
      "17\n",
      "18\n"
     ]
    }
   ],
   "source": [
    "for i in x:\n",
    "    for j in i:\n",
    "        for k in j:\n",
    "            print(k)\n",
    "    "
   ]
  },
  {
   "cell_type": "code",
   "execution_count": null,
   "id": "8e72385c-f396-4012-9daa-f0e33148c96a",
   "metadata": {},
   "outputs": [],
   "source": []
  },
  {
   "cell_type": "code",
   "execution_count": 307,
   "id": "65491f10-65ee-409a-af60-a6433082e011",
   "metadata": {},
   "outputs": [],
   "source": [
    "# nditer"
   ]
  },
  {
   "cell_type": "code",
   "execution_count": 308,
   "id": "c8f4a3e0-c242-473e-9048-ae108cd511f2",
   "metadata": {},
   "outputs": [
    {
     "data": {
      "text/plain": [
       "array([[1, 2, 3],\n",
       "       [4, 5, 6],\n",
       "       [7, 8, 9]])"
      ]
     },
     "execution_count": 308,
     "metadata": {},
     "output_type": "execute_result"
    }
   ],
   "source": [
    "x= np.arange(1,10).reshape(3,3)\n",
    "x"
   ]
  },
  {
   "cell_type": "code",
   "execution_count": 310,
   "id": "ecd57c64-17e3-4053-ba31-17bcb0f76005",
   "metadata": {},
   "outputs": [
    {
     "name": "stdout",
     "output_type": "stream",
     "text": [
      "1\n",
      "2\n",
      "3\n",
      "4\n",
      "5\n",
      "6\n",
      "7\n",
      "8\n",
      "9\n"
     ]
    }
   ],
   "source": [
    "for i in np.nditer(x):\n",
    "    print(i)"
   ]
  },
  {
   "cell_type": "code",
   "execution_count": null,
   "id": "42385444-9a37-4070-ab5e-4a17e8b47911",
   "metadata": {},
   "outputs": [],
   "source": []
  },
  {
   "cell_type": "code",
   "execution_count": 311,
   "id": "f3cc3886-c1ee-4664-bca3-0650301cfee7",
   "metadata": {},
   "outputs": [
    {
     "data": {
      "text/plain": [
       "array([[[ 1,  2,  3],\n",
       "        [ 4,  5,  6],\n",
       "        [ 7,  8,  9]],\n",
       "\n",
       "       [[10, 11, 12],\n",
       "        [13, 14, 15],\n",
       "        [16, 17, 18]]])"
      ]
     },
     "execution_count": 311,
     "metadata": {},
     "output_type": "execute_result"
    }
   ],
   "source": [
    "x= np.arange(1,19).reshape(2,3,3)\n",
    "x"
   ]
  },
  {
   "cell_type": "code",
   "execution_count": 312,
   "id": "cc883208-9aff-46a1-a360-d63dcc36f01f",
   "metadata": {},
   "outputs": [
    {
     "name": "stdout",
     "output_type": "stream",
     "text": [
      "1\n",
      "2\n",
      "3\n",
      "4\n",
      "5\n",
      "6\n",
      "7\n",
      "8\n",
      "9\n",
      "10\n",
      "11\n",
      "12\n",
      "13\n",
      "14\n",
      "15\n",
      "16\n",
      "17\n",
      "18\n"
     ]
    }
   ],
   "source": [
    "for i in np.nditer(x):\n",
    "    print(i)"
   ]
  },
  {
   "cell_type": "code",
   "execution_count": null,
   "id": "3809a464-de21-4d7c-ba3e-579cce186feb",
   "metadata": {},
   "outputs": [],
   "source": []
  },
  {
   "cell_type": "code",
   "execution_count": 313,
   "id": "2b495120-b4bd-4de1-9b0f-d18bcbd016b2",
   "metadata": {},
   "outputs": [],
   "source": [
    "# ndenumerate"
   ]
  },
  {
   "cell_type": "code",
   "execution_count": null,
   "id": "4f49e1bb-b35c-4925-98ab-4ee4afd72033",
   "metadata": {},
   "outputs": [],
   "source": []
  },
  {
   "cell_type": "code",
   "execution_count": 314,
   "id": "087f63e6-367a-451a-89cd-ac359c2b6b64",
   "metadata": {},
   "outputs": [
    {
     "data": {
      "text/plain": [
       "['arun', 20, 30, 40, 'ram', 50]"
      ]
     },
     "execution_count": 314,
     "metadata": {},
     "output_type": "execute_result"
    }
   ],
   "source": [
    "l = [\"arun\",20,30,40,\"ram\",50]\n",
    "l"
   ]
  },
  {
   "cell_type": "code",
   "execution_count": 317,
   "id": "ab74a3fd-6aa0-4edd-8e96-1f0e70d8a00a",
   "metadata": {},
   "outputs": [
    {
     "name": "stdout",
     "output_type": "stream",
     "text": [
      "0 arun\n",
      "1 20\n",
      "2 30\n",
      "3 40\n",
      "4 ram\n",
      "5 50\n"
     ]
    }
   ],
   "source": [
    "for i in range(len(l)):\n",
    "    print(i , l[i])"
   ]
  },
  {
   "cell_type": "code",
   "execution_count": null,
   "id": "a9438941-a0eb-4798-af68-7b92b4cc5bd8",
   "metadata": {},
   "outputs": [],
   "source": []
  },
  {
   "cell_type": "code",
   "execution_count": 318,
   "id": "920587d5-2c2b-4a7f-9301-25df0e58b194",
   "metadata": {},
   "outputs": [
    {
     "data": {
      "text/plain": [
       "['arun', 20, 30, 40, 'ram', 50]"
      ]
     },
     "execution_count": 318,
     "metadata": {},
     "output_type": "execute_result"
    }
   ],
   "source": [
    "l = [\"arun\",20,30,40,\"ram\",50]\n",
    "l"
   ]
  },
  {
   "cell_type": "code",
   "execution_count": 321,
   "id": "37a06512-8d1d-4115-a4b2-856fdf2c05a7",
   "metadata": {},
   "outputs": [
    {
     "name": "stdout",
     "output_type": "stream",
     "text": [
      "0 -- arun\n",
      "1 -- 20\n",
      "2 -- 30\n",
      "3 -- 40\n",
      "4 -- ram\n",
      "5 -- 50\n"
     ]
    }
   ],
   "source": [
    "for i , j in enumerate(l):\n",
    "    print(i ,\"--\", j)"
   ]
  },
  {
   "cell_type": "code",
   "execution_count": null,
   "id": "b74ad9a0-4eb3-4d00-95b7-195eafa3be5c",
   "metadata": {},
   "outputs": [],
   "source": []
  },
  {
   "cell_type": "code",
   "execution_count": 322,
   "id": "eae7ce90-130b-4388-aa31-07ab9857b4de",
   "metadata": {},
   "outputs": [
    {
     "data": {
      "text/plain": [
       "array([2, 3, 4, 5, 6, 7])"
      ]
     },
     "execution_count": 322,
     "metadata": {},
     "output_type": "execute_result"
    }
   ],
   "source": [
    "x = np.array([2,3,4,5,6,7])\n",
    "x"
   ]
  },
  {
   "cell_type": "code",
   "execution_count": 324,
   "id": "c892d5c8-24af-479f-9d1f-31ce32ecbf1c",
   "metadata": {},
   "outputs": [
    {
     "name": "stdout",
     "output_type": "stream",
     "text": [
      "((0,), 2)\n",
      "((1,), 3)\n",
      "((2,), 4)\n",
      "((3,), 5)\n",
      "((4,), 6)\n",
      "((5,), 7)\n"
     ]
    }
   ],
   "source": [
    "for i in np.ndenumerate(x):\n",
    "    print(i)"
   ]
  },
  {
   "cell_type": "code",
   "execution_count": null,
   "id": "4768041a-a52d-405a-a2c5-fcf9936b9e12",
   "metadata": {},
   "outputs": [],
   "source": []
  },
  {
   "cell_type": "code",
   "execution_count": null,
   "id": "41e564fd-0c01-45ac-abc4-a1b61f3690b3",
   "metadata": {},
   "outputs": [],
   "source": []
  },
  {
   "cell_type": "code",
   "execution_count": 325,
   "id": "4551b340-bfaa-416d-b899-097824803656",
   "metadata": {},
   "outputs": [
    {
     "data": {
      "text/plain": [
       "array([[1, 2, 3],\n",
       "       [4, 5, 6],\n",
       "       [7, 8, 9]])"
      ]
     },
     "execution_count": 325,
     "metadata": {},
     "output_type": "execute_result"
    }
   ],
   "source": [
    "x= np.arange(1,10).reshape(3,3)\n",
    "x"
   ]
  },
  {
   "cell_type": "code",
   "execution_count": 326,
   "id": "979123a7-b391-4275-98ba-3a79713853cb",
   "metadata": {},
   "outputs": [
    {
     "name": "stdout",
     "output_type": "stream",
     "text": [
      "((0, 0), 1)\n",
      "((0, 1), 2)\n",
      "((0, 2), 3)\n",
      "((1, 0), 4)\n",
      "((1, 1), 5)\n",
      "((1, 2), 6)\n",
      "((2, 0), 7)\n",
      "((2, 1), 8)\n",
      "((2, 2), 9)\n"
     ]
    }
   ],
   "source": [
    "for i in np.ndenumerate(x):\n",
    "    print(i)"
   ]
  },
  {
   "cell_type": "code",
   "execution_count": null,
   "id": "be180cb6-ea65-4378-accd-6d71439874ee",
   "metadata": {},
   "outputs": [],
   "source": []
  },
  {
   "cell_type": "code",
   "execution_count": 327,
   "id": "187029d3-aaac-4703-a871-2f078a9b00c5",
   "metadata": {},
   "outputs": [
    {
     "data": {
      "text/plain": [
       "array([[[ 1,  2,  3],\n",
       "        [ 4,  5,  6],\n",
       "        [ 7,  8,  9]],\n",
       "\n",
       "       [[10, 11, 12],\n",
       "        [13, 14, 15],\n",
       "        [16, 17, 18]]])"
      ]
     },
     "execution_count": 327,
     "metadata": {},
     "output_type": "execute_result"
    }
   ],
   "source": [
    "x= np.arange(1,19).reshape(2,3,3)\n",
    "x"
   ]
  },
  {
   "cell_type": "code",
   "execution_count": 328,
   "id": "d33a3ade-ea2e-4d92-b31c-bce1e6ffea40",
   "metadata": {},
   "outputs": [
    {
     "name": "stdout",
     "output_type": "stream",
     "text": [
      "((0, 0, 0), 1)\n",
      "((0, 0, 1), 2)\n",
      "((0, 0, 2), 3)\n",
      "((0, 1, 0), 4)\n",
      "((0, 1, 1), 5)\n",
      "((0, 1, 2), 6)\n",
      "((0, 2, 0), 7)\n",
      "((0, 2, 1), 8)\n",
      "((0, 2, 2), 9)\n",
      "((1, 0, 0), 10)\n",
      "((1, 0, 1), 11)\n",
      "((1, 0, 2), 12)\n",
      "((1, 1, 0), 13)\n",
      "((1, 1, 1), 14)\n",
      "((1, 1, 2), 15)\n",
      "((1, 2, 0), 16)\n",
      "((1, 2, 1), 17)\n",
      "((1, 2, 2), 18)\n"
     ]
    }
   ],
   "source": [
    "for i in np.ndenumerate(x):\n",
    "    print(i)"
   ]
  },
  {
   "cell_type": "code",
   "execution_count": null,
   "id": "ce6d1c3f-60d0-42b0-b563-74d3ce694a42",
   "metadata": {},
   "outputs": [],
   "source": []
  },
  {
   "cell_type": "code",
   "execution_count": 350,
   "id": "49d52c81-f2a4-4870-a313-788e6feb5e24",
   "metadata": {},
   "outputs": [],
   "source": [
    "# 10 batch - course \n",
    "# basic - zero\n",
    "# numpy , pandas "
   ]
  },
  {
   "cell_type": "code",
   "execution_count": null,
   "id": "b71f972c-e61d-401a-a015-d2b0ee3e40f6",
   "metadata": {},
   "outputs": [],
   "source": []
  },
  {
   "cell_type": "code",
   "execution_count": 336,
   "id": "e37463f4-abf4-4c2e-819d-e3c9c5cf5830",
   "metadata": {},
   "outputs": [
    {
     "data": {
      "text/plain": [
       "array([[1, 2, 3],\n",
       "       [4, 5, 6],\n",
       "       [7, 8, 9]])"
      ]
     },
     "execution_count": 336,
     "metadata": {},
     "output_type": "execute_result"
    }
   ],
   "source": [
    "x = np.arange(1,10).reshape(3,3)\n",
    "x"
   ]
  },
  {
   "cell_type": "code",
   "execution_count": 345,
   "id": "cde7ef5a-c04e-4ac2-ab58-b99f8227a800",
   "metadata": {},
   "outputs": [
    {
     "name": "stdout",
     "output_type": "stream",
     "text": [
      "0 0 ---- 1\n",
      "0 1 ---- 2\n",
      "0 2 ---- 3\n",
      "1 0 ---- 4\n",
      "1 1 ---- 5\n",
      "1 2 ---- 6\n",
      "2 0 ---- 7\n",
      "2 1 ---- 8\n",
      "2 2 ---- 9\n"
     ]
    }
   ],
   "source": [
    "for i  in range(len(x)):\n",
    "    for j in range(len(x[i])):\n",
    "        print(i,j, \"----\",x[i][j])"
   ]
  },
  {
   "cell_type": "code",
   "execution_count": null,
   "id": "b5ec6b87-b873-469d-841a-f7d430223de1",
   "metadata": {},
   "outputs": [],
   "source": []
  },
  {
   "cell_type": "code",
   "execution_count": 353,
   "id": "f783288c-b6d8-40f8-8d5d-b6919da931d3",
   "metadata": {},
   "outputs": [
    {
     "data": {
      "text/plain": [
       "2"
      ]
     },
     "execution_count": 353,
     "metadata": {},
     "output_type": "execute_result"
    }
   ],
   "source": [
    "x[0][1]"
   ]
  },
  {
   "cell_type": "code",
   "execution_count": null,
   "id": "283e8e78-bc73-4c1b-a664-ef4c2098ca62",
   "metadata": {},
   "outputs": [],
   "source": []
  },
  {
   "cell_type": "code",
   "execution_count": null,
   "id": "59aaeddc-5820-4311-b4c7-0f9fc0a8ca56",
   "metadata": {},
   "outputs": [],
   "source": []
  },
  {
   "cell_type": "code",
   "execution_count": 356,
   "id": "fb40658c-01ea-48b9-a0b8-9f2a30e494f1",
   "metadata": {},
   "outputs": [],
   "source": [
    "# concatenation\n",
    "# stacking"
   ]
  },
  {
   "cell_type": "code",
   "execution_count": 357,
   "id": "006998ef-266a-4cc1-86c6-3d82caabe111",
   "metadata": {},
   "outputs": [],
   "source": [
    "# 2 matrix - concat"
   ]
  },
  {
   "cell_type": "code",
   "execution_count": 361,
   "id": "0bb6a2bf-2027-472f-82d7-7b6e3f046cf0",
   "metadata": {},
   "outputs": [],
   "source": [
    "# 1-d array"
   ]
  },
  {
   "cell_type": "code",
   "execution_count": 362,
   "id": "f17feffd-6965-4658-91b0-4d06d5239470",
   "metadata": {},
   "outputs": [],
   "source": [
    "# 1d + 1d => 1d"
   ]
  },
  {
   "cell_type": "code",
   "execution_count": null,
   "id": "68ad2212-023c-4188-bd0c-14826c7519ac",
   "metadata": {},
   "outputs": [],
   "source": []
  },
  {
   "cell_type": "code",
   "execution_count": 358,
   "id": "5bd81447-1025-40d4-b9eb-d5e35de6989b",
   "metadata": {},
   "outputs": [],
   "source": [
    "x = np.array([2,3,4,5,6])\n",
    "y = np.array([1,2,3,4,5])"
   ]
  },
  {
   "cell_type": "code",
   "execution_count": 363,
   "id": "4ea60771-4f3b-4eca-8db6-4b72503cb4b5",
   "metadata": {},
   "outputs": [
    {
     "data": {
      "text/plain": [
       "array([2, 3, 4, 5, 6])"
      ]
     },
     "execution_count": 363,
     "metadata": {},
     "output_type": "execute_result"
    }
   ],
   "source": [
    "x"
   ]
  },
  {
   "cell_type": "code",
   "execution_count": 364,
   "id": "1f6baaac-e63e-43be-aaef-f4f7ec3927d3",
   "metadata": {},
   "outputs": [
    {
     "data": {
      "text/plain": [
       "array([1, 2, 3, 4, 5])"
      ]
     },
     "execution_count": 364,
     "metadata": {},
     "output_type": "execute_result"
    }
   ],
   "source": [
    "y"
   ]
  },
  {
   "cell_type": "code",
   "execution_count": null,
   "id": "d35b3a15-41d0-485b-b2b1-9fd95dc39281",
   "metadata": {},
   "outputs": [],
   "source": []
  },
  {
   "cell_type": "code",
   "execution_count": 365,
   "id": "c804cb0f-026b-4604-a0e6-47c5ea907a92",
   "metadata": {},
   "outputs": [
    {
     "data": {
      "text/plain": [
       "array([2, 3, 4, 5, 6, 1, 2, 3, 4, 5])"
      ]
     },
     "execution_count": 365,
     "metadata": {},
     "output_type": "execute_result"
    }
   ],
   "source": [
    "np.concatenate((x,y))"
   ]
  },
  {
   "cell_type": "code",
   "execution_count": null,
   "id": "c8277240-ca71-49e7-82b9-099327171213",
   "metadata": {},
   "outputs": [],
   "source": []
  },
  {
   "cell_type": "code",
   "execution_count": 367,
   "id": "890a9c55-ceb9-4619-a8fa-f4a28d2a9672",
   "metadata": {},
   "outputs": [],
   "source": [
    "# 2d array\n",
    "\n",
    "# 2d + 2d = 2d array"
   ]
  },
  {
   "cell_type": "code",
   "execution_count": 368,
   "id": "63d1279c-b80b-4e85-852f-10c1905c7fae",
   "metadata": {},
   "outputs": [
    {
     "data": {
      "text/plain": [
       "array([[19, 10, 24],\n",
       "       [ 6, 17,  8],\n",
       "       [27, 25,  5]])"
      ]
     },
     "execution_count": 368,
     "metadata": {},
     "output_type": "execute_result"
    }
   ],
   "source": [
    "x = np.random.randint(1,30,(3,3))\n",
    "x"
   ]
  },
  {
   "cell_type": "code",
   "execution_count": 369,
   "id": "76360330-c253-438b-a804-f472d675b543",
   "metadata": {},
   "outputs": [
    {
     "data": {
      "text/plain": [
       "array([[ 5,  3,  1],\n",
       "       [ 5, 28, 14],\n",
       "       [19, 18, 21]])"
      ]
     },
     "execution_count": 369,
     "metadata": {},
     "output_type": "execute_result"
    }
   ],
   "source": [
    "y = np.random.randint(1,30,(3,3))\n",
    "y"
   ]
  },
  {
   "cell_type": "code",
   "execution_count": 370,
   "id": "658d358c-069c-4866-b0d1-b2de7797b30d",
   "metadata": {},
   "outputs": [
    {
     "data": {
      "text/plain": [
       "array([[19, 10, 24],\n",
       "       [ 6, 17,  8],\n",
       "       [27, 25,  5],\n",
       "       [ 5,  3,  1],\n",
       "       [ 5, 28, 14],\n",
       "       [19, 18, 21]])"
      ]
     },
     "execution_count": 370,
     "metadata": {},
     "output_type": "execute_result"
    }
   ],
   "source": [
    "np.concatenate((x,y))"
   ]
  },
  {
   "cell_type": "code",
   "execution_count": 371,
   "id": "8dee2503-79a8-4ebc-b440-cca5f280f212",
   "metadata": {},
   "outputs": [
    {
     "data": {
      "text/plain": [
       "array([[19, 10, 24],\n",
       "       [ 6, 17,  8],\n",
       "       [27, 25,  5],\n",
       "       [ 5,  3,  1],\n",
       "       [ 5, 28, 14],\n",
       "       [19, 18, 21]])"
      ]
     },
     "execution_count": 371,
     "metadata": {},
     "output_type": "execute_result"
    }
   ],
   "source": [
    "np.concatenate((x,y) , axis = 0)"
   ]
  },
  {
   "cell_type": "code",
   "execution_count": 372,
   "id": "5ffa5ba7-a6aa-456f-af19-191905f0409d",
   "metadata": {},
   "outputs": [
    {
     "data": {
      "text/plain": [
       "array([[19, 10, 24,  5,  3,  1],\n",
       "       [ 6, 17,  8,  5, 28, 14],\n",
       "       [27, 25,  5, 19, 18, 21]])"
      ]
     },
     "execution_count": 372,
     "metadata": {},
     "output_type": "execute_result"
    }
   ],
   "source": [
    "np.concatenate((x,y) , axis = 1)"
   ]
  },
  {
   "cell_type": "code",
   "execution_count": 373,
   "id": "8ad4fe1d-6e67-408c-bd4a-a64b35b7f25e",
   "metadata": {},
   "outputs": [
    {
     "data": {
      "text/plain": [
       "array([19, 10, 24,  6, 17,  8, 27, 25,  5,  5,  3,  1,  5, 28, 14, 19, 18,\n",
       "       21])"
      ]
     },
     "execution_count": 373,
     "metadata": {},
     "output_type": "execute_result"
    }
   ],
   "source": [
    "np.concatenate((x,y) , axis = None)"
   ]
  },
  {
   "cell_type": "code",
   "execution_count": 374,
   "id": "575a709b-7743-40c0-8027-b0a1dabf636f",
   "metadata": {},
   "outputs": [],
   "source": [
    "# axis = None - frst all matrix will converted into 1d and thn concatenation will perform"
   ]
  },
  {
   "cell_type": "code",
   "execution_count": null,
   "id": "89131c73-70e5-4d45-aa23-ab27b57f0119",
   "metadata": {},
   "outputs": [],
   "source": []
  },
  {
   "cell_type": "code",
   "execution_count": 377,
   "id": "3d20e280-d605-4ac7-8264-c626849ff725",
   "metadata": {},
   "outputs": [
    {
     "data": {
      "text/plain": [
       "array([[11, 11, 10],\n",
       "       [26, 15,  4],\n",
       "       [14,  5, 20]])"
      ]
     },
     "execution_count": 377,
     "metadata": {},
     "output_type": "execute_result"
    }
   ],
   "source": [
    "x = np.random.randint(1,30,(3,3))\n",
    "x"
   ]
  },
  {
   "cell_type": "code",
   "execution_count": 382,
   "id": "2580825c-55f7-44a9-b8cc-312e1b50d373",
   "metadata": {},
   "outputs": [
    {
     "data": {
      "text/plain": [
       "array([[19, 18, 26, 15],\n",
       "       [15, 16, 28, 16],\n",
       "       [ 4, 16, 13, 26]])"
      ]
     },
     "execution_count": 382,
     "metadata": {},
     "output_type": "execute_result"
    }
   ],
   "source": [
    "y = np.random.randint(1,30,(3,4))\n",
    "y"
   ]
  },
  {
   "cell_type": "code",
   "execution_count": 384,
   "id": "e707b615-f709-4d96-9573-8f25b0b1dc40",
   "metadata": {},
   "outputs": [
    {
     "data": {
      "text/plain": [
       "array([[11, 11, 10, 19, 18, 26, 15],\n",
       "       [26, 15,  4, 15, 16, 28, 16],\n",
       "       [14,  5, 20,  4, 16, 13, 26]])"
      ]
     },
     "execution_count": 384,
     "metadata": {},
     "output_type": "execute_result"
    }
   ],
   "source": [
    "np.concatenate((x,y) , axis = 1)"
   ]
  },
  {
   "cell_type": "code",
   "execution_count": null,
   "id": "75180541-1c5f-4a4d-a539-7a6e209cd3df",
   "metadata": {},
   "outputs": [],
   "source": []
  },
  {
   "cell_type": "code",
   "execution_count": 386,
   "id": "d4431c9e-1789-46ff-a903-145c5623c112",
   "metadata": {},
   "outputs": [],
   "source": [
    "# stack"
   ]
  },
  {
   "cell_type": "code",
   "execution_count": 387,
   "id": "057d06f6-30ec-48b5-bdca-9f550a4b050b",
   "metadata": {},
   "outputs": [],
   "source": [
    "# 1-d\n",
    "\n",
    "# 1d + 1d -> 2d"
   ]
  },
  {
   "cell_type": "code",
   "execution_count": 388,
   "id": "ac5afd81-3b6b-41f3-9f98-19c3dff33c11",
   "metadata": {},
   "outputs": [
    {
     "data": {
      "text/plain": [
       "array([3, 4, 5, 6])"
      ]
     },
     "execution_count": 388,
     "metadata": {},
     "output_type": "execute_result"
    }
   ],
   "source": [
    "x =  np.array([3,4,5,6])\n",
    "x"
   ]
  },
  {
   "cell_type": "code",
   "execution_count": 389,
   "id": "3f37c036-8674-47c3-98e3-4f12b0b55682",
   "metadata": {},
   "outputs": [
    {
     "data": {
      "text/plain": [
       "array([1, 2, 3, 4])"
      ]
     },
     "execution_count": 389,
     "metadata": {},
     "output_type": "execute_result"
    }
   ],
   "source": [
    "y = np.array([1,2,3,4])\n",
    "y"
   ]
  },
  {
   "cell_type": "code",
   "execution_count": 393,
   "id": "3b4e6bde-c1ad-4a21-a93e-a569439b887c",
   "metadata": {},
   "outputs": [
    {
     "data": {
      "text/plain": [
       "array([[3, 4, 5, 6],\n",
       "       [1, 2, 3, 4]])"
      ]
     },
     "execution_count": 393,
     "metadata": {},
     "output_type": "execute_result"
    }
   ],
   "source": [
    "np.stack((x,y) , axis = 0)"
   ]
  },
  {
   "cell_type": "code",
   "execution_count": 395,
   "id": "03407390-728b-4d32-8520-b9eccfebdeb4",
   "metadata": {},
   "outputs": [],
   "source": [
    "a = np.stack((x,y) , axis = 1)"
   ]
  },
  {
   "cell_type": "code",
   "execution_count": 396,
   "id": "ed9d0935-e481-4586-8804-c1cafcc84580",
   "metadata": {},
   "outputs": [
    {
     "data": {
      "text/plain": [
       "array([[3, 1],\n",
       "       [4, 2],\n",
       "       [5, 3],\n",
       "       [6, 4]])"
      ]
     },
     "execution_count": 396,
     "metadata": {},
     "output_type": "execute_result"
    }
   ],
   "source": [
    "a"
   ]
  },
  {
   "cell_type": "code",
   "execution_count": 397,
   "id": "3a2b1ab9-e466-4425-9d22-fc1e9d083dea",
   "metadata": {},
   "outputs": [
    {
     "data": {
      "text/plain": [
       "2"
      ]
     },
     "execution_count": 397,
     "metadata": {},
     "output_type": "execute_result"
    }
   ],
   "source": [
    "a.ndim"
   ]
  },
  {
   "cell_type": "code",
   "execution_count": null,
   "id": "41fdcbce-1786-4ad5-9ca9-46c453c84384",
   "metadata": {},
   "outputs": [],
   "source": []
  },
  {
   "cell_type": "code",
   "execution_count": 401,
   "id": "58487160-9204-4222-826b-65e8a560fb9f",
   "metadata": {},
   "outputs": [],
   "source": [
    "# 2d + 2d -> 3d"
   ]
  },
  {
   "cell_type": "code",
   "execution_count": 398,
   "id": "46068016-1774-43a2-9981-ef15235d787a",
   "metadata": {},
   "outputs": [
    {
     "data": {
      "text/plain": [
       "array([[21, 15, 21],\n",
       "       [29, 21, 21],\n",
       "       [23, 15,  6]])"
      ]
     },
     "execution_count": 398,
     "metadata": {},
     "output_type": "execute_result"
    }
   ],
   "source": [
    "x = np.random.randint(1,30,(3,3))\n",
    "x"
   ]
  },
  {
   "cell_type": "code",
   "execution_count": 400,
   "id": "5ac96728-1af8-4cac-97ce-e4d91215f85f",
   "metadata": {},
   "outputs": [
    {
     "data": {
      "text/plain": [
       "array([[11,  3, 10],\n",
       "       [ 7, 25, 17],\n",
       "       [18, 18, 27]])"
      ]
     },
     "execution_count": 400,
     "metadata": {},
     "output_type": "execute_result"
    }
   ],
   "source": [
    "y = np.random.randint(1,30,(3,3))\n",
    "y"
   ]
  },
  {
   "cell_type": "code",
   "execution_count": null,
   "id": "fecc989b-63db-4053-96f0-461484c25408",
   "metadata": {},
   "outputs": [],
   "source": []
  },
  {
   "cell_type": "code",
   "execution_count": 404,
   "id": "93c89d27-329a-416f-a4f1-c2f6858ec695",
   "metadata": {},
   "outputs": [
    {
     "data": {
      "text/plain": [
       "array([[[21, 15, 21],\n",
       "        [29, 21, 21],\n",
       "        [23, 15,  6]],\n",
       "\n",
       "       [[11,  3, 10],\n",
       "        [ 7, 25, 17],\n",
       "        [18, 18, 27]]])"
      ]
     },
     "execution_count": 404,
     "metadata": {},
     "output_type": "execute_result"
    }
   ],
   "source": [
    "np.stack((x,y) , axis = 0)"
   ]
  },
  {
   "cell_type": "code",
   "execution_count": 403,
   "id": "b572fe9c-7aa5-4c81-b6ee-3034b49c14ed",
   "metadata": {},
   "outputs": [
    {
     "data": {
      "text/plain": [
       "array([[[21, 15, 21],\n",
       "        [11,  3, 10]],\n",
       "\n",
       "       [[29, 21, 21],\n",
       "        [ 7, 25, 17]],\n",
       "\n",
       "       [[23, 15,  6],\n",
       "        [18, 18, 27]]])"
      ]
     },
     "execution_count": 403,
     "metadata": {},
     "output_type": "execute_result"
    }
   ],
   "source": [
    "np.stack((x,y) , axis = 1)"
   ]
  },
  {
   "cell_type": "code",
   "execution_count": 405,
   "id": "3a83cc09-58e3-4e73-ba74-4ebf06e9d5cc",
   "metadata": {},
   "outputs": [
    {
     "data": {
      "text/plain": [
       "array([[[21, 11],\n",
       "        [15,  3],\n",
       "        [21, 10]],\n",
       "\n",
       "       [[29,  7],\n",
       "        [21, 25],\n",
       "        [21, 17]],\n",
       "\n",
       "       [[23, 18],\n",
       "        [15, 18],\n",
       "        [ 6, 27]]])"
      ]
     },
     "execution_count": 405,
     "metadata": {},
     "output_type": "execute_result"
    }
   ],
   "source": [
    "np.stack((x,y) , axis = 2)"
   ]
  },
  {
   "cell_type": "code",
   "execution_count": null,
   "id": "42bfc89b-4591-4c48-b1b4-dad4539b97be",
   "metadata": {},
   "outputs": [],
   "source": []
  },
  {
   "cell_type": "code",
   "execution_count": 406,
   "id": "ee91714e-3d73-4441-a2ac-b80156e74104",
   "metadata": {},
   "outputs": [],
   "source": [
    "# data filtration"
   ]
  },
  {
   "cell_type": "code",
   "execution_count": 407,
   "id": "dca42ac0-60a2-41ad-ae56-128f36b2054f",
   "metadata": {},
   "outputs": [],
   "source": [
    "x = np.array([12,-4,13,-11 ,6,8,9,5,-3,-1,-4,-8])"
   ]
  },
  {
   "cell_type": "code",
   "execution_count": 408,
   "id": "9b860514-332b-4080-9a4b-00bf026a871d",
   "metadata": {},
   "outputs": [
    {
     "data": {
      "text/plain": [
       "array([ 12,  -4,  13, -11,   6,   8,   9,   5,  -3,  -1,  -4,  -8])"
      ]
     },
     "execution_count": 408,
     "metadata": {},
     "output_type": "execute_result"
    }
   ],
   "source": [
    "x"
   ]
  },
  {
   "cell_type": "code",
   "execution_count": 410,
   "id": "03e75ba6-db32-4d90-baa7-ea3b15d698b0",
   "metadata": {},
   "outputs": [
    {
     "data": {
      "text/plain": [
       "array([12, 13,  6,  8,  9,  5])"
      ]
     },
     "execution_count": 410,
     "metadata": {},
     "output_type": "execute_result"
    }
   ],
   "source": [
    "x[x>0]"
   ]
  },
  {
   "cell_type": "code",
   "execution_count": 412,
   "id": "76d4bf9b-e5e2-48c2-a4cf-8325fb0e72ff",
   "metadata": {},
   "outputs": [
    {
     "data": {
      "text/plain": [
       "array([12, -4,  6,  8, -4, -8])"
      ]
     },
     "execution_count": 412,
     "metadata": {},
     "output_type": "execute_result"
    }
   ],
   "source": [
    "x[x%2==0]"
   ]
  },
  {
   "cell_type": "code",
   "execution_count": null,
   "id": "a1de864d-6b98-4e6c-add8-e098374385b5",
   "metadata": {},
   "outputs": [],
   "source": []
  },
  {
   "cell_type": "code",
   "execution_count": 3,
   "id": "81e9a844-25ee-4db1-adcd-32be4fae150b",
   "metadata": {},
   "outputs": [],
   "source": [
    "import pandas as pd"
   ]
  },
  {
   "cell_type": "code",
   "execution_count": 4,
   "id": "0a6d674a-0aca-4c1b-9ed5-d111db7dce6c",
   "metadata": {},
   "outputs": [],
   "source": [
    "import numpy as np"
   ]
  },
  {
   "cell_type": "code",
   "execution_count": 5,
   "id": "de0d34bd",
   "metadata": {},
   "outputs": [],
   "source": [
    "df= pd.read_csv(\"../assects/HR_Analytics.csv\")"
   ]
  },
  {
   "cell_type": "code",
   "execution_count": 12,
   "id": "a4fd6946",
   "metadata": {},
   "outputs": [
    {
     "data": {
      "text/plain": [
       "EmpID                        0\n",
       "Age                          0\n",
       "AgeGroup                     0\n",
       "Attrition                    0\n",
       "BusinessTravel               0\n",
       "DailyRate                    0\n",
       "Department                   0\n",
       "DistanceFromHome             0\n",
       "Education                    0\n",
       "EducationField               0\n",
       "EmployeeCount                0\n",
       "EmployeeNumber               0\n",
       "EnvironmentSatisfaction      0\n",
       "Gender                       0\n",
       "HourlyRate                   0\n",
       "JobInvolvement               0\n",
       "JobLevel                     0\n",
       "JobRole                      0\n",
       "JobSatisfaction              0\n",
       "MaritalStatus                0\n",
       "MonthlyIncome                0\n",
       "SalarySlab                   0\n",
       "MonthlyRate                  0\n",
       "NumCompaniesWorked           0\n",
       "Over18                       0\n",
       "OverTime                     0\n",
       "PercentSalaryHike            0\n",
       "PerformanceRating            0\n",
       "RelationshipSatisfaction     0\n",
       "StandardHours                0\n",
       "StockOptionLevel             0\n",
       "TotalWorkingYears            0\n",
       "TrainingTimesLastYear        0\n",
       "WorkLifeBalance              0\n",
       "YearsAtCompany               0\n",
       "YearsInCurrentRole           0\n",
       "YearsSinceLastPromotion      0\n",
       "YearsWithCurrManager        57\n",
       "dtype: int64"
      ]
     },
     "execution_count": 12,
     "metadata": {},
     "output_type": "execute_result"
    }
   ],
   "source": [
    "null_col=df.isnull().sum()\n",
    "null_col"
   ]
  },
  {
   "cell_type": "code",
   "execution_count": 13,
   "id": "f0884da6",
   "metadata": {},
   "outputs": [],
   "source": [
    "df_no_null= df.dropna(axis=0)"
   ]
  },
  {
   "cell_type": "code",
   "execution_count": 14,
   "id": "03f99188",
   "metadata": {},
   "outputs": [
    {
     "data": {
      "text/plain": [
       "EmpID                       0\n",
       "Age                         0\n",
       "AgeGroup                    0\n",
       "Attrition                   0\n",
       "BusinessTravel              0\n",
       "DailyRate                   0\n",
       "Department                  0\n",
       "DistanceFromHome            0\n",
       "Education                   0\n",
       "EducationField              0\n",
       "EmployeeCount               0\n",
       "EmployeeNumber              0\n",
       "EnvironmentSatisfaction     0\n",
       "Gender                      0\n",
       "HourlyRate                  0\n",
       "JobInvolvement              0\n",
       "JobLevel                    0\n",
       "JobRole                     0\n",
       "JobSatisfaction             0\n",
       "MaritalStatus               0\n",
       "MonthlyIncome               0\n",
       "SalarySlab                  0\n",
       "MonthlyRate                 0\n",
       "NumCompaniesWorked          0\n",
       "Over18                      0\n",
       "OverTime                    0\n",
       "PercentSalaryHike           0\n",
       "PerformanceRating           0\n",
       "RelationshipSatisfaction    0\n",
       "StandardHours               0\n",
       "StockOptionLevel            0\n",
       "TotalWorkingYears           0\n",
       "TrainingTimesLastYear       0\n",
       "WorkLifeBalance             0\n",
       "YearsAtCompany              0\n",
       "YearsInCurrentRole          0\n",
       "YearsSinceLastPromotion     0\n",
       "YearsWithCurrManager        0\n",
       "dtype: int64"
      ]
     },
     "execution_count": 14,
     "metadata": {},
     "output_type": "execute_result"
    }
   ],
   "source": [
    "df_no_null.isnull().sum()"
   ]
  },
  {
   "cell_type": "code",
   "execution_count": 17,
   "id": "f425c788",
   "metadata": {},
   "outputs": [
    {
     "name": "stdout",
     "output_type": "stream",
     "text": [
      "       EmpID  Age AgeGroup Attrition     BusinessTravel  DailyRate  \\\n",
      "211   RM1468   27    26-35        No      Travel_Rarely        155   \n",
      "328   RM1461   29    26-35        No      Travel_Rarely        468   \n",
      "458   RM1464   31    26-35        No         Non-Travel        325   \n",
      "655   RM1470   34    26-35        No       TravelRarely        628   \n",
      "954   RM1463   39    36-45        No      Travel_Rarely        722   \n",
      "1305  RM1469   49    46-55        No  Travel_Frequently       1023   \n",
      "1336  RM1462   50    46-55       Yes      Travel_Rarely        410   \n",
      "\n",
      "                  Department  DistanceFromHome  Education EducationField  ...  \\\n",
      "211   Research & Development                 4          3  Life Sciences  ...   \n",
      "328   Research & Development                28          4        Medical  ...   \n",
      "458   Research & Development                 5          3        Medical  ...   \n",
      "655   Research & Development                 8          3        Medical  ...   \n",
      "954                    Sales                24          1      Marketing  ...   \n",
      "1305                   Sales                 2          3        Medical  ...   \n",
      "1336                   Sales                28          3      Marketing  ...   \n",
      "\n",
      "      RelationshipSatisfaction  StandardHours  StockOptionLevel  \\\n",
      "211                          2             80                 1   \n",
      "328                          2             80                 0   \n",
      "458                          2             80                 0   \n",
      "655                          1             80                 0   \n",
      "954                          1             80                 1   \n",
      "1305                         4             80                 0   \n",
      "1336                         2             80                 1   \n",
      "\n",
      "     TotalWorkingYears  TrainingTimesLastYear  WorkLifeBalance  \\\n",
      "211                  6                      0                3   \n",
      "328                  5                      3                1   \n",
      "458                 10                      2                3   \n",
      "655                  6                      3                4   \n",
      "954                 21                      2                2   \n",
      "1305                17                      3                2   \n",
      "1336                20                      3                3   \n",
      "\n",
      "      YearsAtCompany YearsInCurrentRole  YearsSinceLastPromotion  \\\n",
      "211                6                  2                        0   \n",
      "328                5                  4                        0   \n",
      "458                9                  4                        1   \n",
      "655                4                  3                        1   \n",
      "954               20                  9                        9   \n",
      "1305               9                  6                        0   \n",
      "1336               3                  2                        2   \n",
      "\n",
      "     YearsWithCurrManager  \n",
      "211                   3.0  \n",
      "328                   4.0  \n",
      "458                   7.0  \n",
      "655                   2.0  \n",
      "954                   6.0  \n",
      "1305                  8.0  \n",
      "1336                  0.0  \n",
      "\n",
      "[7 rows x 38 columns]\n"
     ]
    }
   ],
   "source": [
    "print(df_no_null[df_no_null.duplicated()])"
   ]
  },
  {
   "cell_type": "code",
   "execution_count": 20,
   "id": "38b035f8",
   "metadata": {},
   "outputs": [
    {
     "data": {
      "text/html": [
       "<div>\n",
       "<style scoped>\n",
       "    .dataframe tbody tr th:only-of-type {\n",
       "        vertical-align: middle;\n",
       "    }\n",
       "\n",
       "    .dataframe tbody tr th {\n",
       "        vertical-align: top;\n",
       "    }\n",
       "\n",
       "    .dataframe thead th {\n",
       "        text-align: right;\n",
       "    }\n",
       "</style>\n",
       "<table border=\"1\" class=\"dataframe\">\n",
       "  <thead>\n",
       "    <tr style=\"text-align: right;\">\n",
       "      <th></th>\n",
       "      <th>EmpID</th>\n",
       "      <th>Age</th>\n",
       "      <th>AgeGroup</th>\n",
       "      <th>Attrition</th>\n",
       "      <th>BusinessTravel</th>\n",
       "      <th>DailyRate</th>\n",
       "      <th>Department</th>\n",
       "      <th>DistanceFromHome</th>\n",
       "      <th>Education</th>\n",
       "      <th>EducationField</th>\n",
       "      <th>...</th>\n",
       "      <th>RelationshipSatisfaction</th>\n",
       "      <th>StandardHours</th>\n",
       "      <th>StockOptionLevel</th>\n",
       "      <th>TotalWorkingYears</th>\n",
       "      <th>TrainingTimesLastYear</th>\n",
       "      <th>WorkLifeBalance</th>\n",
       "      <th>YearsAtCompany</th>\n",
       "      <th>YearsInCurrentRole</th>\n",
       "      <th>YearsSinceLastPromotion</th>\n",
       "      <th>YearsWithCurrManager</th>\n",
       "    </tr>\n",
       "  </thead>\n",
       "  <tbody>\n",
       "    <tr>\n",
       "      <th>1304</th>\n",
       "      <td>RM1469</td>\n",
       "      <td>49</td>\n",
       "      <td>46-55</td>\n",
       "      <td>No</td>\n",
       "      <td>Travel_Frequently</td>\n",
       "      <td>1023</td>\n",
       "      <td>Sales</td>\n",
       "      <td>2</td>\n",
       "      <td>3</td>\n",
       "      <td>Medical</td>\n",
       "      <td>...</td>\n",
       "      <td>4</td>\n",
       "      <td>80</td>\n",
       "      <td>0</td>\n",
       "      <td>17</td>\n",
       "      <td>3</td>\n",
       "      <td>2</td>\n",
       "      <td>9</td>\n",
       "      <td>6</td>\n",
       "      <td>0</td>\n",
       "      <td>8.0</td>\n",
       "    </tr>\n",
       "    <tr>\n",
       "      <th>1305</th>\n",
       "      <td>RM1469</td>\n",
       "      <td>49</td>\n",
       "      <td>46-55</td>\n",
       "      <td>No</td>\n",
       "      <td>Travel_Frequently</td>\n",
       "      <td>1023</td>\n",
       "      <td>Sales</td>\n",
       "      <td>2</td>\n",
       "      <td>3</td>\n",
       "      <td>Medical</td>\n",
       "      <td>...</td>\n",
       "      <td>4</td>\n",
       "      <td>80</td>\n",
       "      <td>0</td>\n",
       "      <td>17</td>\n",
       "      <td>3</td>\n",
       "      <td>2</td>\n",
       "      <td>9</td>\n",
       "      <td>6</td>\n",
       "      <td>0</td>\n",
       "      <td>8.0</td>\n",
       "    </tr>\n",
       "  </tbody>\n",
       "</table>\n",
       "<p>2 rows × 38 columns</p>\n",
       "</div>"
      ],
      "text/plain": [
       "       EmpID  Age AgeGroup Attrition     BusinessTravel  DailyRate Department  \\\n",
       "1304  RM1469   49    46-55        No  Travel_Frequently       1023      Sales   \n",
       "1305  RM1469   49    46-55        No  Travel_Frequently       1023      Sales   \n",
       "\n",
       "      DistanceFromHome  Education EducationField  ...  \\\n",
       "1304                 2          3        Medical  ...   \n",
       "1305                 2          3        Medical  ...   \n",
       "\n",
       "      RelationshipSatisfaction  StandardHours  StockOptionLevel  \\\n",
       "1304                         4             80                 0   \n",
       "1305                         4             80                 0   \n",
       "\n",
       "     TotalWorkingYears  TrainingTimesLastYear  WorkLifeBalance  \\\n",
       "1304                17                      3                2   \n",
       "1305                17                      3                2   \n",
       "\n",
       "      YearsAtCompany YearsInCurrentRole  YearsSinceLastPromotion  \\\n",
       "1304               9                  6                        0   \n",
       "1305               9                  6                        0   \n",
       "\n",
       "     YearsWithCurrManager  \n",
       "1304                  8.0  \n",
       "1305                  8.0  \n",
       "\n",
       "[2 rows x 38 columns]"
      ]
     },
     "execution_count": 20,
     "metadata": {},
     "output_type": "execute_result"
    }
   ],
   "source": [
    "df_no_null[df_no_null[\"EmpID\"] == \"RM1469\"]\n"
   ]
  },
  {
   "cell_type": "code",
   "execution_count": 21,
   "id": "2ddeb22e",
   "metadata": {},
   "outputs": [],
   "source": [
    "df_cleaned= df_no_null.drop_duplicates()"
   ]
  },
  {
   "cell_type": "code",
   "execution_count": null,
   "id": "a50f2f0f",
   "metadata": {},
   "outputs": [
    {
     "data": {
      "text/plain": [
       "np.int64(0)"
      ]
     },
     "execution_count": 23,
     "metadata": {},
     "output_type": "execute_result"
    }
   ],
   "source": [
    "df_cleaned.duplicated().sum()"
   ]
  },
  {
   "cell_type": "code",
   "execution_count": 24,
   "id": "e00fd08e",
   "metadata": {},
   "outputs": [
    {
     "data": {
      "text/plain": [
       "Index(['EmpID', 'Age', 'AgeGroup', 'Attrition', 'BusinessTravel', 'DailyRate',\n",
       "       'Department', 'DistanceFromHome', 'Education', 'EducationField',\n",
       "       'EmployeeCount', 'EmployeeNumber', 'EnvironmentSatisfaction', 'Gender',\n",
       "       'HourlyRate', 'JobInvolvement', 'JobLevel', 'JobRole',\n",
       "       'JobSatisfaction', 'MaritalStatus', 'MonthlyIncome', 'SalarySlab',\n",
       "       'MonthlyRate', 'NumCompaniesWorked', 'Over18', 'OverTime',\n",
       "       'PercentSalaryHike', 'PerformanceRating', 'RelationshipSatisfaction',\n",
       "       'StandardHours', 'StockOptionLevel', 'TotalWorkingYears',\n",
       "       'TrainingTimesLastYear', 'WorkLifeBalance', 'YearsAtCompany',\n",
       "       'YearsInCurrentRole', 'YearsSinceLastPromotion',\n",
       "       'YearsWithCurrManager'],\n",
       "      dtype='object')"
      ]
     },
     "execution_count": 24,
     "metadata": {},
     "output_type": "execute_result"
    }
   ],
   "source": [
    "df_cleaned.columns"
   ]
  },
  {
   "cell_type": "code",
   "execution_count": 25,
   "id": "e8b5b0ee",
   "metadata": {},
   "outputs": [],
   "source": [
    "\n",
    "df_cleaned.to_csv('Hr_cleaned.csv', index=False)\n"
   ]
  },
  {
   "cell_type": "code",
   "execution_count": null,
   "id": "d4f0faae",
   "metadata": {},
   "outputs": [],
   "source": []
  }
 ],
 "metadata": {
  "kernelspec": {
   "display_name": "Python 3",
   "language": "python",
   "name": "python3"
  },
  "language_info": {
   "codemirror_mode": {
    "name": "ipython",
    "version": 3
   },
   "file_extension": ".py",
   "mimetype": "text/x-python",
   "name": "python",
   "nbconvert_exporter": "python",
   "pygments_lexer": "ipython3",
   "version": "3.13.0"
  }
 },
 "nbformat": 4,
 "nbformat_minor": 5
}
