{
 "cells": [
  {
   "cell_type": "code",
   "execution_count": 1,
   "id": "a8293824",
   "metadata": {},
   "outputs": [],
   "source": [
    "import numpy as np\n",
    "import pandas as pd"
   ]
  },
  {
   "cell_type": "code",
   "execution_count": null,
   "id": "3094ce98",
   "metadata": {},
   "outputs": [],
   "source": []
  },
  {
   "cell_type": "code",
   "execution_count": 10,
   "id": "507f006a",
   "metadata": {},
   "outputs": [],
   "source": [
    "# how to filter data based on some condition\n",
    "\n",
    "# use boolean masking"
   ]
  },
  {
   "cell_type": "code",
   "execution_count": null,
   "id": "7b8e455f",
   "metadata": {},
   "outputs": [],
   "source": []
  },
  {
   "cell_type": "code",
   "execution_count": 2,
   "id": "23aa9434",
   "metadata": {},
   "outputs": [],
   "source": [
    "df = pd.read_csv(\"emp1.csv\")"
   ]
  },
  {
   "cell_type": "code",
   "execution_count": 3,
   "id": "1478722d",
   "metadata": {},
   "outputs": [
    {
     "data": {
      "text/html": [
       "<div>\n",
       "<style scoped>\n",
       "    .dataframe tbody tr th:only-of-type {\n",
       "        vertical-align: middle;\n",
       "    }\n",
       "\n",
       "    .dataframe tbody tr th {\n",
       "        vertical-align: top;\n",
       "    }\n",
       "\n",
       "    .dataframe thead th {\n",
       "        text-align: right;\n",
       "    }\n",
       "</style>\n",
       "<table border=\"1\" class=\"dataframe\">\n",
       "  <thead>\n",
       "    <tr style=\"text-align: right;\">\n",
       "      <th></th>\n",
       "      <th>eno</th>\n",
       "      <th>ename</th>\n",
       "      <th>esal</th>\n",
       "      <th>eadrs</th>\n",
       "    </tr>\n",
       "  </thead>\n",
       "  <tbody>\n",
       "    <tr>\n",
       "      <th>0</th>\n",
       "      <td>10</td>\n",
       "      <td>nitin</td>\n",
       "      <td>7500</td>\n",
       "      <td>noida</td>\n",
       "    </tr>\n",
       "    <tr>\n",
       "      <th>1</th>\n",
       "      <td>20</td>\n",
       "      <td>tina</td>\n",
       "      <td>8500</td>\n",
       "      <td>delhi</td>\n",
       "    </tr>\n",
       "    <tr>\n",
       "      <th>2</th>\n",
       "      <td>30</td>\n",
       "      <td>arun</td>\n",
       "      <td>7000</td>\n",
       "      <td>doon</td>\n",
       "    </tr>\n",
       "    <tr>\n",
       "      <th>3</th>\n",
       "      <td>40</td>\n",
       "      <td>tina</td>\n",
       "      <td>6000</td>\n",
       "      <td>shimla</td>\n",
       "    </tr>\n",
       "    <tr>\n",
       "      <th>4</th>\n",
       "      <td>50</td>\n",
       "      <td>tannu</td>\n",
       "      <td>4000</td>\n",
       "      <td>rishikesh</td>\n",
       "    </tr>\n",
       "    <tr>\n",
       "      <th>5</th>\n",
       "      <td>60</td>\n",
       "      <td>renu</td>\n",
       "      <td>2500</td>\n",
       "      <td>noida</td>\n",
       "    </tr>\n",
       "    <tr>\n",
       "      <th>6</th>\n",
       "      <td>70</td>\n",
       "      <td>nitin</td>\n",
       "      <td>1500</td>\n",
       "      <td>shimla</td>\n",
       "    </tr>\n",
       "    <tr>\n",
       "      <th>7</th>\n",
       "      <td>80</td>\n",
       "      <td>arun</td>\n",
       "      <td>3500</td>\n",
       "      <td>doon</td>\n",
       "    </tr>\n",
       "    <tr>\n",
       "      <th>8</th>\n",
       "      <td>90</td>\n",
       "      <td>aman</td>\n",
       "      <td>3000</td>\n",
       "      <td>rishikesh</td>\n",
       "    </tr>\n",
       "    <tr>\n",
       "      <th>9</th>\n",
       "      <td>10</td>\n",
       "      <td>nitin</td>\n",
       "      <td>7500</td>\n",
       "      <td>noida</td>\n",
       "    </tr>\n",
       "  </tbody>\n",
       "</table>\n",
       "</div>"
      ],
      "text/plain": [
       "   eno  ename  esal      eadrs\n",
       "0   10  nitin  7500      noida\n",
       "1   20   tina  8500      delhi\n",
       "2   30   arun  7000       doon\n",
       "3   40   tina  6000     shimla\n",
       "4   50  tannu  4000  rishikesh\n",
       "5   60   renu  2500      noida\n",
       "6   70  nitin  1500     shimla\n",
       "7   80   arun  3500       doon\n",
       "8   90   aman  3000  rishikesh\n",
       "9   10  nitin  7500      noida"
      ]
     },
     "execution_count": 3,
     "metadata": {},
     "output_type": "execute_result"
    }
   ],
   "source": [
    "df"
   ]
  },
  {
   "cell_type": "code",
   "execution_count": 4,
   "id": "9f61c9f4",
   "metadata": {},
   "outputs": [
    {
     "data": {
      "text/plain": [
       "pandas.core.frame.DataFrame"
      ]
     },
     "execution_count": 4,
     "metadata": {},
     "output_type": "execute_result"
    }
   ],
   "source": [
    "type(df)"
   ]
  },
  {
   "cell_type": "code",
   "execution_count": 5,
   "id": "6570f807",
   "metadata": {},
   "outputs": [
    {
     "data": {
      "text/plain": [
       "pandas.core.series.Series"
      ]
     },
     "execution_count": 5,
     "metadata": {},
     "output_type": "execute_result"
    }
   ],
   "source": [
    "type(df[\"ename\"])"
   ]
  },
  {
   "cell_type": "code",
   "execution_count": null,
   "id": "27a8d96d",
   "metadata": {},
   "outputs": [],
   "source": []
  },
  {
   "cell_type": "code",
   "execution_count": null,
   "id": "45bbe3e9",
   "metadata": {},
   "outputs": [],
   "source": []
  },
  {
   "cell_type": "code",
   "execution_count": 18,
   "id": "0af79439",
   "metadata": {},
   "outputs": [
    {
     "data": {
      "text/html": [
       "<div>\n",
       "<style scoped>\n",
       "    .dataframe tbody tr th:only-of-type {\n",
       "        vertical-align: middle;\n",
       "    }\n",
       "\n",
       "    .dataframe tbody tr th {\n",
       "        vertical-align: top;\n",
       "    }\n",
       "\n",
       "    .dataframe thead th {\n",
       "        text-align: right;\n",
       "    }\n",
       "</style>\n",
       "<table border=\"1\" class=\"dataframe\">\n",
       "  <thead>\n",
       "    <tr style=\"text-align: right;\">\n",
       "      <th></th>\n",
       "      <th>eno</th>\n",
       "      <th>ename</th>\n",
       "      <th>esal</th>\n",
       "      <th>eadrs</th>\n",
       "    </tr>\n",
       "  </thead>\n",
       "  <tbody>\n",
       "    <tr>\n",
       "      <th>2</th>\n",
       "      <td>30</td>\n",
       "      <td>arun</td>\n",
       "      <td>7000</td>\n",
       "      <td>doon</td>\n",
       "    </tr>\n",
       "    <tr>\n",
       "      <th>7</th>\n",
       "      <td>80</td>\n",
       "      <td>arun</td>\n",
       "      <td>3500</td>\n",
       "      <td>doon</td>\n",
       "    </tr>\n",
       "  </tbody>\n",
       "</table>\n",
       "</div>"
      ],
      "text/plain": [
       "   eno ename  esal eadrs\n",
       "2   30  arun  7000  doon\n",
       "7   80  arun  3500  doon"
      ]
     },
     "execution_count": 18,
     "metadata": {},
     "output_type": "execute_result"
    }
   ],
   "source": [
    "# 1. select all emp record who belongs to doon\n",
    "\n",
    "df[df[\"eadrs\"] == \"doon\"]"
   ]
  },
  {
   "cell_type": "code",
   "execution_count": 23,
   "id": "f0932e5b",
   "metadata": {},
   "outputs": [
    {
     "data": {
      "text/html": [
       "<div>\n",
       "<style scoped>\n",
       "    .dataframe tbody tr th:only-of-type {\n",
       "        vertical-align: middle;\n",
       "    }\n",
       "\n",
       "    .dataframe tbody tr th {\n",
       "        vertical-align: top;\n",
       "    }\n",
       "\n",
       "    .dataframe thead th {\n",
       "        text-align: right;\n",
       "    }\n",
       "</style>\n",
       "<table border=\"1\" class=\"dataframe\">\n",
       "  <thead>\n",
       "    <tr style=\"text-align: right;\">\n",
       "      <th></th>\n",
       "      <th>eno</th>\n",
       "      <th>ename</th>\n",
       "      <th>esal</th>\n",
       "      <th>eadrs</th>\n",
       "    </tr>\n",
       "  </thead>\n",
       "  <tbody>\n",
       "    <tr>\n",
       "      <th>0</th>\n",
       "      <td>10</td>\n",
       "      <td>nitin</td>\n",
       "      <td>75000</td>\n",
       "      <td>noida</td>\n",
       "    </tr>\n",
       "    <tr>\n",
       "      <th>1</th>\n",
       "      <td>20</td>\n",
       "      <td>tina</td>\n",
       "      <td>8000</td>\n",
       "      <td>delhi</td>\n",
       "    </tr>\n",
       "    <tr>\n",
       "      <th>3</th>\n",
       "      <td>40</td>\n",
       "      <td>tina</td>\n",
       "      <td>6000</td>\n",
       "      <td>shimla</td>\n",
       "    </tr>\n",
       "    <tr>\n",
       "      <th>4</th>\n",
       "      <td>50</td>\n",
       "      <td>tannu</td>\n",
       "      <td>6000</td>\n",
       "      <td>rishikesh</td>\n",
       "    </tr>\n",
       "    <tr>\n",
       "      <th>5</th>\n",
       "      <td>60</td>\n",
       "      <td>renu</td>\n",
       "      <td>2500</td>\n",
       "      <td>noida</td>\n",
       "    </tr>\n",
       "    <tr>\n",
       "      <th>6</th>\n",
       "      <td>70</td>\n",
       "      <td>nitin</td>\n",
       "      <td>1500</td>\n",
       "      <td>shimla</td>\n",
       "    </tr>\n",
       "    <tr>\n",
       "      <th>8</th>\n",
       "      <td>90</td>\n",
       "      <td>arun</td>\n",
       "      <td>5500</td>\n",
       "      <td>rishikesh</td>\n",
       "    </tr>\n",
       "  </tbody>\n",
       "</table>\n",
       "</div>"
      ],
      "text/plain": [
       "   eno  ename   esal      eadrs\n",
       "0   10  nitin  75000      noida\n",
       "1   20   tina   8000      delhi\n",
       "3   40   tina   6000     shimla\n",
       "4   50  tannu   6000  rishikesh\n",
       "5   60   renu   2500      noida\n",
       "6   70  nitin   1500     shimla\n",
       "8   90   arun   5500  rishikesh"
      ]
     },
     "execution_count": 23,
     "metadata": {},
     "output_type": "execute_result"
    }
   ],
   "source": [
    "# 2. select all emp record who are belongs to doon\n",
    "\n",
    "x = df[\"eadrs\"] != \"doon\"\n",
    "\n",
    "df[x]"
   ]
  },
  {
   "cell_type": "code",
   "execution_count": null,
   "id": "5437485f",
   "metadata": {},
   "outputs": [],
   "source": [
    " "
   ]
  },
  {
   "cell_type": "code",
   "execution_count": 25,
   "id": "16695de3",
   "metadata": {},
   "outputs": [
    {
     "data": {
      "text/html": [
       "<div>\n",
       "<style scoped>\n",
       "    .dataframe tbody tr th:only-of-type {\n",
       "        vertical-align: middle;\n",
       "    }\n",
       "\n",
       "    .dataframe tbody tr th {\n",
       "        vertical-align: top;\n",
       "    }\n",
       "\n",
       "    .dataframe thead th {\n",
       "        text-align: right;\n",
       "    }\n",
       "</style>\n",
       "<table border=\"1\" class=\"dataframe\">\n",
       "  <thead>\n",
       "    <tr style=\"text-align: right;\">\n",
       "      <th></th>\n",
       "      <th>eno</th>\n",
       "      <th>ename</th>\n",
       "      <th>esal</th>\n",
       "      <th>eadrs</th>\n",
       "    </tr>\n",
       "  </thead>\n",
       "  <tbody>\n",
       "    <tr>\n",
       "      <th>0</th>\n",
       "      <td>10</td>\n",
       "      <td>nitin</td>\n",
       "      <td>75000</td>\n",
       "      <td>noida</td>\n",
       "    </tr>\n",
       "    <tr>\n",
       "      <th>1</th>\n",
       "      <td>20</td>\n",
       "      <td>tina</td>\n",
       "      <td>8000</td>\n",
       "      <td>delhi</td>\n",
       "    </tr>\n",
       "    <tr>\n",
       "      <th>2</th>\n",
       "      <td>30</td>\n",
       "      <td>arun</td>\n",
       "      <td>7000</td>\n",
       "      <td>doon</td>\n",
       "    </tr>\n",
       "    <tr>\n",
       "      <th>3</th>\n",
       "      <td>40</td>\n",
       "      <td>tina</td>\n",
       "      <td>6000</td>\n",
       "      <td>shimla</td>\n",
       "    </tr>\n",
       "    <tr>\n",
       "      <th>4</th>\n",
       "      <td>50</td>\n",
       "      <td>tannu</td>\n",
       "      <td>6000</td>\n",
       "      <td>rishikesh</td>\n",
       "    </tr>\n",
       "    <tr>\n",
       "      <th>8</th>\n",
       "      <td>90</td>\n",
       "      <td>arun</td>\n",
       "      <td>5500</td>\n",
       "      <td>rishikesh</td>\n",
       "    </tr>\n",
       "  </tbody>\n",
       "</table>\n",
       "</div>"
      ],
      "text/plain": [
       "   eno  ename   esal      eadrs\n",
       "0   10  nitin  75000      noida\n",
       "1   20   tina   8000      delhi\n",
       "2   30   arun   7000       doon\n",
       "3   40   tina   6000     shimla\n",
       "4   50  tannu   6000  rishikesh\n",
       "8   90   arun   5500  rishikesh"
      ]
     },
     "execution_count": 25,
     "metadata": {},
     "output_type": "execute_result"
    }
   ],
   "source": [
    "# 3. select all emp records whose salary greater than 4000\n",
    "\n",
    "df[df[\"esal\"] > 4000]"
   ]
  },
  {
   "cell_type": "code",
   "execution_count": null,
   "id": "67ffd927",
   "metadata": {},
   "outputs": [],
   "source": []
  },
  {
   "cell_type": "code",
   "execution_count": 26,
   "id": "a53bd4bb",
   "metadata": {},
   "outputs": [],
   "source": [
    "# filter data with multiple conditions"
   ]
  },
  {
   "cell_type": "code",
   "execution_count": 27,
   "id": "c24c6728",
   "metadata": {},
   "outputs": [],
   "source": [
    "# select all emp from doon having salary less than 4000"
   ]
  },
  {
   "cell_type": "code",
   "execution_count": 32,
   "id": "9355dd41",
   "metadata": {},
   "outputs": [
    {
     "data": {
      "text/html": [
       "<div>\n",
       "<style scoped>\n",
       "    .dataframe tbody tr th:only-of-type {\n",
       "        vertical-align: middle;\n",
       "    }\n",
       "\n",
       "    .dataframe tbody tr th {\n",
       "        vertical-align: top;\n",
       "    }\n",
       "\n",
       "    .dataframe thead th {\n",
       "        text-align: right;\n",
       "    }\n",
       "</style>\n",
       "<table border=\"1\" class=\"dataframe\">\n",
       "  <thead>\n",
       "    <tr style=\"text-align: right;\">\n",
       "      <th></th>\n",
       "      <th>eno</th>\n",
       "      <th>ename</th>\n",
       "      <th>esal</th>\n",
       "      <th>eadrs</th>\n",
       "    </tr>\n",
       "  </thead>\n",
       "  <tbody>\n",
       "    <tr>\n",
       "      <th>7</th>\n",
       "      <td>80</td>\n",
       "      <td>arun</td>\n",
       "      <td>3500</td>\n",
       "      <td>doon</td>\n",
       "    </tr>\n",
       "  </tbody>\n",
       "</table>\n",
       "</div>"
      ],
      "text/plain": [
       "   eno ename  esal eadrs\n",
       "7   80  arun  3500  doon"
      ]
     },
     "execution_count": 32,
     "metadata": {},
     "output_type": "execute_result"
    }
   ],
   "source": [
    "c1 = df[\"eadrs\"]== \"doon\"\n",
    "c2 = df[\"esal\"]<4000\n",
    "\n",
    "df[c1 & c2 ] "
   ]
  },
  {
   "cell_type": "code",
   "execution_count": 34,
   "id": "79ca890e",
   "metadata": {},
   "outputs": [
    {
     "data": {
      "text/html": [
       "<div>\n",
       "<style scoped>\n",
       "    .dataframe tbody tr th:only-of-type {\n",
       "        vertical-align: middle;\n",
       "    }\n",
       "\n",
       "    .dataframe tbody tr th {\n",
       "        vertical-align: top;\n",
       "    }\n",
       "\n",
       "    .dataframe thead th {\n",
       "        text-align: right;\n",
       "    }\n",
       "</style>\n",
       "<table border=\"1\" class=\"dataframe\">\n",
       "  <thead>\n",
       "    <tr style=\"text-align: right;\">\n",
       "      <th></th>\n",
       "      <th>eno</th>\n",
       "      <th>ename</th>\n",
       "      <th>esal</th>\n",
       "      <th>eadrs</th>\n",
       "    </tr>\n",
       "  </thead>\n",
       "  <tbody>\n",
       "    <tr>\n",
       "      <th>7</th>\n",
       "      <td>80</td>\n",
       "      <td>arun</td>\n",
       "      <td>3500</td>\n",
       "      <td>doon</td>\n",
       "    </tr>\n",
       "  </tbody>\n",
       "</table>\n",
       "</div>"
      ],
      "text/plain": [
       "   eno ename  esal eadrs\n",
       "7   80  arun  3500  doon"
      ]
     },
     "execution_count": 34,
     "metadata": {},
     "output_type": "execute_result"
    }
   ],
   "source": [
    "# or\n",
    "\n",
    "df[(df[\"eadrs\"]== \"doon\") & (df[\"esal\"]<4000)]"
   ]
  },
  {
   "cell_type": "code",
   "execution_count": null,
   "id": "e3def6b4",
   "metadata": {},
   "outputs": [],
   "source": []
  },
  {
   "cell_type": "code",
   "execution_count": 35,
   "id": "3f1b3fa3",
   "metadata": {},
   "outputs": [],
   "source": [
    "# select all emp where either sal > 4000 or eadrs is not doon"
   ]
  },
  {
   "cell_type": "code",
   "execution_count": 40,
   "id": "891273c8",
   "metadata": {},
   "outputs": [
    {
     "data": {
      "text/html": [
       "<div>\n",
       "<style scoped>\n",
       "    .dataframe tbody tr th:only-of-type {\n",
       "        vertical-align: middle;\n",
       "    }\n",
       "\n",
       "    .dataframe tbody tr th {\n",
       "        vertical-align: top;\n",
       "    }\n",
       "\n",
       "    .dataframe thead th {\n",
       "        text-align: right;\n",
       "    }\n",
       "</style>\n",
       "<table border=\"1\" class=\"dataframe\">\n",
       "  <thead>\n",
       "    <tr style=\"text-align: right;\">\n",
       "      <th></th>\n",
       "      <th>eno</th>\n",
       "      <th>ename</th>\n",
       "      <th>esal</th>\n",
       "      <th>eadrs</th>\n",
       "    </tr>\n",
       "  </thead>\n",
       "  <tbody>\n",
       "    <tr>\n",
       "      <th>0</th>\n",
       "      <td>10</td>\n",
       "      <td>nitin</td>\n",
       "      <td>75000</td>\n",
       "      <td>noida</td>\n",
       "    </tr>\n",
       "    <tr>\n",
       "      <th>1</th>\n",
       "      <td>20</td>\n",
       "      <td>tina</td>\n",
       "      <td>8000</td>\n",
       "      <td>delhi</td>\n",
       "    </tr>\n",
       "    <tr>\n",
       "      <th>2</th>\n",
       "      <td>30</td>\n",
       "      <td>arun</td>\n",
       "      <td>7000</td>\n",
       "      <td>doon</td>\n",
       "    </tr>\n",
       "    <tr>\n",
       "      <th>3</th>\n",
       "      <td>40</td>\n",
       "      <td>tina</td>\n",
       "      <td>6000</td>\n",
       "      <td>shimla</td>\n",
       "    </tr>\n",
       "    <tr>\n",
       "      <th>4</th>\n",
       "      <td>50</td>\n",
       "      <td>tannu</td>\n",
       "      <td>6000</td>\n",
       "      <td>rishikesh</td>\n",
       "    </tr>\n",
       "    <tr>\n",
       "      <th>5</th>\n",
       "      <td>60</td>\n",
       "      <td>renu</td>\n",
       "      <td>2500</td>\n",
       "      <td>noida</td>\n",
       "    </tr>\n",
       "    <tr>\n",
       "      <th>6</th>\n",
       "      <td>70</td>\n",
       "      <td>nitin</td>\n",
       "      <td>1500</td>\n",
       "      <td>shimla</td>\n",
       "    </tr>\n",
       "    <tr>\n",
       "      <th>8</th>\n",
       "      <td>90</td>\n",
       "      <td>arun</td>\n",
       "      <td>5500</td>\n",
       "      <td>rishikesh</td>\n",
       "    </tr>\n",
       "  </tbody>\n",
       "</table>\n",
       "</div>"
      ],
      "text/plain": [
       "   eno  ename   esal      eadrs\n",
       "0   10  nitin  75000      noida\n",
       "1   20   tina   8000      delhi\n",
       "2   30   arun   7000       doon\n",
       "3   40   tina   6000     shimla\n",
       "4   50  tannu   6000  rishikesh\n",
       "5   60   renu   2500      noida\n",
       "6   70  nitin   1500     shimla\n",
       "8   90   arun   5500  rishikesh"
      ]
     },
     "execution_count": 40,
     "metadata": {},
     "output_type": "execute_result"
    }
   ],
   "source": [
    "df[(df[\"esal\"]>4000) | (df[\"eadrs\"] != \"doon\")]"
   ]
  },
  {
   "cell_type": "code",
   "execution_count": 41,
   "id": "98c4b483",
   "metadata": {},
   "outputs": [],
   "source": [
    "# combination of & , |"
   ]
  },
  {
   "cell_type": "code",
   "execution_count": 55,
   "id": "4d817b0a",
   "metadata": {},
   "outputs": [
    {
     "data": {
      "text/html": [
       "<div>\n",
       "<style scoped>\n",
       "    .dataframe tbody tr th:only-of-type {\n",
       "        vertical-align: middle;\n",
       "    }\n",
       "\n",
       "    .dataframe tbody tr th {\n",
       "        vertical-align: top;\n",
       "    }\n",
       "\n",
       "    .dataframe thead th {\n",
       "        text-align: right;\n",
       "    }\n",
       "</style>\n",
       "<table border=\"1\" class=\"dataframe\">\n",
       "  <thead>\n",
       "    <tr style=\"text-align: right;\">\n",
       "      <th></th>\n",
       "      <th>eno</th>\n",
       "      <th>ename</th>\n",
       "      <th>esal</th>\n",
       "      <th>eadrs</th>\n",
       "    </tr>\n",
       "  </thead>\n",
       "  <tbody>\n",
       "    <tr>\n",
       "      <th>2</th>\n",
       "      <td>30</td>\n",
       "      <td>arun</td>\n",
       "      <td>7000</td>\n",
       "      <td>doon</td>\n",
       "    </tr>\n",
       "    <tr>\n",
       "      <th>4</th>\n",
       "      <td>50</td>\n",
       "      <td>tannu</td>\n",
       "      <td>6000</td>\n",
       "      <td>rishikesh</td>\n",
       "    </tr>\n",
       "    <tr>\n",
       "      <th>8</th>\n",
       "      <td>90</td>\n",
       "      <td>arun</td>\n",
       "      <td>5500</td>\n",
       "      <td>rishikesh</td>\n",
       "    </tr>\n",
       "  </tbody>\n",
       "</table>\n",
       "</div>"
      ],
      "text/plain": [
       "   eno  ename  esal      eadrs\n",
       "2   30   arun  7000       doon\n",
       "4   50  tannu  6000  rishikesh\n",
       "8   90   arun  5500  rishikesh"
      ]
     },
     "execution_count": 55,
     "metadata": {},
     "output_type": "execute_result"
    }
   ],
   "source": [
    "# select emp whose salary > 4000 from doon or from rishikesh\n",
    "\n",
    "df[((df[\"esal\"]>4000) & (df[\"eadrs\"] == \"doon\")) | (df[\"eadrs\"] == \"rishikesh\")]"
   ]
  },
  {
   "cell_type": "code",
   "execution_count": null,
   "id": "0eaf1687",
   "metadata": {},
   "outputs": [],
   "source": []
  },
  {
   "cell_type": "code",
   "execution_count": 56,
   "id": "afbc1e09",
   "metadata": {},
   "outputs": [],
   "source": [
    "# how to check inclusion by using isin() method"
   ]
  },
  {
   "cell_type": "code",
   "execution_count": 57,
   "id": "a145302b",
   "metadata": {},
   "outputs": [],
   "source": [
    "# select all emp from doon,noida,delhi"
   ]
  },
  {
   "cell_type": "code",
   "execution_count": 68,
   "id": "2f5330bb",
   "metadata": {},
   "outputs": [
    {
     "data": {
      "text/html": [
       "<div>\n",
       "<style scoped>\n",
       "    .dataframe tbody tr th:only-of-type {\n",
       "        vertical-align: middle;\n",
       "    }\n",
       "\n",
       "    .dataframe tbody tr th {\n",
       "        vertical-align: top;\n",
       "    }\n",
       "\n",
       "    .dataframe thead th {\n",
       "        text-align: right;\n",
       "    }\n",
       "</style>\n",
       "<table border=\"1\" class=\"dataframe\">\n",
       "  <thead>\n",
       "    <tr style=\"text-align: right;\">\n",
       "      <th></th>\n",
       "      <th>eno</th>\n",
       "      <th>ename</th>\n",
       "      <th>esal</th>\n",
       "      <th>eadrs</th>\n",
       "    </tr>\n",
       "  </thead>\n",
       "  <tbody>\n",
       "    <tr>\n",
       "      <th>0</th>\n",
       "      <td>10</td>\n",
       "      <td>nitin</td>\n",
       "      <td>75000</td>\n",
       "      <td>noida</td>\n",
       "    </tr>\n",
       "    <tr>\n",
       "      <th>1</th>\n",
       "      <td>20</td>\n",
       "      <td>tina</td>\n",
       "      <td>8000</td>\n",
       "      <td>delhi</td>\n",
       "    </tr>\n",
       "    <tr>\n",
       "      <th>2</th>\n",
       "      <td>30</td>\n",
       "      <td>arun</td>\n",
       "      <td>7000</td>\n",
       "      <td>doon</td>\n",
       "    </tr>\n",
       "    <tr>\n",
       "      <th>5</th>\n",
       "      <td>60</td>\n",
       "      <td>renu</td>\n",
       "      <td>2500</td>\n",
       "      <td>noida</td>\n",
       "    </tr>\n",
       "    <tr>\n",
       "      <th>7</th>\n",
       "      <td>80</td>\n",
       "      <td>arun</td>\n",
       "      <td>3500</td>\n",
       "      <td>doon</td>\n",
       "    </tr>\n",
       "  </tbody>\n",
       "</table>\n",
       "</div>"
      ],
      "text/plain": [
       "   eno  ename   esal  eadrs\n",
       "0   10  nitin  75000  noida\n",
       "1   20   tina   8000  delhi\n",
       "2   30   arun   7000   doon\n",
       "5   60   renu   2500  noida\n",
       "7   80   arun   3500   doon"
      ]
     },
     "execution_count": 68,
     "metadata": {},
     "output_type": "execute_result"
    }
   ],
   "source": [
    "df[df[\"eadrs\"].isin([\"doon\" , \"noida\" , \"delhi\"])]"
   ]
  },
  {
   "cell_type": "code",
   "execution_count": 70,
   "id": "1de5e8bf",
   "metadata": {},
   "outputs": [
    {
     "data": {
      "text/html": [
       "<div>\n",
       "<style scoped>\n",
       "    .dataframe tbody tr th:only-of-type {\n",
       "        vertical-align: middle;\n",
       "    }\n",
       "\n",
       "    .dataframe tbody tr th {\n",
       "        vertical-align: top;\n",
       "    }\n",
       "\n",
       "    .dataframe thead th {\n",
       "        text-align: right;\n",
       "    }\n",
       "</style>\n",
       "<table border=\"1\" class=\"dataframe\">\n",
       "  <thead>\n",
       "    <tr style=\"text-align: right;\">\n",
       "      <th></th>\n",
       "      <th>eno</th>\n",
       "      <th>ename</th>\n",
       "      <th>esal</th>\n",
       "      <th>eadrs</th>\n",
       "    </tr>\n",
       "  </thead>\n",
       "  <tbody>\n",
       "    <tr>\n",
       "      <th>0</th>\n",
       "      <td>10</td>\n",
       "      <td>nitin</td>\n",
       "      <td>75000</td>\n",
       "      <td>noida</td>\n",
       "    </tr>\n",
       "    <tr>\n",
       "      <th>1</th>\n",
       "      <td>20</td>\n",
       "      <td>tina</td>\n",
       "      <td>8000</td>\n",
       "      <td>delhi</td>\n",
       "    </tr>\n",
       "    <tr>\n",
       "      <th>2</th>\n",
       "      <td>30</td>\n",
       "      <td>arun</td>\n",
       "      <td>7000</td>\n",
       "      <td>doon</td>\n",
       "    </tr>\n",
       "    <tr>\n",
       "      <th>5</th>\n",
       "      <td>60</td>\n",
       "      <td>renu</td>\n",
       "      <td>2500</td>\n",
       "      <td>noida</td>\n",
       "    </tr>\n",
       "    <tr>\n",
       "      <th>7</th>\n",
       "      <td>80</td>\n",
       "      <td>arun</td>\n",
       "      <td>3500</td>\n",
       "      <td>doon</td>\n",
       "    </tr>\n",
       "  </tbody>\n",
       "</table>\n",
       "</div>"
      ],
      "text/plain": [
       "   eno  ename   esal  eadrs\n",
       "0   10  nitin  75000  noida\n",
       "1   20   tina   8000  delhi\n",
       "2   30   arun   7000   doon\n",
       "5   60   renu   2500  noida\n",
       "7   80   arun   3500   doon"
      ]
     },
     "execution_count": 70,
     "metadata": {},
     "output_type": "execute_result"
    }
   ],
   "source": [
    "# or without isin()\n",
    "\n",
    "c1 = df[\"eadrs\"]==\"noida\" \n",
    "c2 = df[\"eadrs\"] == \"delhi\"\n",
    "c3 = df[\"eadrs\"] == \"doon\"\n",
    "\n",
    "df[c1|c2|c3]"
   ]
  },
  {
   "cell_type": "code",
   "execution_count": 71,
   "id": "141f9b1f",
   "metadata": {},
   "outputs": [
    {
     "data": {
      "text/html": [
       "<div>\n",
       "<style scoped>\n",
       "    .dataframe tbody tr th:only-of-type {\n",
       "        vertical-align: middle;\n",
       "    }\n",
       "\n",
       "    .dataframe tbody tr th {\n",
       "        vertical-align: top;\n",
       "    }\n",
       "\n",
       "    .dataframe thead th {\n",
       "        text-align: right;\n",
       "    }\n",
       "</style>\n",
       "<table border=\"1\" class=\"dataframe\">\n",
       "  <thead>\n",
       "    <tr style=\"text-align: right;\">\n",
       "      <th></th>\n",
       "      <th>eno</th>\n",
       "      <th>ename</th>\n",
       "      <th>esal</th>\n",
       "      <th>eadrs</th>\n",
       "    </tr>\n",
       "  </thead>\n",
       "  <tbody>\n",
       "    <tr>\n",
       "      <th>0</th>\n",
       "      <td>10</td>\n",
       "      <td>nitin</td>\n",
       "      <td>75000</td>\n",
       "      <td>noida</td>\n",
       "    </tr>\n",
       "    <tr>\n",
       "      <th>1</th>\n",
       "      <td>20</td>\n",
       "      <td>tina</td>\n",
       "      <td>8000</td>\n",
       "      <td>delhi</td>\n",
       "    </tr>\n",
       "    <tr>\n",
       "      <th>2</th>\n",
       "      <td>30</td>\n",
       "      <td>arun</td>\n",
       "      <td>7000</td>\n",
       "      <td>doon</td>\n",
       "    </tr>\n",
       "    <tr>\n",
       "      <th>5</th>\n",
       "      <td>60</td>\n",
       "      <td>renu</td>\n",
       "      <td>2500</td>\n",
       "      <td>noida</td>\n",
       "    </tr>\n",
       "    <tr>\n",
       "      <th>7</th>\n",
       "      <td>80</td>\n",
       "      <td>arun</td>\n",
       "      <td>3500</td>\n",
       "      <td>doon</td>\n",
       "    </tr>\n",
       "  </tbody>\n",
       "</table>\n",
       "</div>"
      ],
      "text/plain": [
       "   eno  ename   esal  eadrs\n",
       "0   10  nitin  75000  noida\n",
       "1   20   tina   8000  delhi\n",
       "2   30   arun   7000   doon\n",
       "5   60   renu   2500  noida\n",
       "7   80   arun   3500   doon"
      ]
     },
     "execution_count": 71,
     "metadata": {},
     "output_type": "execute_result"
    }
   ],
   "source": [
    "# id values are case sensitive\n",
    "\n",
    "df[df[\"eadrs\"].str.lower().isin([\"doon\" , \"noida\" , \"delhi\"])]"
   ]
  },
  {
   "cell_type": "code",
   "execution_count": null,
   "id": "f934bc84",
   "metadata": {},
   "outputs": [],
   "source": []
  },
  {
   "cell_type": "code",
   "execution_count": null,
   "id": "3e84c543",
   "metadata": {},
   "outputs": [],
   "source": []
  },
  {
   "cell_type": "code",
   "execution_count": 72,
   "id": "edbeedd1",
   "metadata": {},
   "outputs": [],
   "source": [
    "# filter from 2 tables"
   ]
  },
  {
   "cell_type": "code",
   "execution_count": 74,
   "id": "5dfadd21",
   "metadata": {},
   "outputs": [],
   "source": [
    "# we have two dataframe\n",
    "\n",
    "# df1 --> emp having - eno,ename,esal,ecity\n",
    "# df1 --> cities with highest pollution rate - city , pollution_rate\n",
    "\n",
    "# select all emp who are staying in cities where pollution_rate > 70 "
   ]
  },
  {
   "cell_type": "code",
   "execution_count": 1,
   "id": "77b0dc4c",
   "metadata": {},
   "outputs": [],
   "source": [
    "import pandas as pd\n",
    "import numpy as np"
   ]
  },
  {
   "cell_type": "code",
   "execution_count": 2,
   "id": "bd9720cd",
   "metadata": {},
   "outputs": [],
   "source": [
    "df1 = pd.read_csv(\"emp1.csv\")\n",
    "df2 = pd.read_csv(\"city_pollution.csv\")"
   ]
  },
  {
   "cell_type": "code",
   "execution_count": 3,
   "id": "38c713a6",
   "metadata": {},
   "outputs": [
    {
     "name": "stdout",
     "output_type": "stream",
     "text": [
      "   eno  ename  esal      eadrs\n",
      "0   10  nitin  7500      noida\n",
      "1   20   tina  8500      delhi\n",
      "2   30   arun  7000       doon\n",
      "3   40   tina  6000     shimla\n",
      "4   50  tannu  4000  rishikesh\n",
      "5   60   renu  2500      noida\n",
      "6   70  nitin  1500     shimla\n",
      "7   80   arun  3500       doon\n",
      "8   90   aman  3000  rishikesh\n",
      "9   10  nitin  7500      noida\n",
      "        city  pollution_rate\n",
      "0      noida             120\n",
      "1      delhi              90\n",
      "2       doon              40\n",
      "3  rishikesh              30\n",
      "4     shimla              25\n"
     ]
    }
   ],
   "source": [
    "print(df1)\n",
    "print(df2)"
   ]
  },
  {
   "cell_type": "code",
   "execution_count": 86,
   "id": "bd665ec0",
   "metadata": {},
   "outputs": [
    {
     "data": {
      "text/plain": [
       "0    noida\n",
       "1    delhi\n",
       "Name: city, dtype: object"
      ]
     },
     "execution_count": 86,
     "metadata": {},
     "output_type": "execute_result"
    }
   ],
   "source": [
    "df2[df2[\"pollution_rate\"]>70][\"city\"]"
   ]
  },
  {
   "cell_type": "code",
   "execution_count": 88,
   "id": "7130c295",
   "metadata": {},
   "outputs": [
    {
     "data": {
      "text/html": [
       "<div>\n",
       "<style scoped>\n",
       "    .dataframe tbody tr th:only-of-type {\n",
       "        vertical-align: middle;\n",
       "    }\n",
       "\n",
       "    .dataframe tbody tr th {\n",
       "        vertical-align: top;\n",
       "    }\n",
       "\n",
       "    .dataframe thead th {\n",
       "        text-align: right;\n",
       "    }\n",
       "</style>\n",
       "<table border=\"1\" class=\"dataframe\">\n",
       "  <thead>\n",
       "    <tr style=\"text-align: right;\">\n",
       "      <th></th>\n",
       "      <th>eno</th>\n",
       "      <th>ename</th>\n",
       "      <th>esal</th>\n",
       "      <th>eadrs</th>\n",
       "    </tr>\n",
       "  </thead>\n",
       "  <tbody>\n",
       "    <tr>\n",
       "      <th>0</th>\n",
       "      <td>10</td>\n",
       "      <td>nitin</td>\n",
       "      <td>75000</td>\n",
       "      <td>noida</td>\n",
       "    </tr>\n",
       "    <tr>\n",
       "      <th>1</th>\n",
       "      <td>20</td>\n",
       "      <td>tina</td>\n",
       "      <td>8000</td>\n",
       "      <td>delhi</td>\n",
       "    </tr>\n",
       "    <tr>\n",
       "      <th>5</th>\n",
       "      <td>60</td>\n",
       "      <td>renu</td>\n",
       "      <td>2500</td>\n",
       "      <td>noida</td>\n",
       "    </tr>\n",
       "  </tbody>\n",
       "</table>\n",
       "</div>"
      ],
      "text/plain": [
       "   eno  ename   esal  eadrs\n",
       "0   10  nitin  75000  noida\n",
       "1   20   tina   8000  delhi\n",
       "5   60   renu   2500  noida"
      ]
     },
     "execution_count": 88,
     "metadata": {},
     "output_type": "execute_result"
    }
   ],
   "source": [
    "df1[df1[\"eadrs\"].isin(df2[df2[\"pollution_rate\"]>70][\"city\"])]"
   ]
  },
  {
   "cell_type": "code",
   "execution_count": 113,
   "id": "12498af6",
   "metadata": {},
   "outputs": [
    {
     "data": {
      "text/html": [
       "<div>\n",
       "<style scoped>\n",
       "    .dataframe tbody tr th:only-of-type {\n",
       "        vertical-align: middle;\n",
       "    }\n",
       "\n",
       "    .dataframe tbody tr th {\n",
       "        vertical-align: top;\n",
       "    }\n",
       "\n",
       "    .dataframe thead th {\n",
       "        text-align: right;\n",
       "    }\n",
       "</style>\n",
       "<table border=\"1\" class=\"dataframe\">\n",
       "  <thead>\n",
       "    <tr style=\"text-align: right;\">\n",
       "      <th></th>\n",
       "      <th>eno</th>\n",
       "      <th>ename</th>\n",
       "      <th>esal</th>\n",
       "      <th>eadrs</th>\n",
       "    </tr>\n",
       "  </thead>\n",
       "  <tbody>\n",
       "    <tr>\n",
       "      <th>0</th>\n",
       "      <td>10</td>\n",
       "      <td>nitin</td>\n",
       "      <td>75000</td>\n",
       "      <td>noida</td>\n",
       "    </tr>\n",
       "    <tr>\n",
       "      <th>1</th>\n",
       "      <td>20</td>\n",
       "      <td>tina</td>\n",
       "      <td>8000</td>\n",
       "      <td>delhi</td>\n",
       "    </tr>\n",
       "    <tr>\n",
       "      <th>5</th>\n",
       "      <td>60</td>\n",
       "      <td>renu</td>\n",
       "      <td>2500</td>\n",
       "      <td>noida</td>\n",
       "    </tr>\n",
       "  </tbody>\n",
       "</table>\n",
       "</div>"
      ],
      "text/plain": [
       "   eno  ename   esal  eadrs\n",
       "0   10  nitin  75000  noida\n",
       "1   20   tina   8000  delhi\n",
       "5   60   renu   2500  noida"
      ]
     },
     "execution_count": 113,
     "metadata": {},
     "output_type": "execute_result"
    }
   ],
   "source": [
    "# or \n",
    "\n",
    "x = df2[df2[\"pollution_rate\"]>70][\"city\"]\n",
    "\n",
    "df1[df1[\"eadrs\"].isin(x)]"
   ]
  },
  {
   "cell_type": "code",
   "execution_count": null,
   "id": "96397c1d",
   "metadata": {},
   "outputs": [],
   "source": []
  },
  {
   "cell_type": "code",
   "execution_count": 94,
   "id": "7a5c6794",
   "metadata": {},
   "outputs": [],
   "source": [
    "# how to check inclusion with range of values by using between method"
   ]
  },
  {
   "cell_type": "code",
   "execution_count": 95,
   "id": "dd024efd",
   "metadata": {},
   "outputs": [],
   "source": [
    "# select all emp where salary >3500 and <7000"
   ]
  },
  {
   "cell_type": "code",
   "execution_count": 5,
   "id": "486e8c53",
   "metadata": {},
   "outputs": [
    {
     "data": {
      "text/html": [
       "<div>\n",
       "<style scoped>\n",
       "    .dataframe tbody tr th:only-of-type {\n",
       "        vertical-align: middle;\n",
       "    }\n",
       "\n",
       "    .dataframe tbody tr th {\n",
       "        vertical-align: top;\n",
       "    }\n",
       "\n",
       "    .dataframe thead th {\n",
       "        text-align: right;\n",
       "    }\n",
       "</style>\n",
       "<table border=\"1\" class=\"dataframe\">\n",
       "  <thead>\n",
       "    <tr style=\"text-align: right;\">\n",
       "      <th></th>\n",
       "      <th>eno</th>\n",
       "      <th>ename</th>\n",
       "      <th>esal</th>\n",
       "      <th>eadrs</th>\n",
       "    </tr>\n",
       "  </thead>\n",
       "  <tbody>\n",
       "    <tr>\n",
       "      <th>0</th>\n",
       "      <td>10</td>\n",
       "      <td>nitin</td>\n",
       "      <td>7500</td>\n",
       "      <td>noida</td>\n",
       "    </tr>\n",
       "    <tr>\n",
       "      <th>1</th>\n",
       "      <td>20</td>\n",
       "      <td>tina</td>\n",
       "      <td>8500</td>\n",
       "      <td>delhi</td>\n",
       "    </tr>\n",
       "    <tr>\n",
       "      <th>2</th>\n",
       "      <td>30</td>\n",
       "      <td>arun</td>\n",
       "      <td>7000</td>\n",
       "      <td>doon</td>\n",
       "    </tr>\n",
       "    <tr>\n",
       "      <th>3</th>\n",
       "      <td>40</td>\n",
       "      <td>tina</td>\n",
       "      <td>6000</td>\n",
       "      <td>shimla</td>\n",
       "    </tr>\n",
       "    <tr>\n",
       "      <th>4</th>\n",
       "      <td>50</td>\n",
       "      <td>tannu</td>\n",
       "      <td>4000</td>\n",
       "      <td>rishikesh</td>\n",
       "    </tr>\n",
       "    <tr>\n",
       "      <th>5</th>\n",
       "      <td>60</td>\n",
       "      <td>renu</td>\n",
       "      <td>2500</td>\n",
       "      <td>noida</td>\n",
       "    </tr>\n",
       "    <tr>\n",
       "      <th>6</th>\n",
       "      <td>70</td>\n",
       "      <td>nitin</td>\n",
       "      <td>1500</td>\n",
       "      <td>shimla</td>\n",
       "    </tr>\n",
       "    <tr>\n",
       "      <th>7</th>\n",
       "      <td>80</td>\n",
       "      <td>arun</td>\n",
       "      <td>3500</td>\n",
       "      <td>doon</td>\n",
       "    </tr>\n",
       "    <tr>\n",
       "      <th>8</th>\n",
       "      <td>90</td>\n",
       "      <td>aman</td>\n",
       "      <td>3000</td>\n",
       "      <td>rishikesh</td>\n",
       "    </tr>\n",
       "  </tbody>\n",
       "</table>\n",
       "</div>"
      ],
      "text/plain": [
       "   eno  ename  esal      eadrs\n",
       "0   10  nitin  7500      noida\n",
       "1   20   tina  8500      delhi\n",
       "2   30   arun  7000       doon\n",
       "3   40   tina  6000     shimla\n",
       "4   50  tannu  4000  rishikesh\n",
       "5   60   renu  2500      noida\n",
       "6   70  nitin  1500     shimla\n",
       "7   80   arun  3500       doon\n",
       "8   90   aman  3000  rishikesh"
      ]
     },
     "execution_count": 5,
     "metadata": {},
     "output_type": "execute_result"
    }
   ],
   "source": [
    "df = pd.read_csv(\"emp1.csv\")\n",
    "df"
   ]
  },
  {
   "cell_type": "code",
   "execution_count": 6,
   "id": "701391bc",
   "metadata": {},
   "outputs": [
    {
     "data": {
      "text/html": [
       "<div>\n",
       "<style scoped>\n",
       "    .dataframe tbody tr th:only-of-type {\n",
       "        vertical-align: middle;\n",
       "    }\n",
       "\n",
       "    .dataframe tbody tr th {\n",
       "        vertical-align: top;\n",
       "    }\n",
       "\n",
       "    .dataframe thead th {\n",
       "        text-align: right;\n",
       "    }\n",
       "</style>\n",
       "<table border=\"1\" class=\"dataframe\">\n",
       "  <thead>\n",
       "    <tr style=\"text-align: right;\">\n",
       "      <th></th>\n",
       "      <th>eno</th>\n",
       "      <th>ename</th>\n",
       "      <th>esal</th>\n",
       "      <th>eadrs</th>\n",
       "    </tr>\n",
       "  </thead>\n",
       "  <tbody>\n",
       "    <tr>\n",
       "      <th>3</th>\n",
       "      <td>40</td>\n",
       "      <td>tina</td>\n",
       "      <td>6000</td>\n",
       "      <td>shimla</td>\n",
       "    </tr>\n",
       "    <tr>\n",
       "      <th>4</th>\n",
       "      <td>50</td>\n",
       "      <td>tannu</td>\n",
       "      <td>4000</td>\n",
       "      <td>rishikesh</td>\n",
       "    </tr>\n",
       "    <tr>\n",
       "      <th>7</th>\n",
       "      <td>80</td>\n",
       "      <td>arun</td>\n",
       "      <td>3500</td>\n",
       "      <td>doon</td>\n",
       "    </tr>\n",
       "  </tbody>\n",
       "</table>\n",
       "</div>"
      ],
      "text/plain": [
       "   eno  ename  esal      eadrs\n",
       "3   40   tina  6000     shimla\n",
       "4   50  tannu  4000  rishikesh\n",
       "7   80   arun  3500       doon"
      ]
     },
     "execution_count": 6,
     "metadata": {},
     "output_type": "execute_result"
    }
   ],
   "source": [
    "# without using between method\n",
    "\n",
    "c1 = df[\"esal\"]>3000\n",
    "c2 = df[\"esal\"]<7000\n",
    "\n",
    "df[c1&c2]"
   ]
  },
  {
   "cell_type": "code",
   "execution_count": 48,
   "id": "093453ec",
   "metadata": {},
   "outputs": [
    {
     "data": {
      "text/html": [
       "<div>\n",
       "<style scoped>\n",
       "    .dataframe tbody tr th:only-of-type {\n",
       "        vertical-align: middle;\n",
       "    }\n",
       "\n",
       "    .dataframe tbody tr th {\n",
       "        vertical-align: top;\n",
       "    }\n",
       "\n",
       "    .dataframe thead th {\n",
       "        text-align: right;\n",
       "    }\n",
       "</style>\n",
       "<table border=\"1\" class=\"dataframe\">\n",
       "  <thead>\n",
       "    <tr style=\"text-align: right;\">\n",
       "      <th></th>\n",
       "      <th>eno</th>\n",
       "      <th>ename</th>\n",
       "      <th>esal</th>\n",
       "      <th>eadrs</th>\n",
       "    </tr>\n",
       "  </thead>\n",
       "  <tbody>\n",
       "    <tr>\n",
       "      <th>2</th>\n",
       "      <td>30</td>\n",
       "      <td>arun</td>\n",
       "      <td>7000</td>\n",
       "      <td>doon</td>\n",
       "    </tr>\n",
       "    <tr>\n",
       "      <th>3</th>\n",
       "      <td>40</td>\n",
       "      <td>tina</td>\n",
       "      <td>6000</td>\n",
       "      <td>shimla</td>\n",
       "    </tr>\n",
       "    <tr>\n",
       "      <th>4</th>\n",
       "      <td>50</td>\n",
       "      <td>tannu</td>\n",
       "      <td>6000</td>\n",
       "      <td>agra</td>\n",
       "    </tr>\n",
       "    <tr>\n",
       "      <th>7</th>\n",
       "      <td>80</td>\n",
       "      <td>arun</td>\n",
       "      <td>3500</td>\n",
       "      <td>doon</td>\n",
       "    </tr>\n",
       "    <tr>\n",
       "      <th>8</th>\n",
       "      <td>90</td>\n",
       "      <td>arun</td>\n",
       "      <td>3000</td>\n",
       "      <td>rishikesh</td>\n",
       "    </tr>\n",
       "  </tbody>\n",
       "</table>\n",
       "</div>"
      ],
      "text/plain": [
       "   eno  ename  esal      eadrs\n",
       "2   30   arun  7000       doon\n",
       "3   40   tina  6000     shimla\n",
       "4   50  tannu  6000       agra\n",
       "7   80   arun  3500       doon\n",
       "8   90   arun  3000  rishikesh"
      ]
     },
     "execution_count": 48,
     "metadata": {},
     "output_type": "execute_result"
    }
   ],
   "source": [
    "# using between method\n",
    "\n",
    "x = df[\"esal\"].between(3000,7000)      # upper and lower limit both included\n",
    "\n",
    "df[x]"
   ]
  },
  {
   "cell_type": "code",
   "execution_count": null,
   "id": "41f65c65",
   "metadata": {},
   "outputs": [],
   "source": []
  },
  {
   "cell_type": "code",
   "execution_count": null,
   "id": "ed3205bb",
   "metadata": {},
   "outputs": [],
   "source": []
  },
  {
   "cell_type": "code",
   "execution_count": null,
   "id": "d1493550",
   "metadata": {},
   "outputs": [],
   "source": []
  },
  {
   "cell_type": "code",
   "execution_count": 49,
   "id": "f775ae2b",
   "metadata": {},
   "outputs": [],
   "source": [
    "import pandas as pd"
   ]
  },
  {
   "cell_type": "code",
   "execution_count": 50,
   "id": "f72b7125",
   "metadata": {},
   "outputs": [],
   "source": [
    "df1 = pd.read_csv(\"emp1.csv\")\n",
    "df2 = pd.read_csv(\"city_pollution.csv\")"
   ]
  },
  {
   "cell_type": "code",
   "execution_count": 51,
   "id": "44e0c0fb",
   "metadata": {},
   "outputs": [
    {
     "data": {
      "text/html": [
       "<div>\n",
       "<style scoped>\n",
       "    .dataframe tbody tr th:only-of-type {\n",
       "        vertical-align: middle;\n",
       "    }\n",
       "\n",
       "    .dataframe tbody tr th {\n",
       "        vertical-align: top;\n",
       "    }\n",
       "\n",
       "    .dataframe thead th {\n",
       "        text-align: right;\n",
       "    }\n",
       "</style>\n",
       "<table border=\"1\" class=\"dataframe\">\n",
       "  <thead>\n",
       "    <tr style=\"text-align: right;\">\n",
       "      <th></th>\n",
       "      <th>eno</th>\n",
       "      <th>ename</th>\n",
       "      <th>esal</th>\n",
       "      <th>eadrs</th>\n",
       "    </tr>\n",
       "  </thead>\n",
       "  <tbody>\n",
       "    <tr>\n",
       "      <th>0</th>\n",
       "      <td>10</td>\n",
       "      <td>nitin</td>\n",
       "      <td>7500</td>\n",
       "      <td>noida</td>\n",
       "    </tr>\n",
       "    <tr>\n",
       "      <th>1</th>\n",
       "      <td>20</td>\n",
       "      <td>tina</td>\n",
       "      <td>8500</td>\n",
       "      <td>delhi</td>\n",
       "    </tr>\n",
       "    <tr>\n",
       "      <th>2</th>\n",
       "      <td>30</td>\n",
       "      <td>arun</td>\n",
       "      <td>7000</td>\n",
       "      <td>doon</td>\n",
       "    </tr>\n",
       "    <tr>\n",
       "      <th>3</th>\n",
       "      <td>40</td>\n",
       "      <td>tina</td>\n",
       "      <td>6000</td>\n",
       "      <td>shimla</td>\n",
       "    </tr>\n",
       "    <tr>\n",
       "      <th>4</th>\n",
       "      <td>50</td>\n",
       "      <td>tannu</td>\n",
       "      <td>4000</td>\n",
       "      <td>rishikesh</td>\n",
       "    </tr>\n",
       "    <tr>\n",
       "      <th>5</th>\n",
       "      <td>60</td>\n",
       "      <td>renu</td>\n",
       "      <td>2500</td>\n",
       "      <td>noida</td>\n",
       "    </tr>\n",
       "    <tr>\n",
       "      <th>6</th>\n",
       "      <td>70</td>\n",
       "      <td>nitin</td>\n",
       "      <td>1500</td>\n",
       "      <td>shimla</td>\n",
       "    </tr>\n",
       "    <tr>\n",
       "      <th>7</th>\n",
       "      <td>80</td>\n",
       "      <td>arun</td>\n",
       "      <td>3500</td>\n",
       "      <td>doon</td>\n",
       "    </tr>\n",
       "    <tr>\n",
       "      <th>8</th>\n",
       "      <td>90</td>\n",
       "      <td>aman</td>\n",
       "      <td>3000</td>\n",
       "      <td>rishikesh</td>\n",
       "    </tr>\n",
       "    <tr>\n",
       "      <th>9</th>\n",
       "      <td>10</td>\n",
       "      <td>nitin</td>\n",
       "      <td>7500</td>\n",
       "      <td>noida</td>\n",
       "    </tr>\n",
       "  </tbody>\n",
       "</table>\n",
       "</div>"
      ],
      "text/plain": [
       "   eno  ename  esal      eadrs\n",
       "0   10  nitin  7500      noida\n",
       "1   20   tina  8500      delhi\n",
       "2   30   arun  7000       doon\n",
       "3   40   tina  6000     shimla\n",
       "4   50  tannu  4000  rishikesh\n",
       "5   60   renu  2500      noida\n",
       "6   70  nitin  1500     shimla\n",
       "7   80   arun  3500       doon\n",
       "8   90   aman  3000  rishikesh\n",
       "9   10  nitin  7500      noida"
      ]
     },
     "execution_count": 51,
     "metadata": {},
     "output_type": "execute_result"
    }
   ],
   "source": [
    "df1"
   ]
  },
  {
   "cell_type": "code",
   "execution_count": 52,
   "id": "cf26c63f",
   "metadata": {},
   "outputs": [
    {
     "data": {
      "text/html": [
       "<div>\n",
       "<style scoped>\n",
       "    .dataframe tbody tr th:only-of-type {\n",
       "        vertical-align: middle;\n",
       "    }\n",
       "\n",
       "    .dataframe tbody tr th {\n",
       "        vertical-align: top;\n",
       "    }\n",
       "\n",
       "    .dataframe thead th {\n",
       "        text-align: right;\n",
       "    }\n",
       "</style>\n",
       "<table border=\"1\" class=\"dataframe\">\n",
       "  <thead>\n",
       "    <tr style=\"text-align: right;\">\n",
       "      <th></th>\n",
       "      <th>city</th>\n",
       "      <th>pollution_rate</th>\n",
       "    </tr>\n",
       "  </thead>\n",
       "  <tbody>\n",
       "    <tr>\n",
       "      <th>0</th>\n",
       "      <td>noida</td>\n",
       "      <td>120</td>\n",
       "    </tr>\n",
       "    <tr>\n",
       "      <th>1</th>\n",
       "      <td>delhi</td>\n",
       "      <td>90</td>\n",
       "    </tr>\n",
       "    <tr>\n",
       "      <th>2</th>\n",
       "      <td>doon</td>\n",
       "      <td>40</td>\n",
       "    </tr>\n",
       "    <tr>\n",
       "      <th>3</th>\n",
       "      <td>rishikesh</td>\n",
       "      <td>30</td>\n",
       "    </tr>\n",
       "    <tr>\n",
       "      <th>4</th>\n",
       "      <td>shimla</td>\n",
       "      <td>25</td>\n",
       "    </tr>\n",
       "  </tbody>\n",
       "</table>\n",
       "</div>"
      ],
      "text/plain": [
       "        city  pollution_rate\n",
       "0      noida             120\n",
       "1      delhi              90\n",
       "2       doon              40\n",
       "3  rishikesh              30\n",
       "4     shimla              25"
      ]
     },
     "execution_count": 52,
     "metadata": {},
     "output_type": "execute_result"
    }
   ],
   "source": [
    "df2"
   ]
  },
  {
   "cell_type": "code",
   "execution_count": 72,
   "id": "66574b95",
   "metadata": {},
   "outputs": [],
   "source": [
    "arun= df2[df2['pollution_rate']>60][\"city\"]"
   ]
  },
  {
   "cell_type": "code",
   "execution_count": 73,
   "id": "045d63a3",
   "metadata": {},
   "outputs": [
    {
     "data": {
      "text/plain": [
       "0    noida\n",
       "1    delhi\n",
       "Name: city, dtype: object"
      ]
     },
     "execution_count": 73,
     "metadata": {},
     "output_type": "execute_result"
    }
   ],
   "source": [
    "arun"
   ]
  },
  {
   "cell_type": "code",
   "execution_count": 76,
   "id": "9fe07ea3",
   "metadata": {},
   "outputs": [
    {
     "name": "stdout",
     "output_type": "stream",
     "text": [
      "   eno  ename  esal  eadrs\n",
      "0   10  nitin  7500  noida\n",
      "5   60   renu  2500  noida\n",
      "9   10  nitin  7500  noida\n",
      "   eno ename  esal  eadrs\n",
      "1   20  tina  8500  delhi\n"
     ]
    }
   ],
   "source": [
    "for i in arun:\n",
    "    print(df1[df1['eadrs']==i])"
   ]
  },
  {
   "cell_type": "code",
   "execution_count": 64,
   "id": "9bec39b6",
   "metadata": {},
   "outputs": [
    {
     "data": {
      "text/plain": [
       "array(['noida', 'delhi'], dtype=object)"
      ]
     },
     "execution_count": 64,
     "metadata": {},
     "output_type": "execute_result"
    }
   ],
   "source": [
    "arun['city'].values"
   ]
  },
  {
   "cell_type": "code",
   "execution_count": null,
   "id": "c7b302c0",
   "metadata": {},
   "outputs": [],
   "source": []
  },
  {
   "cell_type": "code",
   "execution_count": 78,
   "id": "3bb83c44",
   "metadata": {},
   "outputs": [
    {
     "name": "stdout",
     "output_type": "stream",
     "text": [
      "eno,ename,esal,eadrs\n",
      "10,nikhil,7500,noida\n",
      "20,tina,8500,delhi\n",
      "30,arun,7000,doon\n",
      "40,kajal,6000,shimla\n",
      "50,NaN,4000,doon\n",
      "60,renu,2500,NaN\n",
      "70,NaN,1500,shimla\n",
      "80,arun,NaN,doon\n",
      "90,aman,NaN,rishikesh\n",
      "10,nitin,7500,noida\n"
     ]
    }
   ],
   "source": [
    "f = open(\"emp.csv\" , \"r\")\n",
    "print(f.read())"
   ]
  },
  {
   "cell_type": "code",
   "execution_count": null,
   "id": "1762b3a3",
   "metadata": {},
   "outputs": [],
   "source": []
  },
  {
   "cell_type": "code",
   "execution_count": 3,
   "id": "08a32484",
   "metadata": {},
   "outputs": [],
   "source": [
    "df1 = pd.read_csv(\"emp1.csv\")\n",
    "df2 = pd.read_csv(\"city_pollution.csv\")"
   ]
  },
  {
   "cell_type": "code",
   "execution_count": 4,
   "id": "27cb9132",
   "metadata": {},
   "outputs": [
    {
     "data": {
      "text/html": [
       "<div>\n",
       "<style scoped>\n",
       "    .dataframe tbody tr th:only-of-type {\n",
       "        vertical-align: middle;\n",
       "    }\n",
       "\n",
       "    .dataframe tbody tr th {\n",
       "        vertical-align: top;\n",
       "    }\n",
       "\n",
       "    .dataframe thead th {\n",
       "        text-align: right;\n",
       "    }\n",
       "</style>\n",
       "<table border=\"1\" class=\"dataframe\">\n",
       "  <thead>\n",
       "    <tr style=\"text-align: right;\">\n",
       "      <th></th>\n",
       "      <th>eno</th>\n",
       "      <th>ename</th>\n",
       "      <th>esal</th>\n",
       "      <th>eadrs</th>\n",
       "    </tr>\n",
       "  </thead>\n",
       "  <tbody>\n",
       "    <tr>\n",
       "      <th>0</th>\n",
       "      <td>10</td>\n",
       "      <td>nitin</td>\n",
       "      <td>7500</td>\n",
       "      <td>noida</td>\n",
       "    </tr>\n",
       "    <tr>\n",
       "      <th>1</th>\n",
       "      <td>20</td>\n",
       "      <td>tina</td>\n",
       "      <td>8500</td>\n",
       "      <td>delhi</td>\n",
       "    </tr>\n",
       "    <tr>\n",
       "      <th>2</th>\n",
       "      <td>30</td>\n",
       "      <td>arun</td>\n",
       "      <td>7000</td>\n",
       "      <td>doon</td>\n",
       "    </tr>\n",
       "    <tr>\n",
       "      <th>3</th>\n",
       "      <td>40</td>\n",
       "      <td>tina</td>\n",
       "      <td>6000</td>\n",
       "      <td>shimla</td>\n",
       "    </tr>\n",
       "    <tr>\n",
       "      <th>4</th>\n",
       "      <td>50</td>\n",
       "      <td>tannu</td>\n",
       "      <td>4000</td>\n",
       "      <td>rishikesh</td>\n",
       "    </tr>\n",
       "    <tr>\n",
       "      <th>5</th>\n",
       "      <td>60</td>\n",
       "      <td>renu</td>\n",
       "      <td>2500</td>\n",
       "      <td>noida</td>\n",
       "    </tr>\n",
       "    <tr>\n",
       "      <th>6</th>\n",
       "      <td>70</td>\n",
       "      <td>nitin</td>\n",
       "      <td>1500</td>\n",
       "      <td>shimla</td>\n",
       "    </tr>\n",
       "    <tr>\n",
       "      <th>7</th>\n",
       "      <td>80</td>\n",
       "      <td>arun</td>\n",
       "      <td>3500</td>\n",
       "      <td>doon</td>\n",
       "    </tr>\n",
       "    <tr>\n",
       "      <th>8</th>\n",
       "      <td>90</td>\n",
       "      <td>aman</td>\n",
       "      <td>3000</td>\n",
       "      <td>rishikesh</td>\n",
       "    </tr>\n",
       "    <tr>\n",
       "      <th>9</th>\n",
       "      <td>10</td>\n",
       "      <td>nitin</td>\n",
       "      <td>7500</td>\n",
       "      <td>noida</td>\n",
       "    </tr>\n",
       "  </tbody>\n",
       "</table>\n",
       "</div>"
      ],
      "text/plain": [
       "   eno  ename  esal      eadrs\n",
       "0   10  nitin  7500      noida\n",
       "1   20   tina  8500      delhi\n",
       "2   30   arun  7000       doon\n",
       "3   40   tina  6000     shimla\n",
       "4   50  tannu  4000  rishikesh\n",
       "5   60   renu  2500      noida\n",
       "6   70  nitin  1500     shimla\n",
       "7   80   arun  3500       doon\n",
       "8   90   aman  3000  rishikesh\n",
       "9   10  nitin  7500      noida"
      ]
     },
     "execution_count": 4,
     "metadata": {},
     "output_type": "execute_result"
    }
   ],
   "source": [
    "df1"
   ]
  },
  {
   "cell_type": "code",
   "execution_count": null,
   "id": "17206aae",
   "metadata": {},
   "outputs": [],
   "source": []
  },
  {
   "cell_type": "code",
   "execution_count": 25,
   "id": "9d679a24",
   "metadata": {},
   "outputs": [
    {
     "data": {
      "text/html": [
       "<div>\n",
       "<style scoped>\n",
       "    .dataframe tbody tr th:only-of-type {\n",
       "        vertical-align: middle;\n",
       "    }\n",
       "\n",
       "    .dataframe tbody tr th {\n",
       "        vertical-align: top;\n",
       "    }\n",
       "\n",
       "    .dataframe thead th {\n",
       "        text-align: right;\n",
       "    }\n",
       "</style>\n",
       "<table border=\"1\" class=\"dataframe\">\n",
       "  <thead>\n",
       "    <tr style=\"text-align: right;\">\n",
       "      <th></th>\n",
       "      <th>eno</th>\n",
       "      <th>ename</th>\n",
       "      <th>esal</th>\n",
       "      <th>eadrs</th>\n",
       "    </tr>\n",
       "  </thead>\n",
       "  <tbody>\n",
       "    <tr>\n",
       "      <th>0</th>\n",
       "      <td>10</td>\n",
       "      <td>nitin</td>\n",
       "      <td>7500</td>\n",
       "      <td>noida</td>\n",
       "    </tr>\n",
       "    <tr>\n",
       "      <th>1</th>\n",
       "      <td>20</td>\n",
       "      <td>tina</td>\n",
       "      <td>8500</td>\n",
       "      <td>delhi</td>\n",
       "    </tr>\n",
       "    <tr>\n",
       "      <th>5</th>\n",
       "      <td>60</td>\n",
       "      <td>renu</td>\n",
       "      <td>2500</td>\n",
       "      <td>noida</td>\n",
       "    </tr>\n",
       "    <tr>\n",
       "      <th>9</th>\n",
       "      <td>10</td>\n",
       "      <td>nitin</td>\n",
       "      <td>7500</td>\n",
       "      <td>noida</td>\n",
       "    </tr>\n",
       "  </tbody>\n",
       "</table>\n",
       "</div>"
      ],
      "text/plain": [
       "   eno  ename  esal  eadrs\n",
       "0   10  nitin  7500  noida\n",
       "1   20   tina  8500  delhi\n",
       "5   60   renu  2500  noida\n",
       "9   10  nitin  7500  noida"
      ]
     },
     "execution_count": 25,
     "metadata": {},
     "output_type": "execute_result"
    }
   ],
   "source": [
    "df1[df1[\"eadrs\"].isin(df2[df2['pollution_rate']>60]['city'])]"
   ]
  },
  {
   "cell_type": "code",
   "execution_count": null,
   "id": "bd018c01",
   "metadata": {},
   "outputs": [],
   "source": []
  },
  {
   "cell_type": "code",
   "execution_count": null,
   "id": "87b207b7",
   "metadata": {},
   "outputs": [],
   "source": []
  },
  {
   "cell_type": "code",
   "execution_count": null,
   "id": "aa0b715a",
   "metadata": {},
   "outputs": [],
   "source": []
  },
  {
   "cell_type": "code",
   "execution_count": null,
   "id": "bcce1526",
   "metadata": {},
   "outputs": [],
   "source": []
  }
 ],
 "metadata": {
  "kernelspec": {
   "display_name": "Python 3 (ipykernel)",
   "language": "python",
   "name": "python3"
  },
  "language_info": {
   "codemirror_mode": {
    "name": "ipython",
    "version": 3
   },
   "file_extension": ".py",
   "mimetype": "text/x-python",
   "name": "python",
   "nbconvert_exporter": "python",
   "pygments_lexer": "ipython3",
   "version": "3.12.4"
  }
 },
 "nbformat": 4,
 "nbformat_minor": 5
}
