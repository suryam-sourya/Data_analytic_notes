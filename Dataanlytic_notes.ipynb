{
 "cells": [
  {
   "cell_type": "code",
   "execution_count": null,
   "metadata": {},
   "outputs": [],
   "source": [
    "# python \n",
    "# python project\n",
    "# Numpy\n",
    "# pandas\n",
    "# library project\n",
    "# matplotlib\n",
    "# sql\n",
    "# basic project\n",
    "# excel\n",
    "# tableau\n",
    "# power BI\n",
    "# complex project"
   ]
  },
  {
   "cell_type": "markdown",
   "metadata": {},
   "source": [
    "## Python Day1"
   ]
  },
  {
   "cell_type": "code",
   "execution_count": 1,
   "metadata": {},
   "outputs": [
    {
     "name": "stdout",
     "output_type": "stream",
     "text": [
      "Hello World!\n"
     ]
    }
   ],
   "source": [
    "# frist program\n",
    "\n",
    "print('Hello World!')\n",
    "\n",
    "# print is a function"
   ]
  },
  {
   "cell_type": "code",
   "execution_count": 2,
   "metadata": {},
   "outputs": [
    {
     "name": "stdout",
     "output_type": "stream",
     "text": [
      "My name is suryam\n",
      "my age is 23\n",
      "My name is suryam my age is 23\n"
     ]
    }
   ],
   "source": [
    "# diffrent line\n",
    "print(\"My name is suryam\")\n",
    "\n",
    "print('my age is 23')\n",
    "#  whish to print in same line\n",
    "print(\"My name is suryam\",'my age is 23')"
   ]
  },
  {
   "cell_type": "code",
   "execution_count": 2,
   "metadata": {},
   "outputs": [
    {
     "name": "stdout",
     "output_type": "stream",
     "text": [
      "name\n",
      "suryam\n",
      "my name is : suryam\n",
      "my age is: 23\n"
     ]
    }
   ],
   "source": [
    "# variable\n",
    "name='suryam' \n",
    "age= 23 \n",
    "price = 25.99 \n",
    " \n",
    "print(\"name\")\n",
    "#  to print value\n",
    "print(name)\n",
    "\n",
    "print(\"my name is :\", name)\n",
    "print(\"my age is:\", age)\n"
   ]
  },
  {
   "cell_type": "code",
   "execution_count": null,
   "metadata": {},
   "outputs": [
    {
     "name": "stdout",
     "output_type": "stream",
     "text": [
      "my name is  suryam  and my age is 23\n"
     ]
    }
   ],
   "source": [
    "print(\"my name is \", name ,\" and my age is\", age) "
   ]
  },
  {
   "cell_type": "code",
   "execution_count": null,
   "metadata": {},
   "outputs": [],
   "source": [
    "# name\n",
    "# Name\n",
    "# nAme\n",
    "# case sensitive"
   ]
  },
  {
   "cell_type": "code",
   "execution_count": null,
   "metadata": {},
   "outputs": [],
   "source": []
  },
  {
   "cell_type": "code",
   "execution_count": null,
   "metadata": {},
   "outputs": [
    {
     "data": {
      "text/plain": [
       "str"
      ]
     },
     "execution_count": 5,
     "metadata": {},
     "output_type": "execute_result"
    }
   ],
   "source": [
    "#  it could contain any upper to lower case and digits or an underscore \n",
    "\n",
    "# myvariable, Variable_1 variable_for_print1 allowed\n",
    "\n",
    "# not allowed 1variable we caanot keep digit first\n",
    "\n",
    "# try to keep understundable name\n",
    "\n",
    "\n",
    "\n",
    "type(name)"
   ]
  },
  {
   "cell_type": "code",
   "execution_count": null,
   "metadata": {},
   "outputs": [],
   "source": [
    "# primary data type\n",
    "\n",
    "# integer +ve 0 -ve\n",
    "# string\n",
    "# float decimal\n",
    "# Boolean True or false\n",
    "# None "
   ]
  },
  {
   "cell_type": "code",
   "execution_count": null,
   "metadata": {},
   "outputs": [],
   "source": [
    "# variable name cannot be keywords if, else\n",
    "\n"
   ]
  },
  {
   "cell_type": "code",
   "execution_count": null,
   "metadata": {},
   "outputs": [],
   "source": [
    "# keywords\n",
    "# rserved word\n",
    "\n",
    "# and , as assert, break, class, continue, def, del,elif,else,\n",
    "# except,finally, False, for, from, global, if, import,in,is,lambda,\n",
    "# nonlocal,None not, or,pass, raise, return, True, try, with, while,yield"
   ]
  },
  {
   "cell_type": "code",
   "execution_count": null,
   "metadata": {},
   "outputs": [
    {
     "name": "stdout",
     "output_type": "stream",
     "text": [
      "50\n"
     ]
    }
   ],
   "source": [
    "# Write a program to sum of two numbers\n",
    "# a, b = map(int, input().split())\n",
    "# result = lambda a,b : a+b\n",
    "# print(result(a,b))"
   ]
  },
  {
   "cell_type": "code",
   "execution_count": null,
   "metadata": {},
   "outputs": [],
   "source": [
    "\"\"\"\n",
    "Type of operations\n",
    "\n",
    "Arithmetic operations (+,-,*,/,%,**)\n",
    "\n",
    "Relational /comarision operators (==,!=,<,>,<=,>=)\n",
    "\n",
    "Assignment operators(=,+=,-=,*=,/=,%=,**=)\n",
    "\n",
    "Logical operators(not, and, or)\n",
    "\n",
    "\"\"\""
   ]
  },
  {
   "cell_type": "code",
   "execution_count": 5,
   "metadata": {},
   "outputs": [
    {
     "data": {
      "text/plain": [
       "(20, 30)"
      ]
     },
     "execution_count": 5,
     "metadata": {},
     "output_type": "execute_result"
    }
   ],
   "source": [
    "a, b"
   ]
  },
  {
   "cell_type": "code",
   "execution_count": null,
   "metadata": {},
   "outputs": [],
   "source": [
    "a= 20 \n",
    "# a/5 = remainder modulus\n",
    "# 6)20(3\n",
    "#   18\n",
    "#    2"
   ]
  },
  {
   "cell_type": "code",
   "execution_count": 10,
   "metadata": {},
   "outputs": [
    {
     "name": "stdout",
     "output_type": "stream",
     "text": [
      "2\n"
     ]
    }
   ],
   "source": [
    "print(a%6)"
   ]
  },
  {
   "cell_type": "code",
   "execution_count": null,
   "metadata": {},
   "outputs": [
    {
     "name": "stdout",
     "output_type": "stream",
     "text": [
      "50\n",
      "-10\n",
      "600\n",
      "0.6666666666666666\n",
      "1073741824000000000000000000000000000000\n",
      "20\n"
     ]
    }
   ],
   "source": [
    "# arithmetic operations\n",
    "\n",
    "print(a+b) # sum\n",
    "print(a-b) # sub\n",
    "print(a*b) #multi\n",
    "print(a/b) #div\n",
    "print(a**b) #power\n",
    "print(a%b) # modulus\n"
   ]
  },
  {
   "cell_type": "code",
   "execution_count": 11,
   "metadata": {},
   "outputs": [],
   "source": [
    "a , b= 20 , 30"
   ]
  },
  {
   "cell_type": "code",
   "execution_count": 12,
   "metadata": {},
   "outputs": [
    {
     "name": "stdout",
     "output_type": "stream",
     "text": [
      "False\n",
      "True\n",
      "False\n",
      "True\n",
      "False\n",
      "True\n"
     ]
    }
   ],
   "source": [
    "# relational opeartors \n",
    "\n",
    "print(a==b) # eqaul to \n",
    "print(a!=b) # not equal to\n",
    "print(a>=b) #grater or equal to \n",
    "print(a<=b) # smaller or equal to \n",
    "print(a>b) #grater than\n",
    "print(a<b) # smaller than"
   ]
  },
  {
   "cell_type": "code",
   "execution_count": 6,
   "metadata": {},
   "outputs": [],
   "source": [
    "# = assigment opperator\n",
    "age = 23\n",
    "\n",
    "# assigning value to the variable"
   ]
  },
  {
   "cell_type": "code",
   "execution_count": 13,
   "metadata": {},
   "outputs": [
    {
     "name": "stdout",
     "output_type": "stream",
     "text": [
      "20 20\n"
     ]
    }
   ],
   "source": [
    "# assignment operation\n",
    "num = 10\n",
    "num2= num+10 # can be rewritten \n",
    "num+=10 # in this ways\n",
    "# num= num+ 10\n",
    "# num+=10\n",
    "\n",
    "print(num, num2)\n",
    "\n",
    "# simmillarly for the diifrent assignment operator\n"
   ]
  },
  {
   "cell_type": "code",
   "execution_count": 1,
   "metadata": {},
   "outputs": [
    {
     "name": "stdout",
     "output_type": "stream",
     "text": [
      "30 <class 'int'>\n"
     ]
    }
   ],
   "source": [
    "num1= 10\n",
    "num2= 20\n",
    "print(num1+num2, type(num1+num2))"
   ]
  },
  {
   "cell_type": "code",
   "execution_count": null,
   "metadata": {},
   "outputs": [
    {
     "name": "stdout",
     "output_type": "stream",
     "text": [
      "12.345\n"
     ]
    },
    {
     "data": {
      "text/plain": [
       "float"
      ]
     },
     "execution_count": 6,
     "metadata": {},
     "output_type": "execute_result"
    }
   ],
   "source": [
    "# Type converstion (automatic converstion)\n",
    "\n",
    "num1 = 10\n",
    "# 10+2.34\n",
    "\n",
    "# 10.0+2.234\n",
    "num2 = 2.345\n",
    "print(num1+num2)\n",
    "type(num3)"
   ]
  },
  {
   "cell_type": "code",
   "execution_count": 13,
   "metadata": {},
   "outputs": [
    {
     "data": {
      "text/plain": [
       "20"
      ]
     },
     "execution_count": 13,
     "metadata": {},
     "output_type": "execute_result"
    }
   ],
   "source": [
    "#  type casting \n",
    "# num1= int(\"20\")\n",
    "\n",
    "# type(num1)\n",
    "\n",
    "num1 = 20.34\n",
    "num2=int(num1)\n",
    "num2\n",
    "\n",
    "\n",
    "# int- float -string\n",
    "# string(numbers tabhi badla ja sakta ha ) -flaot - int"
   ]
  },
  {
   "cell_type": "code",
   "execution_count": null,
   "metadata": {},
   "outputs": [],
   "source": [
    "# input \n",
    "\n",
    "# name = input('enter your name')\n",
    "num = int(input('enter your age'))\n",
    "\n",
    "# if we need float\n",
    "\n",
    "# float(input())\n",
    "\n",
    "# string\n",
    "# int\n",
    "# float\n",
    "# nma2=input(\"enter your name\")\n",
    "# name1=input()\n"
   ]
  },
  {
   "cell_type": "code",
   "execution_count": 17,
   "metadata": {},
   "outputs": [
    {
     "data": {
      "text/plain": [
       "'9'"
      ]
     },
     "execution_count": 17,
     "metadata": {},
     "output_type": "execute_result"
    }
   ],
   "source": [
    "name1"
   ]
  },
  {
   "cell_type": "code",
   "execution_count": 1,
   "metadata": {},
   "outputs": [
    {
     "name": "stdout",
     "output_type": "stream",
     "text": [
      "6.333333333333333\n"
     ]
    }
   ],
   "source": [
    "\n",
    "\n",
    "numbers= list(map(int, input().split()))\n",
    "sum = 0\n",
    "\n",
    "n = len(numbers)\n",
    "\n",
    "for num in numbers:\n",
    "    sum=+num\n",
    "\n",
    "print(sum/n)"
   ]
  },
  {
   "cell_type": "code",
   "execution_count": 4,
   "metadata": {},
   "outputs": [
    {
     "name": "stdout",
     "output_type": "stream",
     "text": [
      "15.0\n"
     ]
    }
   ],
   "source": [
    "n= int(input())\n",
    "sum=0\n",
    "for i in range(n):\n",
    "    number= int(input())\n",
    "    sum=+number\n",
    "print(sum/n)"
   ]
  },
  {
   "cell_type": "code",
   "execution_count": 5,
   "metadata": {},
   "outputs": [
    {
     "data": {
      "text/plain": [
       "90"
      ]
     },
     "execution_count": 5,
     "metadata": {},
     "output_type": "execute_result"
    }
   ],
   "source": [
    "sum"
   ]
  },
  {
   "cell_type": "code",
   "execution_count": null,
   "metadata": {},
   "outputs": [],
   "source": [
    "# WAP to input 2 number & print their sum\n",
    "# WAP to input a side of square & print it area\n",
    "# WAP to input 2 floating point number & print their average\n",
    "# WAP to input 2 int number a and b. print True if a greater or equal to . \n",
    "# if not print False."
   ]
  },
  {
   "cell_type": "code",
   "execution_count": null,
   "metadata": {},
   "outputs": [],
   "source": [
    "\"\"\"\n",
    "string\n",
    "\n",
    "it is a data type that store a sequence of character\n",
    "\n",
    "Basic operations\n",
    "\n",
    "concatenation\n",
    "\"hello\"+ \"world\" = \"helloworld\"\n",
    "\n",
    "length of str\n",
    "len(str)\n",
    "\n",
    "\"\"\""
   ]
  },
  {
   "cell_type": "code",
   "execution_count": 3,
   "metadata": {},
   "outputs": [
    {
     "data": {
      "text/plain": [
       "20"
      ]
     },
     "execution_count": 3,
     "metadata": {},
     "output_type": "execute_result"
    }
   ],
   "source": [
    "string= 'suryam        sourya'\n",
    "\n",
    "len(string)"
   ]
  },
  {
   "cell_type": "code",
   "execution_count": null,
   "metadata": {},
   "outputs": [],
   "source": [
    "str1= \"hello this is string\"\n",
    "str2= 'hlloworld'\n",
    "str3=\"\"\"this also string\"\"\"\n",
    "\n",
    "# \"'\""
   ]
  },
  {
   "cell_type": "code",
   "execution_count": null,
   "metadata": {},
   "outputs": [],
   "source": [
    "# escape sequence character\n",
    "# \\n next line\n",
    "# \\t tab space"
   ]
  },
  {
   "cell_type": "code",
   "execution_count": null,
   "metadata": {},
   "outputs": [
    {
     "name": "stdout",
     "output_type": "stream",
     "text": [
      "This python revsion class. \n",
      "This class is hosted by \tMR.suryam sourya\n"
     ]
    }
   ],
   "source": [
    "sentence= \"This python revsion class. \\nThis class is hosted by \\tMR.suryam sourya\"\n",
    "print(sentence)"
   ]
  },
  {
   "cell_type": "code",
   "execution_count": 20,
   "metadata": {},
   "outputs": [
    {
     "data": {
      "text/plain": [
       "'l'"
      ]
     },
     "execution_count": 20,
     "metadata": {},
     "output_type": "execute_result"
    }
   ],
   "source": [
    "# indexing\n",
    "\n",
    "# s u r y a m _ s o u r  y  a\n",
    "# 0 1 2 3 4 5 6 7 8 9 10 11 12\n",
    "\n",
    "# stri= \"suryam sourya\"\n",
    "# stri[0] is s\n",
    "# stri[1] is u\n",
    "# stri[6]='r' not possible\n",
    "\n",
    "senten= \"Muskan patyal\"\n",
    "\n",
    "senten[12]\n",
    "\n",
    "# len(senten)"
   ]
  },
  {
   "cell_type": "code",
   "execution_count": 35,
   "metadata": {},
   "outputs": [
    {
     "data": {
      "text/plain": [
       "'Mk tl'"
      ]
     },
     "execution_count": 35,
     "metadata": {},
     "output_type": "execute_result"
    }
   ],
   "source": [
    "senten= \"Muskan patyal\"\n",
    "\n",
    "# 1-5: 1, 2, 3, 4\n",
    "# len(se)\n",
    "\n",
    "# senten[1:len(senten)]\n",
    "# senten[1:]\n",
    "senten[-5:]\n",
    "senten[:5]\n",
    "senten[0:5]\n",
    "\n",
    "senten[::-1]\n",
    "\n",
    "# star stop step\n",
    "senten[::3]"
   ]
  },
  {
   "cell_type": "code",
   "execution_count": null,
   "metadata": {},
   "outputs": [],
   "source": [
    "# slicing\n",
    "# Acessing part of a string\n",
    "# str[staring_index:ending _index] ending index is not consider\n",
    "# str[1:4] is 'ury'\n",
    "# str[:4] is same as str[0:4]\n",
    "# str[1:] is same as str[1:len(str)]\n",
    "\n",
    "#   left to right flow indexing always\n",
    "\n",
    "# negative index\n",
    "#  A  P  P  l  E\n",
    "# -5 -4 -3 -2 -1\n"
   ]
  },
  {
   "cell_type": "code",
   "execution_count": null,
   "metadata": {},
   "outputs": [],
   "source": [
    "# str = “I am a coder.”\n",
    "\n",
    "# str.endsWith(“er.“) #returns true if string ends with substr\n",
    "# str.count(“am“) #counts the occurrence of substr in string\n",
    "# str.capitalize( ) #capitalizes 1st char\n",
    "\n",
    "# str.find( word ) #returns 1st index of 1st occurrence\n",
    "# str.replace( old, new ) #replaces all occurrences of old with new\n"
   ]
  },
  {
   "cell_type": "code",
   "execution_count": null,
   "metadata": {},
   "outputs": [],
   "source": []
  },
  {
   "cell_type": "code",
   "execution_count": null,
   "metadata": {},
   "outputs": [],
   "source": [
    "# WAP to find the occurrence of ‘$’ in a String.\n",
    "# WAP to input user’s first name & print its length."
   ]
  },
  {
   "cell_type": "code",
   "execution_count": null,
   "metadata": {},
   "outputs": [],
   "source": [
    "# Conditional Statements\n",
    "\n",
    "# if-elif-else (SYNTAX)\n",
    "\n",
    "# if(condition) :\n",
    "\n",
    "# Statement1\n",
    "\n",
    "# elif(condition):\n",
    "\n",
    "# Statement2\n",
    "\n",
    "# else:\n",
    "\n",
    "# StatementN"
   ]
  },
  {
   "cell_type": "markdown",
   "metadata": {},
   "source": [
    "<!-- Grade students based on marks\n",
    "\n",
    "marks >= 90, grade =“A”\n",
    "\n",
    "90 > marks >= 80, grade =“B”\n",
    "\n",
    "80 > marks >= 70, grade =“C”\n",
    "\n",
    "70 > marks, grade =“D” -->"
   ]
  },
  {
   "cell_type": "code",
   "execution_count": null,
   "metadata": {},
   "outputs": [],
   "source": [
    "# Grade students based on marks\n",
    "\n",
    "# marks >= 90, grade =“A”\n",
    "\n",
    "# 90 > marks >= 80, grade =“B”\n",
    "\n",
    "# 80 > marks >= 70, grade =“C”\n",
    "\n",
    "# 70 > marks, grade =“D” "
   ]
  },
  {
   "cell_type": "code",
   "execution_count": null,
   "metadata": {},
   "outputs": [],
   "source": [
    "# voter, traffic light"
   ]
  },
  {
   "cell_type": "code",
   "execution_count": null,
   "metadata": {},
   "outputs": [],
   "source": [
    "# if , elif diffrence\n",
    "# elif once if is flase the it look forward otherwise stop\n",
    "# there will one else\n",
    "# if, elif can be many"
   ]
  },
  {
   "cell_type": "code",
   "execution_count": null,
   "metadata": {},
   "outputs": [],
   "source": [
    "# nesting conditional \n",
    "#  if inside if\n"
   ]
  },
  {
   "cell_type": "code",
   "execution_count": null,
   "metadata": {},
   "outputs": [],
   "source": [
    "# wap to check if a number entererd by user is odd or even.\n",
    "# wap to find greatest of three num entered by user.\n",
    "# wap to check if a number is amultiple of 7 or not"
   ]
  },
  {
   "cell_type": "code",
   "execution_count": null,
   "metadata": {},
   "outputs": [],
   "source": [
    "# wap to find largest of four no."
   ]
  },
  {
   "cell_type": "code",
   "execution_count": null,
   "metadata": {},
   "outputs": [],
   "source": []
  },
  {
   "cell_type": "code",
   "execution_count": 1,
   "metadata": {},
   "outputs": [],
   "source": [
    "import os"
   ]
  },
  {
   "cell_type": "code",
   "execution_count": 3,
   "metadata": {},
   "outputs": [
    {
     "name": "stdout",
     "output_type": "stream",
     "text": [
      "c:\\Users\\Suriyam\\Desktop\\python\\revesion\n"
     ]
    }
   ],
   "source": [
    "print(os.getcwd())"
   ]
  },
  {
   "cell_type": "code",
   "execution_count": null,
   "metadata": {},
   "outputs": [],
   "source": [
    "# if else\n",
    "\n",
    "# if can be repeat n no of times\n",
    "# if \n",
    "# elif can be repeat n no of times\n",
    "# elif \n",
    "# elif\n",
    "\n",
    "# else:"
   ]
  },
  {
   "cell_type": "code",
   "execution_count": 1,
   "metadata": {},
   "outputs": [
    {
     "name": "stdout",
     "output_type": "stream",
     "text": [
      "grater than 2\n",
      "grater than three\n"
     ]
    }
   ],
   "source": [
    "num = 5\n",
    "\n",
    "if num>2:\n",
    "    print('grater than 2')\n",
    "if num>3:\n",
    "    print(\"grater than three\")\n"
   ]
  },
  {
   "cell_type": "code",
   "execution_count": 2,
   "metadata": {},
   "outputs": [
    {
     "name": "stdout",
     "output_type": "stream",
     "text": [
      "grater than 2\n"
     ]
    }
   ],
   "source": [
    "if num>2:\n",
    "    print('grater than 2')\n",
    "elif num>3:\n",
    "    print(\"grater than three\")"
   ]
  },
  {
   "cell_type": "code",
   "execution_count": null,
   "metadata": {},
   "outputs": [
    {
     "name": "stdout",
     "output_type": "stream",
     "text": [
      "grater than three\n"
     ]
    }
   ],
   "source": [
    "if num>5:\n",
    "    print('grater than 2') #false\n",
    "elif num>3:\n",
    "    print(\"grater than three\")\n",
    "# if num>4:\n",
    "#     print(\"grater than four\")"
   ]
  },
  {
   "cell_type": "code",
   "execution_count": 6,
   "metadata": {},
   "outputs": [
    {
     "name": "stdout",
     "output_type": "stream",
     "text": [
      "grater than 2\n",
      "grater than three\n"
     ]
    }
   ],
   "source": [
    "# Nested\n",
    "\n",
    "if num>2:\n",
    "    print('grater than 2') #indentation\n",
    "    if num>3:\n",
    "        print(\"grater than three\")\n",
    "elif num>4:\n",
    "    print(\"grater than four\")"
   ]
  },
  {
   "cell_type": "code",
   "execution_count": 9,
   "metadata": {},
   "outputs": [
    {
     "name": "stdout",
     "output_type": "stream",
     "text": [
      "eligible\n",
      "renew\n"
     ]
    }
   ],
   "source": [
    "# driving licence\n",
    "\n",
    "age = 41\n",
    "\n",
    "if age>= 18:\n",
    "    print(\"eligible\")\n",
    "    if age>=40:\n",
    "        print('renew')\n",
    "else:\n",
    "    print(\"not eligible\")\n",
    "\n"
   ]
  },
  {
   "cell_type": "code",
   "execution_count": null,
   "metadata": {},
   "outputs": [],
   "source": [
    "# if \n",
    "# if \n",
    "# elif\n",
    "# elif\n",
    "\n",
    "# else"
   ]
  },
  {
   "cell_type": "code",
   "execution_count": 3,
   "metadata": {},
   "outputs": [
    {
     "name": "stdout",
     "output_type": "stream",
     "text": [
      "num is grater than three\n",
      "num i sgrtaer than 4\n"
     ]
    }
   ],
   "source": [
    "num = 5\n",
    "if num>3:\n",
    "    print('num is grater than three')  # if this tatement true thna elif dosenot occurs\n",
    "\n",
    "elif num>4:\n",
    "    print('num i sgrtaer than 4')\n",
    "if num>4:\n",
    "    print('num i sgrtaer than 4')\n",
    "\n",
    "else:\n",
    "    print(\"num is less tha 5\")"
   ]
  },
  {
   "cell_type": "code",
   "execution_count": 2,
   "metadata": {},
   "outputs": [
    {
     "name": "stdout",
     "output_type": "stream",
     "text": [
      "num is grater than three\n",
      "num i sgrtaer than 4\n"
     ]
    }
   ],
   "source": [
    "if num>3:\n",
    "    print('num is grater than three')  # if this tatement true thna elif dosenot occurs\n",
    "\n",
    "if num>4:\n",
    "    print('num i sgrtaer than 4')\n",
    "else:\n",
    "    print(\"num is less tha 5\")"
   ]
  },
  {
   "cell_type": "code",
   "execution_count": 6,
   "metadata": {},
   "outputs": [
    {
     "name": "stdout",
     "output_type": "stream",
     "text": [
      "eligible to drive\n",
      "renew the driving licences\n"
     ]
    }
   ],
   "source": [
    "#  nested\n",
    "\n",
    "age= 141\n",
    "\n",
    "if age>=18:\n",
    "    print('eligible to drive')\n",
    "    if age>40:\n",
    "        print('renew the driving licences')\n",
    "else:\n",
    "    print('not eligible to drive')"
   ]
  },
  {
   "cell_type": "code",
   "execution_count": null,
   "metadata": {},
   "outputs": [],
   "source": [
    "# create a calculator to perform arthemtic operation"
   ]
  },
  {
   "cell_type": "code",
   "execution_count": null,
   "metadata": {},
   "outputs": [],
   "source": [
    "num1= int(input())\n",
    "num2=int(input())\n",
    "operator= input('enter arthemtic operation')\n",
    "\n",
    "if operator==\"+\":\n",
    "    print(num1+num2)"
   ]
  },
  {
   "cell_type": "code",
   "execution_count": null,
   "metadata": {},
   "outputs": [],
   "source": [
    "l=[1,9,4,8,3,0]"
   ]
  },
  {
   "cell_type": "code",
   "execution_count": 4,
   "metadata": {},
   "outputs": [],
   "source": [
    "l1=l.sort()"
   ]
  },
  {
   "cell_type": "code",
   "execution_count": 5,
   "metadata": {},
   "outputs": [
    {
     "name": "stdout",
     "output_type": "stream",
     "text": [
      "None\n"
     ]
    }
   ],
   "source": [
    "print(l1)"
   ]
  },
  {
   "cell_type": "code",
   "execution_count": null,
   "metadata": {},
   "outputs": [],
   "source": []
  }
 ],
 "metadata": {
  "kernelspec": {
   "display_name": "Python 3",
   "language": "python",
   "name": "python3"
  },
  "language_info": {
   "codemirror_mode": {
    "name": "ipython",
    "version": 3
   },
   "file_extension": ".py",
   "mimetype": "text/x-python",
   "name": "python",
   "nbconvert_exporter": "python",
   "pygments_lexer": "ipython3",
   "version": "3.13.0"
  }
 },
 "nbformat": 4,
 "nbformat_minor": 2
}
