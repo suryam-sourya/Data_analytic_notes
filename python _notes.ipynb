{
 "cells": [
  {
   "cell_type": "markdown",
   "metadata": {},
   "source": [
    "String"
   ]
  },
  {
   "cell_type": "code",
   "execution_count": null,
   "metadata": {},
   "outputs": [],
   "source": [
    "my_string = \"Hello\"\n",
    "print(my_string)"
   ]
  },
  {
   "cell_type": "markdown",
   "metadata": {},
   "source": [
    "String operations"
   ]
  },
  {
   "cell_type": "code",
   "execution_count": null,
   "metadata": {},
   "outputs": [],
   "source": [
    "# Convert to uppercase\n",
    "my_string.upper()\n",
    "\n",
    "# Check if all characters are uppercase\n",
    "my_string.isupper()\n",
    "\n",
    "# Convert to lowercase\n",
    "my_string.lower()\n",
    "\n",
    "# Check if all characters are lowercase\n",
    "my_string.islower()\n",
    "\n",
    "# Get the length of the string\n",
    "len(my_string)\n",
    "\n",
    "# Find the index of the first occurrence of a character ('l')\n",
    "my_string.find('l')\n",
    "\n",
    "# Check if a character or substring is in the string\n",
    "'l' in my_string   # Returns True\n",
    "'Hello' in my_string  # Returns True\n",
    "'l' not in my_string  # Returns False\n",
    "\n",
    "# Replace part of the string\n",
    "my_string.replace(\"H\", \"C\")\n"
   ]
  },
  {
   "cell_type": "markdown",
   "metadata": {},
   "source": [
    "Indexing"
   ]
  },
  {
   "cell_type": "code",
   "execution_count": null,
   "metadata": {},
   "outputs": [],
   "source": [
    "# Access a specific character using index\n",
    "# Indexing starts at 0\n",
    "my_string[2]   # 'l'\n"
   ]
  },
  {
   "cell_type": "markdown",
   "metadata": {},
   "source": [
    "Slicing"
   ]
  },
  {
   "cell_type": "code",
   "execution_count": null,
   "metadata": {},
   "outputs": [],
   "source": [
    "# Slice the string: get a substring from start index to stop index (not inclusive)\n",
    "my_string[0:5]  # 'Hello'\n",
    "\n",
    "# Slice with step\n",
    "my_string[0::2]  # 'Hlo'\n",
    "\n",
    "# Reverse the string\n",
    "my_string[::-1]  # 'olleH'"
   ]
  },
  {
   "cell_type": "markdown",
   "metadata": {},
   "source": [
    "String Concatenation"
   ]
  },
  {
   "cell_type": "code",
   "execution_count": null,
   "metadata": {},
   "outputs": [],
   "source": [
    "string1 = \"suryam\"\n",
    "string2 = \"sourya\"\n",
    "\n",
    "# Concatenate without space\n",
    "string = string1 + string2\n",
    "print(string)\n",
    "\n",
    "# Concatenate with space\n",
    "String = string1 + \" \" + string2\n",
    "print(String)\n"
   ]
  },
  {
   "cell_type": "markdown",
   "metadata": {},
   "source": [
    "Integer"
   ]
  },
  {
   "cell_type": "code",
   "execution_count": null,
   "metadata": {},
   "outputs": [],
   "source": [
    "# Whole number\n",
    "my_integer = 12321\n",
    "print(my_integer)\n"
   ]
  },
  {
   "cell_type": "markdown",
   "metadata": {},
   "source": [
    "Float"
   ]
  },
  {
   "cell_type": "code",
   "execution_count": null,
   "metadata": {},
   "outputs": [],
   "source": [
    "# Decimal number\n",
    "my_decimal = 3.14\n",
    "print(my_decimal)\n"
   ]
  },
  {
   "cell_type": "markdown",
   "metadata": {},
   "source": [
    "Boolean"
   ]
  },
  {
   "cell_type": "code",
   "execution_count": null,
   "metadata": {},
   "outputs": [],
   "source": [
    "# True or False\n",
    "a = True\n",
    "b = False\n",
    "print(a)\n",
    "print(b)\n"
   ]
  },
  {
   "cell_type": "markdown",
   "metadata": {},
   "source": [
    "Type of Variable"
   ]
  },
  {
   "cell_type": "code",
   "execution_count": null,
   "metadata": {},
   "outputs": [],
   "source": [
    "# Find the data type of a variable\n",
    "type(a)  # <class 'bool'>"
   ]
  },
  {
   "cell_type": "markdown",
   "metadata": {},
   "source": [
    "operations"
   ]
  },
  {
   "cell_type": "code",
   "execution_count": null,
   "metadata": {},
   "outputs": [],
   "source": [
    "num1 = 23\n",
    "num2 = 11\n",
    "\n",
    "# Arithmetic Operations\n",
    "num1 + num2  # Addition\n",
    "num1 - num2  # Subtraction\n",
    "num1 * num2  # Multiplication\n",
    "num1 / num2  # Division (always returns float)\n",
    "num1 // num2  # Integer Division\n",
    "num1 % num2  # Modulus (remainder)\n",
    "\n",
    "# Comparison Operators (returns True or False)\n",
    "num1 == num2  # Equal\n",
    "num1 < num2   # Less Than\n",
    "num1 > num2   # Greater Than\n",
    "num1 >= num2  # Greater Than or Equal\n",
    "num1 <= num2  # Less Than or Equal\n",
    "num1 != num2  # Not Equal"
   ]
  },
  {
   "cell_type": "markdown",
   "metadata": {},
   "source": [
    "Data Structure"
   ]
  },
  {
   "cell_type": "markdown",
   "metadata": {},
   "source": [
    "List"
   ]
  },
  {
   "cell_type": "code",
   "execution_count": null,
   "metadata": {},
   "outputs": [],
   "source": [
    "# List is a changeable collection of objects\n",
    "my_collection = [1, 1, 3.12, False, \"Hi\"]\n",
    "\n",
    "# List Operations\n",
    "len(my_collection)  # Length of list\n",
    "\n",
    "my_collection.extend([\"More\", \"Items\"])  # Add multiple items\n",
    "my_collection.append(\"Single\")  # Add a single item\n",
    "\n",
    "del(my_collection[2])  # Delete the item at index 2\n",
    "my_collection.remove(1)  # Remove the first occurrence of the value 1\n",
    "my_collection.pop()  # Remove the last element\n",
    "\n",
    "clone = my_collection[:]  # Clone the list\n",
    "\n",
    "# Concatenate two lists\n",
    "my_collection_2 = [\"a\", \"b\", \"c\"]\n",
    "my_collection_3 = my_collection + my_collection_2\n",
    "\n",
    "# Sum of a list of numbers\n",
    "number_collection = [1, 2, 3, 4.5]\n",
    "sum(number_collection)  # Returns 10.5\n",
    "\n",
    "# Check if an item is in a list\n",
    "'Hi' in my_collection  # Returns True\n",
    "'Hi' not in my_collection  # Returns False\n",
    "\n",
    "# Indexing\n",
    "my_collection[2]  # Access item at index 2\n",
    "\n",
    "# Slicing\n",
    "my_collection[1:5]  # Slice from index 1 to 4\n",
    "\n",
    "# insert\n",
    "my_collection.insert(3, 5) # format is fist index and athen what to be addded\n",
    "\n",
    "# sort\n",
    "my_collection.sort()\n",
    "\n",
    "# reverse\n",
    "my_collection.reverse()"
   ]
  },
  {
   "cell_type": "markdown",
   "metadata": {},
   "source": [
    "Set"
   ]
  },
  {
   "cell_type": "code",
   "execution_count": null,
   "metadata": {},
   "outputs": [],
   "source": [
    "# Unordered collection of unique elements\n",
    "my_set = {1, 2, 3, 3, 4}\n",
    "my_set.add(5)  # Add element\n",
    "my_set.remove(2)  # Remove element\n",
    "\n",
    "# Set Operations\n",
    "set1 = {1, 2, 3}\n",
    "set2 = {3, 4, 5}\n",
    "\n",
    "# Union\n",
    "set1.union(set2)  # {1, 2, 3, 4, 5}\n",
    "\n",
    "# Intersection\n",
    "set1.intersection(set2)  # {3}\n",
    "\n",
    "\n"
   ]
  },
  {
   "cell_type": "markdown",
   "metadata": {},
   "source": [
    "Dictionary"
   ]
  },
  {
   "cell_type": "code",
   "execution_count": null,
   "metadata": {},
   "outputs": [],
   "source": [
    "# Key-value pairs\n",
    "my_dict = {\"name\": \"John\", \"age\": 25}\n",
    "\n",
    "# Accessing value\n",
    "my_dict[\"name\"]  # 'John'\n",
    "\n",
    "# Add or update a key-value pair\n",
    "my_dict[\"location\"] = \"New York\"\n",
    "\n",
    "# Remove an item\n",
    "del my_dict[\"age\"]\n",
    "\n",
    "# Get all keys\n",
    "my_dict.keys()  # dict_keys(['name', 'location'])\n",
    "\n",
    "# Get all values\n",
    "my_dict.values()  # dict_values(['John', 'New York'])\n"
   ]
  },
  {
   "cell_type": "markdown",
   "metadata": {},
   "source": [
    "Tuple"
   ]
  },
  {
   "cell_type": "code",
   "execution_count": null,
   "metadata": {},
   "outputs": [],
   "source": [
    "# Immutable ordered collection\n",
    "my_tuple = (1, 2, 3, \"Hello\")\n",
    "\n",
    "# Accessing tuple elements\n",
    "my_tuple[1]  # 2\n",
    "\n",
    "# Slicing\n",
    "my_tuple[1:3]  # (2, 3)\n",
    "\n",
    "my_tuple.index()\n",
    "\n",
    "my_tuple.count()"
   ]
  }
 ],
 "metadata": {
  "kernelspec": {
   "display_name": "Python 3",
   "language": "python",
   "name": "python3"
  },
  "language_info": {
   "codemirror_mode": {
    "name": "ipython",
    "version": 3
   },
   "file_extension": ".py",
   "mimetype": "text/x-python",
   "name": "python",
   "nbconvert_exporter": "python",
   "pygments_lexer": "ipython3",
   "version": "3.13.0"
  }
 },
 "nbformat": 4,
 "nbformat_minor": 2
}
